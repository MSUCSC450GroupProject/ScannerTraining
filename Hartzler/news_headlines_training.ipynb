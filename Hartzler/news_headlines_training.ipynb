{
  "cells": [
    {
      "cell_type": "code",
      "execution_count": 48,
      "metadata": {
        "colab": {
          "base_uri": "https://localhost:8080/"
        },
        "id": "9mW3Mt2q5kL2",
        "outputId": "1f717156-f8a5-4109-e235-39cad15eb4bf"
      },
      "outputs": [
        {
          "name": "stdout",
          "output_type": "stream",
          "text": [
            "2.10.0\n"
          ]
        }
      ],
      "source": [
        "##import the required libraries and APIs\n",
        "import numpy as np\n",
        "import pandas as pd\n",
        "import tensorflow as tf\n",
        "\n",
        "print(tf.__version__)"
      ]
    },
    {
      "cell_type": "code",
      "execution_count": 49,
      "metadata": {},
      "outputs": [
        {
          "data": {
            "text/html": [
              "<div>\n",
              "<style scoped>\n",
              "    .dataframe tbody tr th:only-of-type {\n",
              "        vertical-align: middle;\n",
              "    }\n",
              "\n",
              "    .dataframe tbody tr th {\n",
              "        vertical-align: top;\n",
              "    }\n",
              "\n",
              "    .dataframe thead th {\n",
              "        text-align: right;\n",
              "    }\n",
              "</style>\n",
              "<table border=\"1\" class=\"dataframe\">\n",
              "  <thead>\n",
              "    <tr style=\"text-align: right;\">\n",
              "      <th></th>\n",
              "      <th>is_sarcastic</th>\n",
              "      <th>headline</th>\n",
              "      <th>article_link</th>\n",
              "    </tr>\n",
              "  </thead>\n",
              "  <tbody>\n",
              "    <tr>\n",
              "      <th>0</th>\n",
              "      <td>1</td>\n",
              "      <td>thirtysomething scientists unveil doomsday clo...</td>\n",
              "      <td>https://www.theonion.com/thirtysomething-scien...</td>\n",
              "    </tr>\n",
              "    <tr>\n",
              "      <th>1</th>\n",
              "      <td>0</td>\n",
              "      <td>dem rep. totally nails why congress is falling...</td>\n",
              "      <td>https://www.huffingtonpost.com/entry/donna-edw...</td>\n",
              "    </tr>\n",
              "    <tr>\n",
              "      <th>2</th>\n",
              "      <td>0</td>\n",
              "      <td>eat your veggies: 9 deliciously different recipes</td>\n",
              "      <td>https://www.huffingtonpost.com/entry/eat-your-...</td>\n",
              "    </tr>\n",
              "    <tr>\n",
              "      <th>3</th>\n",
              "      <td>1</td>\n",
              "      <td>inclement weather prevents liar from getting t...</td>\n",
              "      <td>https://local.theonion.com/inclement-weather-p...</td>\n",
              "    </tr>\n",
              "    <tr>\n",
              "      <th>4</th>\n",
              "      <td>1</td>\n",
              "      <td>mother comes pretty close to using word 'strea...</td>\n",
              "      <td>https://www.theonion.com/mother-comes-pretty-c...</td>\n",
              "    </tr>\n",
              "  </tbody>\n",
              "</table>\n",
              "</div>"
            ],
            "text/plain": [
              "   is_sarcastic                                           headline  \\\n",
              "0             1  thirtysomething scientists unveil doomsday clo...   \n",
              "1             0  dem rep. totally nails why congress is falling...   \n",
              "2             0  eat your veggies: 9 deliciously different recipes   \n",
              "3             1  inclement weather prevents liar from getting t...   \n",
              "4             1  mother comes pretty close to using word 'strea...   \n",
              "\n",
              "                                        article_link  \n",
              "0  https://www.theonion.com/thirtysomething-scien...  \n",
              "1  https://www.huffingtonpost.com/entry/donna-edw...  \n",
              "2  https://www.huffingtonpost.com/entry/eat-your-...  \n",
              "3  https://local.theonion.com/inclement-weather-p...  \n",
              "4  https://www.theonion.com/mother-comes-pretty-c...  "
            ]
          },
          "execution_count": 49,
          "metadata": {},
          "output_type": "execute_result"
        }
      ],
      "source": [
        "data = pd.read_json(\"./data/x1.json\")\n",
        "data.head()"
      ]
    },
    {
      "cell_type": "code",
      "execution_count": 50,
      "metadata": {},
      "outputs": [],
      "source": [
        "##create arrays to store the headlines and labels\n",
        "headlines = list(data['headline'])\n",
        "labels = list(data['is_sarcastic'])\n",
        "text_dataset = tf.data.Dataset.from_tensor_slices(headlines)"
      ]
    },
    {
      "cell_type": "code",
      "execution_count": 51,
      "metadata": {
        "id": "SaOVx5_QWZJw"
      },
      "outputs": [],
      "source": [
        "##define the parameters for tokenizing and padding\n",
        "vocab_size = 10000\n",
        "embedding_dim = 32\n",
        "max_length = 120\n",
        "padding_type = 'post'\n",
        "trunc_type='post'\n",
        "oov_tok = \"<OOV>\"\n",
        "training_size = 24000"
      ]
    },
    {
      "cell_type": "code",
      "execution_count": 52,
      "metadata": {},
      "outputs": [],
      "source": [
        "##create the text vectorization layer and create the vocab\n",
        "vectorize_layer = tf.keras.layers.TextVectorization(max_tokens=vocab_size, standardize='lower_and_strip_punctuation', split='whitespace', output_mode='int', output_sequence_length=max_length)\n",
        "\n",
        "vectorize_layer.adapt(text_dataset.batch(64))"
      ]
    },
    {
      "cell_type": "code",
      "execution_count": 53,
      "metadata": {
        "id": "JdDjMIDFebsD"
      },
      "outputs": [],
      "source": [
        "model = tf.keras.Sequential([\n",
        "    vectorize_layer,\n",
        "    tf.keras.layers.Embedding(vocab_size, embedding_dim, input_length=max_length),\n",
        "    tf.keras.layers.Bidirectional(tf.keras.layers.LSTM(128, return_sequences=True)),\n",
        "    tf.keras.layers.Bidirectional(tf.keras.layers.LSTM(64)),\n",
        "    tf.keras.layers.Dense(32, activation='relu'),\n",
        "    tf.keras.layers.Dense(1, activation='sigmoid')\n",
        "])\n",
        "model.compile(loss='binary_crossentropy',optimizer='adam',metrics=['accuracy'])"
      ]
    },
    {
      "cell_type": "code",
      "execution_count": 54,
      "metadata": {
        "colab": {
          "base_uri": "https://localhost:8080/"
        },
        "id": "si5PeFv4ed5J",
        "outputId": "0bac4edf-5c5a-495d-95e1-e12136b276b8"
      },
      "outputs": [
        {
          "name": "stdout",
          "output_type": "stream",
          "text": [
            "Model: \"sequential_2\"\n",
            "_________________________________________________________________\n",
            " Layer (type)                Output Shape              Param #   \n",
            "=================================================================\n",
            " text_vectorization_12 (Text  (None, 120)              0         \n",
            " Vectorization)                                                  \n",
            "                                                                 \n",
            " embedding_2 (Embedding)     (None, 120, 32)           320000    \n",
            "                                                                 \n",
            " bidirectional_4 (Bidirectio  (None, 120, 256)         164864    \n",
            " nal)                                                            \n",
            "                                                                 \n",
            " bidirectional_5 (Bidirectio  (None, 128)              164352    \n",
            " nal)                                                            \n",
            "                                                                 \n",
            " dense_4 (Dense)             (None, 32)                4128      \n",
            "                                                                 \n",
            " dense_5 (Dense)             (None, 1)                 33        \n",
            "                                                                 \n",
            "=================================================================\n",
            "Total params: 653,377\n",
            "Trainable params: 653,377\n",
            "Non-trainable params: 0\n",
            "_________________________________________________________________\n"
          ]
        }
      ],
      "source": [
        "model.summary()"
      ]
    },
    {
      "cell_type": "code",
      "execution_count": 55,
      "metadata": {},
      "outputs": [],
      "source": [
        "##training set from 0 to training size\n",
        "training_sentences = headlines[0:training_size]\n",
        "training_labels = labels[0:training_size]\n",
        "\n",
        "##testing set from training size to the end\n",
        "testing_sentences = headlines[training_size:]\n",
        "testing_labels = labels[training_size:]"
      ]
    },
    {
      "cell_type": "code",
      "execution_count": 56,
      "metadata": {
        "colab": {
          "base_uri": "https://localhost:8080/"
        },
        "id": "hFZGH6WXeZAZ",
        "outputId": "dcf95096-9007-47dd-ec87-97d990636976"
      },
      "outputs": [
        {
          "name": "stdout",
          "output_type": "stream",
          "text": [
            "Epoch 1/10\n",
            "750/750 [==============================] - 196s 254ms/step - loss: 0.3960 - accuracy: 0.8150 - val_loss: 0.3208 - val_accuracy: 0.8591\n",
            "Epoch 2/10\n",
            "750/750 [==============================] - 249s 333ms/step - loss: 0.2327 - accuracy: 0.9071 - val_loss: 0.3440 - val_accuracy: 0.8545\n",
            "Epoch 3/10\n",
            "750/750 [==============================] - 252s 335ms/step - loss: 0.1491 - accuracy: 0.9431 - val_loss: 0.3674 - val_accuracy: 0.8554\n",
            "Epoch 4/10\n",
            "750/750 [==============================] - 247s 330ms/step - loss: 0.0859 - accuracy: 0.9698 - val_loss: 0.4472 - val_accuracy: 0.8539\n",
            "Epoch 5/10\n",
            "750/750 [==============================] - 249s 332ms/step - loss: 0.0496 - accuracy: 0.9838 - val_loss: 0.5605 - val_accuracy: 0.8426\n",
            "Epoch 6/10\n",
            "750/750 [==============================] - 252s 337ms/step - loss: 0.0320 - accuracy: 0.9897 - val_loss: 0.6124 - val_accuracy: 0.8515\n",
            "Epoch 7/10\n",
            "750/750 [==============================] - 251s 334ms/step - loss: 0.0265 - accuracy: 0.9912 - val_loss: 0.7142 - val_accuracy: 0.8523\n",
            "Epoch 8/10\n",
            "750/750 [==============================] - 259s 345ms/step - loss: 0.0162 - accuracy: 0.9952 - val_loss: 0.8054 - val_accuracy: 0.8521\n",
            "Epoch 9/10\n",
            "750/750 [==============================] - 263s 350ms/step - loss: 0.0137 - accuracy: 0.9956 - val_loss: 0.8028 - val_accuracy: 0.8469\n",
            "Epoch 10/10\n",
            "750/750 [==============================] - 264s 352ms/step - loss: 0.0140 - accuracy: 0.9954 - val_loss: 0.9439 - val_accuracy: 0.8391\n"
          ]
        }
      ],
      "source": [
        "num_epochs = 10\n",
        "history = model.fit(\n",
        "    training_sentences, \n",
        "    training_labels, \n",
        "    epochs=num_epochs, \n",
        "    validation_data=(testing_sentences, testing_labels)\n",
        "    )"
      ]
    },
    {
      "cell_type": "markdown",
      "metadata": {
        "id": "8wSIt3eGJkH2"
      },
      "source": [
        "## Visualise the accuracy and loss"
      ]
    },
    {
      "cell_type": "code",
      "execution_count": 57,
      "metadata": {
        "colab": {
          "base_uri": "https://localhost:8080/",
          "height": 541
        },
        "id": "bwDNKN5ZEZw4",
        "outputId": "4511de88-88ae-4950-8c7f-ac4224de13ca"
      },
      "outputs": [
        {
          "data": {
            "image/png": "[encoded data removed]",
            "text/plain": [
              "<Figure size 432x288 with 1 Axes>"
            ]
          },
          "metadata": {
            "needs_background": "light"
          },
          "output_type": "display_data"
        },
        {
          "data": {
            "image/png": "[encoded data removed]",
            "text/plain": [
              "<Figure size 432x288 with 1 Axes>"
            ]
          },
          "metadata": {
            "needs_background": "light"
          },
          "output_type": "display_data"
        }
      ],
      "source": [
        "import matplotlib.pyplot as plt\n",
        "\n",
        "\n",
        "def plot_metrics(history, metric):\n",
        "  plt.plot(history.history[metric])\n",
        "  plt.plot(history.history['val_'+metric])\n",
        "  plt.xlabel(\"Epochs\")\n",
        "  plt.ylabel(metric)\n",
        "  plt.legend([metric, 'val_'+metric])\n",
        "  plt.show()\n",
        "  \n",
        "plot_metrics(history, \"accuracy\")\n",
        "plot_metrics(history, \"loss\")"
      ]
    },
    {
      "cell_type": "markdown",
      "metadata": {
        "id": "L5FtFOrRJmqF"
      },
      "source": [
        "## Classify new reviews"
      ]
    },
    {
      "cell_type": "code",
      "execution_count": 58,
      "metadata": {
        "colab": {
          "base_uri": "https://localhost:8080/"
        },
        "id": "2cVc8w-tejyj",
        "outputId": "d40c081e-65ba-40f5-b009-4f258184348f"
      },
      "outputs": [
        {
          "name": "stdout",
          "output_type": "stream",
          "text": [
            "1/1 [==============================] - 1s 1s/step\n",
            "[[2.7460430e-05]\n",
            " [1.4347495e-01]]\n"
          ]
        }
      ],
      "source": [
        "sentence = [\"the baby boy fears spiders in the garden might be real\", \"game of thrones season finale showing this sunday night\"]\n",
        "print(model.predict(sentence))"
      ]
    },
    {
      "cell_type": "code",
      "execution_count": 64,
      "metadata": {
        "id": "CwT0yxfRgZY_"
      },
      "outputs": [
        {
          "name": "stderr",
          "output_type": "stream",
          "text": [
            "WARNING:absl:Found untraced functions such as lstm_cell_13_layer_call_fn, lstm_cell_13_layer_call_and_return_conditional_losses, lstm_cell_14_layer_call_fn, lstm_cell_14_layer_call_and_return_conditional_losses, lstm_cell_16_layer_call_fn while saving (showing 5 of 8). These functions will not be directly callable after loading.\n"
          ]
        },
        {
          "name": "stdout",
          "output_type": "stream",
          "text": [
            "INFO:tensorflow:Assets written to: C:\\Users\\ftn0813\\Documents\\GitHub\\ScannerBackEnd\\ScannerBackEndHTTP\\saved_tensorflow_model\\assets\n"
          ]
        },
        {
          "name": "stderr",
          "output_type": "stream",
          "text": [
            "INFO:tensorflow:Assets written to: C:\\Users\\ftn0813\\Documents\\GitHub\\ScannerBackEnd\\ScannerBackEndHTTP\\saved_tensorflow_model\\assets\n"
          ]
        }
      ],
      "source": [
        "model.save('C:\\\\Users\\\\ftn0813\\\\Documents\\\\GitHub\\\\ScannerBackEnd\\\\ScannerBackEndHTTP\\\\saved_tensorflow_model')"
      ]
    },
    {
      "cell_type": "code",
      "execution_count": 65,
      "metadata": {},
      "outputs": [],
      "source": [
        "loaded_model = tf.keras.models.load_model('C:\\\\Users\\\\ftn0813\\\\Documents\\\\GitHub\\\\ScannerBackEnd\\\\ScannerBackEndHTTP\\\\saved_tensorflow_model')"
      ]
    },
    {
      "cell_type": "code",
      "execution_count": 68,
      "metadata": {},
      "outputs": [
        {
          "name": "stdout",
          "output_type": "stream",
          "text": [
            "1/1 [==============================] - 0s 126ms/step\n",
            "0\n",
            "0\n"
          ]
        }
      ],
      "source": [
        "new_data = tf.data.Dataset.from_tensor_slices(sentence)\n",
        "result_array = loaded_model.predict(new_data.batch(16))\n",
        "for result in result_array:\n",
        "    print(round(result[0]))"
      ]
    }
  ],
  "metadata": {
    "accelerator": "GPU",
    "colab": {
      "authorship_tag": "ABX9TyP5DdGdiuFd/twKLj10G4S3",
      "collapsed_sections": [],
      "include_colab_link": true,
      "name": "03_04_solution.ipynb",
      "provenance": []
    },
    "kernelspec": {
      "display_name": "Python 3.9.12 ('base')",
      "language": "python",
      "name": "python3"
    },
    "language_info": {
      "codemirror_mode": {
        "name": "ipython",
        "version": 3
      },
      "file_extension": ".py",
      "mimetype": "text/x-python",
      "name": "python",
      "nbconvert_exporter": "python",
      "pygments_lexer": "ipython3",
      "version": "3.9.12"
    },
    "vscode": {
      "interpreter": {
        "hash": "deb4792152b8b9767403eeef0a1b0f34b83d442136ccee9184cd7d1131f09aa0"
      }
    }
  },
  "nbformat": 4,
  "nbformat_minor": 0
}
