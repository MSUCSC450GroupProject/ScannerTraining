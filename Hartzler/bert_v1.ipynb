{
 "cells": [
  {
   "cell_type": "code",
   "execution_count": 59,
   "metadata": {},
   "outputs": [
    {
     "name": "stdout",
     "output_type": "stream",
     "text": [
      "2.9.0\n"
     ]
    }
   ],
   "source": [
    "import math\n",
    "import pandas as pd\n",
    "import matplotlib.pyplot as plt\n",
    "import tensorflow as tf\n",
    "import tensorflow_hub as hub\n",
    "import tensorflow_text as text\n",
    "from official.nlp import optimization\n",
    "\n",
    "print(tf.__version__)"
   ]
  },
  {
   "cell_type": "code",
   "execution_count": 60,
   "metadata": {},
   "outputs": [],
   "source": [
    "tf.config.run_functions_eagerly(True)"
   ]
  },
  {
   "cell_type": "code",
   "execution_count": 61,
   "metadata": {},
   "outputs": [
    {
     "data": {
      "text/plain": [
       "[]"
      ]
     },
     "execution_count": 61,
     "metadata": {},
     "output_type": "execute_result"
    }
   ],
   "source": [
    "tf.config.list_physical_devices('GPU')"
   ]
  },
  {
   "cell_type": "code",
   "execution_count": 62,
   "metadata": {},
   "outputs": [
    {
     "data": {
      "text/html": [
       "<div>\n",
       "<style scoped>\n",
       "    .dataframe tbody tr th:only-of-type {\n",
       "        vertical-align: middle;\n",
       "    }\n",
       "\n",
       "    .dataframe tbody tr th {\n",
       "        vertical-align: top;\n",
       "    }\n",
       "\n",
       "    .dataframe thead th {\n",
       "        text-align: right;\n",
       "    }\n",
       "</style>\n",
       "<table border=\"1\" class=\"dataframe\">\n",
       "  <thead>\n",
       "    <tr style=\"text-align: right;\">\n",
       "      <th></th>\n",
       "      <th>text</th>\n",
       "      <th>label</th>\n",
       "    </tr>\n",
       "  </thead>\n",
       "  <tbody>\n",
       "    <tr>\n",
       "      <th>0</th>\n",
       "      <td>thirtysomething scientists unveil doomsday clo...</td>\n",
       "      <td>1</td>\n",
       "    </tr>\n",
       "    <tr>\n",
       "      <th>1</th>\n",
       "      <td>dem rep. totally nails why congress is falling...</td>\n",
       "      <td>0</td>\n",
       "    </tr>\n",
       "    <tr>\n",
       "      <th>2</th>\n",
       "      <td>eat your veggies: 9 deliciously different recipes</td>\n",
       "      <td>0</td>\n",
       "    </tr>\n",
       "    <tr>\n",
       "      <th>3</th>\n",
       "      <td>inclement weather prevents liar from getting t...</td>\n",
       "      <td>1</td>\n",
       "    </tr>\n",
       "    <tr>\n",
       "      <th>4</th>\n",
       "      <td>mother comes pretty close to using word 'strea...</td>\n",
       "      <td>1</td>\n",
       "    </tr>\n",
       "  </tbody>\n",
       "</table>\n",
       "</div>"
      ],
      "text/plain": [
       "                                                text  label\n",
       "0  thirtysomething scientists unveil doomsday clo...      1\n",
       "1  dem rep. totally nails why congress is falling...      0\n",
       "2  eat your veggies: 9 deliciously different recipes      0\n",
       "3  inclement weather prevents liar from getting t...      1\n",
       "4  mother comes pretty close to using word 'strea...      1"
      ]
     },
     "execution_count": 62,
     "metadata": {},
     "output_type": "execute_result"
    }
   ],
   "source": [
    "data_news_headlines = pd.read_json(\"../shared_data/x1.json\")\n",
    "\n",
    "# Adjust news headline data\n",
    "data_news_headlines = data_news_headlines.drop(columns='article_link', axis=1)\n",
    "data_news_headlines = data_news_headlines.rename(columns ={'headline':'text', 'is_sarcastic':'label'})\n",
    "data_news_headlines = data_news_headlines.reindex(columns=['text','label'])\n",
    "data_news_headlines.head()"
   ]
  },
  {
   "cell_type": "code",
   "execution_count": 63,
   "metadata": {},
   "outputs": [
    {
     "data": {
      "text/html": [
       "<div>\n",
       "<style scoped>\n",
       "    .dataframe tbody tr th:only-of-type {\n",
       "        vertical-align: middle;\n",
       "    }\n",
       "\n",
       "    .dataframe tbody tr th {\n",
       "        vertical-align: top;\n",
       "    }\n",
       "\n",
       "    .dataframe thead th {\n",
       "        text-align: right;\n",
       "    }\n",
       "</style>\n",
       "<table border=\"1\" class=\"dataframe\">\n",
       "  <thead>\n",
       "    <tr style=\"text-align: right;\">\n",
       "      <th></th>\n",
       "      <th>text</th>\n",
       "      <th>label</th>\n",
       "    </tr>\n",
       "  </thead>\n",
       "  <tbody>\n",
       "    <tr>\n",
       "      <th>0</th>\n",
       "      <td>I love working midnights tweet</td>\n",
       "      <td>1</td>\n",
       "    </tr>\n",
       "    <tr>\n",
       "      <th>1</th>\n",
       "      <td>I hate when I buy a bag of air and there's chi...</td>\n",
       "      <td>1</td>\n",
       "    </tr>\n",
       "    <tr>\n",
       "      <th>2</th>\n",
       "      <td>my grandad always sounds so ill when i speak t...</td>\n",
       "      <td>0</td>\n",
       "    </tr>\n",
       "    <tr>\n",
       "      <th>3</th>\n",
       "      <td>I realize I'm annoying to everyone, so I won't...</td>\n",
       "      <td>0</td>\n",
       "    </tr>\n",
       "    <tr>\n",
       "      <th>4</th>\n",
       "      <td>I love when I find these dudes on vine!! #Foll...</td>\n",
       "      <td>1</td>\n",
       "    </tr>\n",
       "  </tbody>\n",
       "</table>\n",
       "</div>"
      ],
      "text/plain": [
       "                                                text  label\n",
       "0                    I love working midnights tweet       1\n",
       "1  I hate when I buy a bag of air and there's chi...      1\n",
       "2  my grandad always sounds so ill when i speak t...      0\n",
       "3  I realize I'm annoying to everyone, so I won't...      0\n",
       "4  I love when I find these dudes on vine!! #Foll...      1"
      ]
     },
     "execution_count": 63,
     "metadata": {},
     "output_type": "execute_result"
    }
   ],
   "source": [
    "data_tweets = pd.read_csv(\"../shared_data/dataset_csv.csv\")\n",
    "\n",
    "# Adjust tweets data\n",
    "data_tweets = data_tweets.rename(columns={'tweets':'text'})\n",
    "data_tweets.head()"
   ]
  },
  {
   "cell_type": "code",
   "execution_count": 64,
   "metadata": {},
   "outputs": [
    {
     "data": {
      "text/html": [
       "<div>\n",
       "<style scoped>\n",
       "    .dataframe tbody tr th:only-of-type {\n",
       "        vertical-align: middle;\n",
       "    }\n",
       "\n",
       "    .dataframe tbody tr th {\n",
       "        vertical-align: top;\n",
       "    }\n",
       "\n",
       "    .dataframe thead th {\n",
       "        text-align: right;\n",
       "    }\n",
       "</style>\n",
       "<table border=\"1\" class=\"dataframe\">\n",
       "  <thead>\n",
       "    <tr style=\"text-align: right;\">\n",
       "      <th></th>\n",
       "      <th>text</th>\n",
       "      <th>label</th>\n",
       "    </tr>\n",
       "  </thead>\n",
       "  <tbody>\n",
       "    <tr>\n",
       "      <th>5</th>\n",
       "      <td>And of those few months, how long have you bee...</td>\n",
       "      <td>0.0</td>\n",
       "    </tr>\n",
       "    <tr>\n",
       "      <th>14</th>\n",
       "      <td>Let the dead man talk. So, why do you think that?</td>\n",
       "      <td>0.0</td>\n",
       "    </tr>\n",
       "    <tr>\n",
       "      <th>18</th>\n",
       "      <td>What else? Sell it on eBay as \"slightly used.\"</td>\n",
       "      <td>0.0</td>\n",
       "    </tr>\n",
       "    <tr>\n",
       "      <th>24</th>\n",
       "      <td>Good idea, sit with her. Hold her, comfort her...</td>\n",
       "      <td>1.0</td>\n",
       "    </tr>\n",
       "    <tr>\n",
       "      <th>31</th>\n",
       "      <td>Well, now that I've given up string theory, I'...</td>\n",
       "      <td>0.0</td>\n",
       "    </tr>\n",
       "  </tbody>\n",
       "</table>\n",
       "</div>"
      ],
      "text/plain": [
       "                                                 text  label\n",
       "5   And of those few months, how long have you bee...    0.0\n",
       "14  Let the dead man talk. So, why do you think that?    0.0\n",
       "18     What else? Sell it on eBay as \"slightly used.\"    0.0\n",
       "24  Good idea, sit with her. Hold her, comfort her...    1.0\n",
       "31  Well, now that I've given up string theory, I'...    0.0"
      ]
     },
     "execution_count": 64,
     "metadata": {},
     "output_type": "execute_result"
    }
   ],
   "source": [
    "data_sitcoms = pd.read_csv(\"../shared_data/mustard++_text.csv\")\n",
    "\n",
    "# Adjust sitcom data\n",
    "data_sitcoms = data_sitcoms.drop(columns=['SCENE','KEY','END_TIME','SPEAKER','SHOW','Sarcasm_Type','Implicit_Emotion','Explicit_Emotion','Valence','Arousal'], axis=1)\n",
    "data_sitcoms = data_sitcoms.rename(columns={'SENTENCE':'text','Sarcasm':'label'})\n",
    "\n",
    "# remove empty label rows\n",
    "for index, row in data_sitcoms.iterrows():\n",
    "    if math.isnan(row['label']):\n",
    "        data_sitcoms = data_sitcoms.drop(index, axis='index')\n",
    "\n",
    "data_sitcoms.head()"
   ]
  },
  {
   "cell_type": "code",
   "execution_count": 65,
   "metadata": {},
   "outputs": [
    {
     "data": {
      "text/html": [
       "<div>\n",
       "<style scoped>\n",
       "    .dataframe tbody tr th:only-of-type {\n",
       "        vertical-align: middle;\n",
       "    }\n",
       "\n",
       "    .dataframe tbody tr th {\n",
       "        vertical-align: top;\n",
       "    }\n",
       "\n",
       "    .dataframe thead th {\n",
       "        text-align: right;\n",
       "    }\n",
       "</style>\n",
       "<table border=\"1\" class=\"dataframe\">\n",
       "  <thead>\n",
       "    <tr style=\"text-align: right;\">\n",
       "      <th></th>\n",
       "      <th>text</th>\n",
       "      <th>label</th>\n",
       "    </tr>\n",
       "  </thead>\n",
       "  <tbody>\n",
       "    <tr>\n",
       "      <th>0</th>\n",
       "      <td>NC and NH.</td>\n",
       "      <td>0</td>\n",
       "    </tr>\n",
       "    <tr>\n",
       "      <th>1</th>\n",
       "      <td>You do know west teams play against west teams...</td>\n",
       "      <td>0</td>\n",
       "    </tr>\n",
       "    <tr>\n",
       "      <th>2</th>\n",
       "      <td>They were underdogs earlier today, but since G...</td>\n",
       "      <td>0</td>\n",
       "    </tr>\n",
       "    <tr>\n",
       "      <th>3</th>\n",
       "      <td>This meme isn't funny none of the \"new york ni...</td>\n",
       "      <td>0</td>\n",
       "    </tr>\n",
       "    <tr>\n",
       "      <th>4</th>\n",
       "      <td>I could use one of those tools.</td>\n",
       "      <td>0</td>\n",
       "    </tr>\n",
       "  </tbody>\n",
       "</table>\n",
       "</div>"
      ],
      "text/plain": [
       "                                                text  label\n",
       "0                                         NC and NH.      0\n",
       "1  You do know west teams play against west teams...      0\n",
       "2  They were underdogs earlier today, but since G...      0\n",
       "3  This meme isn't funny none of the \"new york ni...      0\n",
       "4                    I could use one of those tools.      0"
      ]
     },
     "execution_count": 65,
     "metadata": {},
     "output_type": "execute_result"
    }
   ],
   "source": [
    "data_reddit = pd.read_csv(\"../shared_data/train-balanced-sarcasm.csv\")\n",
    "\n",
    "# Adjust reddit data\n",
    "data_reddit = data_reddit.drop(columns=['author','subreddit','score','ups','downs','date','created_utc','parent_comment'], axis=1)\n",
    "data_reddit = data_reddit.rename(columns={'comment':'text'})\n",
    "data_reddit = data_reddit.reindex(columns=['text','label'])\n",
    "\n",
    "data_reddit.head()"
   ]
  },
  {
   "cell_type": "code",
   "execution_count": 66,
   "metadata": {},
   "outputs": [
    {
     "data": {
      "text/html": [
       "<div>\n",
       "<style scoped>\n",
       "    .dataframe tbody tr th:only-of-type {\n",
       "        vertical-align: middle;\n",
       "    }\n",
       "\n",
       "    .dataframe tbody tr th {\n",
       "        vertical-align: top;\n",
       "    }\n",
       "\n",
       "    .dataframe thead th {\n",
       "        text-align: right;\n",
       "    }\n",
       "</style>\n",
       "<table border=\"1\" class=\"dataframe\">\n",
       "  <thead>\n",
       "    <tr style=\"text-align: right;\">\n",
       "      <th></th>\n",
       "      <th>text</th>\n",
       "      <th>label</th>\n",
       "    </tr>\n",
       "  </thead>\n",
       "  <tbody>\n",
       "    <tr>\n",
       "      <th>0</th>\n",
       "      <td>Hair up, glasses off.</td>\n",
       "      <td>0.0</td>\n",
       "    </tr>\n",
       "    <tr>\n",
       "      <th>1</th>\n",
       "      <td>So many references tonight, it's glorious!</td>\n",
       "      <td>0.0</td>\n",
       "    </tr>\n",
       "    <tr>\n",
       "      <th>2</th>\n",
       "      <td>You could use XModGames and get TMI on it</td>\n",
       "      <td>0.0</td>\n",
       "    </tr>\n",
       "    <tr>\n",
       "      <th>3</th>\n",
       "      <td>I'm glad you figured out to put it on your lap...</td>\n",
       "      <td>1.0</td>\n",
       "    </tr>\n",
       "    <tr>\n",
       "      <th>4</th>\n",
       "      <td>did anyone else hear the cans crunching?</td>\n",
       "      <td>0.0</td>\n",
       "    </tr>\n",
       "  </tbody>\n",
       "</table>\n",
       "</div>"
      ],
      "text/plain": [
       "                                                text  label\n",
       "0                              Hair up, glasses off.    0.0\n",
       "1         So many references tonight, it's glorious!    0.0\n",
       "2          You could use XModGames and get TMI on it    0.0\n",
       "3  I'm glad you figured out to put it on your lap...    1.0\n",
       "4           did anyone else hear the cans crunching?    0.0"
      ]
     },
     "execution_count": 66,
     "metadata": {},
     "output_type": "execute_result"
    }
   ],
   "source": [
    "# Combine all 4 datasets\n",
    "data = pd.concat([data_news_headlines,data_tweets,data_sitcoms,data_reddit], ignore_index=True)\n",
    "\n",
    "# remove non string (nan) rows\n",
    "for index, row in data.iterrows():\n",
    "    if not type(row['text']) == str:\n",
    "        data = data.drop(index, axis='index')\n",
    "\n",
    "# Shuffle the rows\n",
    "data = data.sample(frac=1).reset_index(drop=True)\n",
    "\n",
    "data.head()"
   ]
  },
  {
   "cell_type": "markdown",
   "metadata": {},
   "source": [
    "Set dataset and training variables"
   ]
  },
  {
   "cell_type": "code",
   "execution_count": 67,
   "metadata": {},
   "outputs": [],
   "source": [
    "subset_size = 1400\n",
    "testing_size = int(subset_size * 0.4)\n",
    "validation_size = int(subset_size * 0.2)\n",
    "shuffle_size = subset_size - validation_size\n",
    "\n",
    "data_batch_size = 32"
   ]
  },
  {
   "cell_type": "code",
   "execution_count": 68,
   "metadata": {},
   "outputs": [],
   "source": [
    "data = data.sample(frac=1).reset_index(drop=True)\n",
    "train_data = data.head(subset_size)\n",
    "test_data = data.head(testing_size)"
   ]
  },
  {
   "cell_type": "code",
   "execution_count": 69,
   "metadata": {},
   "outputs": [],
   "source": [
    "train_ds = tf.data.Dataset.from_tensor_slices(\n",
    "    (\n",
    "        train_data['text'][validation_size:], \n",
    "        train_data['label'][validation_size:]\n",
    "    )\n",
    ").shuffle(shuffle_size).batch(data_batch_size)\n",
    "\n",
    "val_ds = tf.data.Dataset.from_tensor_slices(\n",
    "    (\n",
    "        train_data['text'][:validation_size],\n",
    "        train_data['label'][:validation_size]\n",
    "    )\n",
    ").batch(data_batch_size)\n",
    "\n",
    "test_ds = tf.data.Dataset.from_tensor_slices(\n",
    "    (\n",
    "        test_data['text'],\n",
    "        test_data['label']\n",
    "    )\n",
    ")"
   ]
  },
  {
   "cell_type": "markdown",
   "metadata": {},
   "source": [
    "Set training variables"
   ]
  },
  {
   "cell_type": "code",
   "execution_count": 70,
   "metadata": {},
   "outputs": [],
   "source": [
    "epochs = 400\n",
    "steps_per_epoch = tf.data.experimental.cardinality(train_ds).numpy()\n",
    "num_train_steps = steps_per_epoch * epochs\n",
    "num_warmup_steps = int(0.1*num_train_steps)\n",
    "init_lr = 3e-5"
   ]
  },
  {
   "cell_type": "markdown",
   "metadata": {},
   "source": [
    "Download Preprocessing and Encoding Model Layers from TensorflowHub"
   ]
  },
  {
   "cell_type": "code",
   "execution_count": 71,
   "metadata": {},
   "outputs": [],
   "source": [
    "preprocessing_layer = hub.KerasLayer(\n",
    "    'https://tfhub.dev/tensorflow/bert_en_uncased_preprocess/3', \n",
    "    name='preprocessing'\n",
    ")\n",
    "\n",
    "bert_encoder = hub.KerasLayer(\n",
    "    'https://tfhub.dev/tensorflow/small_bert/bert_en_uncased_L-4_H-512_A-8/1', \n",
    "    trainable=True, \n",
    "    name='BERT_encoder'\n",
    ")"
   ]
  },
  {
   "cell_type": "markdown",
   "metadata": {},
   "source": [
    "Create the model using, the BERT encoder"
   ]
  },
  {
   "cell_type": "code",
   "execution_count": 72,
   "metadata": {},
   "outputs": [],
   "source": [
    "def build_classifier_model():\n",
    "    text_input = tf.keras.layers.Input(shape=(), dtype=tf.string, name='text')\n",
    "    encoder_inputs = preprocessing_layer(text_input)\n",
    "    outputs = bert_encoder(encoder_inputs)\n",
    "    net = outputs['pooled_output']\n",
    "    net = tf.keras.layers.Dropout(0.1)(net)\n",
    "    net = tf.keras.layers.Dense(1, activation=None, name='classifier')(net)\n",
    "    return tf.keras.Model(text_input, net)\n",
    "\n",
    "classifier_model = build_classifier_model()"
   ]
  },
  {
   "cell_type": "markdown",
   "metadata": {},
   "source": [
    "Sanity check of model (untrained result)"
   ]
  },
  {
   "cell_type": "code",
   "execution_count": 73,
   "metadata": {},
   "outputs": [
    {
     "name": "stdout",
     "output_type": "stream",
     "text": [
      "tf.Tensor([[0.51009357]], shape=(1, 1), dtype=float32)\n"
     ]
    }
   ],
   "source": [
    "\n",
    "text_test = [\"Please, keep talking. I always yawn when I am interested.\"]\n",
    "bert_raw_result = classifier_model(tf.constant(text_test))\n",
    "print(tf.sigmoid(bert_raw_result))"
   ]
  },
  {
   "cell_type": "code",
   "execution_count": 74,
   "metadata": {},
   "outputs": [
    {
     "data": {
      "image/png": "[encoded data removed]",
      "text/plain": [
       "<IPython.core.display.Image object>"
      ]
     },
     "execution_count": 74,
     "metadata": {},
     "output_type": "execute_result"
    }
   ],
   "source": [
    "tf.keras.utils.plot_model(classifier_model)"
   ]
  },
  {
   "cell_type": "markdown",
   "metadata": {},
   "source": [
    "Set loss function"
   ]
  },
  {
   "cell_type": "code",
   "execution_count": 75,
   "metadata": {},
   "outputs": [],
   "source": [
    "loss = tf.keras.losses.BinaryCrossentropy(from_logits=True)\n",
    "metrics = tf.metrics.BinaryAccuracy()"
   ]
  },
  {
   "cell_type": "markdown",
   "metadata": {},
   "source": [
    "Create the optimizer"
   ]
  },
  {
   "cell_type": "code",
   "execution_count": 76,
   "metadata": {},
   "outputs": [],
   "source": [
    "optimizer = optimization.create_optimizer(\n",
    "    init_lr=init_lr,\n",
    "    num_train_steps=num_train_steps,\n",
    "    num_warmup_steps=num_warmup_steps,\n",
    "    optimizer_type='adamw'\n",
    ")"
   ]
  },
  {
   "cell_type": "markdown",
   "metadata": {},
   "source": [
    "Compile the model"
   ]
  },
  {
   "cell_type": "code",
   "execution_count": 77,
   "metadata": {},
   "outputs": [],
   "source": [
    "classifier_model.compile(optimizer=optimizer, loss=loss, metrics=metrics)"
   ]
  },
  {
   "cell_type": "markdown",
   "metadata": {},
   "source": [
    "Train the model"
   ]
  },
  {
   "cell_type": "code",
   "execution_count": 78,
   "metadata": {},
   "outputs": [
    {
     "name": "stdout",
     "output_type": "stream",
     "text": [
      "Epoch 1/400\n",
      "35/35 [==============================] - 148s 4s/step - loss: 0.7239 - binary_accuracy: 0.4973 - val_loss: 0.7215 - val_binary_accuracy: 0.5071\n",
      "Epoch 2/400\n",
      "35/35 [==============================] - 139s 4s/step - loss: 0.7070 - binary_accuracy: 0.5134 - val_loss: 0.7121 - val_binary_accuracy: 0.5071\n",
      "Epoch 3/400\n",
      "35/35 [==============================] - 137s 4s/step - loss: 0.6954 - binary_accuracy: 0.5214 - val_loss: 0.7060 - val_binary_accuracy: 0.5179\n",
      "Epoch 4/400\n",
      "35/35 [==============================] - 137s 4s/step - loss: 0.6875 - binary_accuracy: 0.5179 - val_loss: 0.6994 - val_binary_accuracy: 0.5143\n",
      "Epoch 5/400\n",
      "35/35 [==============================] - 143s 4s/step - loss: 0.6797 - binary_accuracy: 0.5375 - val_loss: 0.6929 - val_binary_accuracy: 0.5429\n",
      "Epoch 6/400\n",
      "35/35 [==============================] - 147s 4s/step - loss: 0.6512 - binary_accuracy: 0.5821 - val_loss: 0.6859 - val_binary_accuracy: 0.5286\n",
      "Epoch 7/400\n",
      "35/35 [==============================] - 157s 5s/step - loss: 0.6313 - binary_accuracy: 0.6027 - val_loss: 0.6795 - val_binary_accuracy: 0.5500\n",
      "Epoch 8/400\n",
      "35/35 [==============================] - 167s 5s/step - loss: 0.6146 - binary_accuracy: 0.6259 - val_loss: 0.6801 - val_binary_accuracy: 0.5714\n",
      "Epoch 9/400\n",
      "35/35 [==============================] - 156s 4s/step - loss: 0.5850 - binary_accuracy: 0.6866 - val_loss: 0.6757 - val_binary_accuracy: 0.5714\n",
      "Epoch 10/400\n",
      "35/35 [==============================] - 139s 4s/step - loss: 0.5752 - binary_accuracy: 0.6589 - val_loss: 0.6765 - val_binary_accuracy: 0.5679\n",
      "Epoch 11/400\n",
      "35/35 [==============================] - 158s 5s/step - loss: 0.5417 - binary_accuracy: 0.7107 - val_loss: 0.6789 - val_binary_accuracy: 0.5714\n",
      "Epoch 12/400\n",
      "35/35 [==============================] - 154s 4s/step - loss: 0.5151 - binary_accuracy: 0.7304 - val_loss: 0.6783 - val_binary_accuracy: 0.5964\n",
      "Epoch 13/400\n",
      "35/35 [==============================] - 154s 4s/step - loss: 0.4762 - binary_accuracy: 0.7634 - val_loss: 0.6778 - val_binary_accuracy: 0.5714\n",
      "Epoch 14/400\n",
      "35/35 [==============================] - 155s 4s/step - loss: 0.4421 - binary_accuracy: 0.7911 - val_loss: 0.6936 - val_binary_accuracy: 0.5821\n",
      "Epoch 15/400\n",
      "35/35 [==============================] - 150s 4s/step - loss: 0.4083 - binary_accuracy: 0.8045 - val_loss: 0.7126 - val_binary_accuracy: 0.6036\n",
      "Epoch 16/400\n",
      "35/35 [==============================] - 145s 4s/step - loss: 0.3613 - binary_accuracy: 0.8393 - val_loss: 0.7131 - val_binary_accuracy: 0.6000\n",
      "Epoch 17/400\n",
      "35/35 [==============================] - 156s 4s/step - loss: 0.3087 - binary_accuracy: 0.8705 - val_loss: 0.7501 - val_binary_accuracy: 0.5750\n",
      "Epoch 18/400\n",
      "35/35 [==============================] - 153s 4s/step - loss: 0.2818 - binary_accuracy: 0.8813 - val_loss: 0.7830 - val_binary_accuracy: 0.5750\n",
      "Epoch 19/400\n",
      "35/35 [==============================] - 145s 4s/step - loss: 0.2436 - binary_accuracy: 0.9116 - val_loss: 0.8247 - val_binary_accuracy: 0.5964\n",
      "Epoch 20/400\n",
      "35/35 [==============================] - 148s 4s/step - loss: 0.1855 - binary_accuracy: 0.9286 - val_loss: 0.8755 - val_binary_accuracy: 0.6036\n",
      "Epoch 21/400\n",
      "35/35 [==============================] - 154s 4s/step - loss: 0.1443 - binary_accuracy: 0.9554 - val_loss: 0.9560 - val_binary_accuracy: 0.6036\n",
      "Epoch 22/400\n",
      "35/35 [==============================] - 155s 4s/step - loss: 0.1092 - binary_accuracy: 0.9607 - val_loss: 1.0716 - val_binary_accuracy: 0.5893\n",
      "Epoch 23/400\n",
      "35/35 [==============================] - 156s 4s/step - loss: 0.0707 - binary_accuracy: 0.9812 - val_loss: 1.1902 - val_binary_accuracy: 0.6000\n",
      "Epoch 24/400\n",
      "35/35 [==============================] - 155s 4s/step - loss: 0.0544 - binary_accuracy: 0.9848 - val_loss: 1.4262 - val_binary_accuracy: 0.5643\n",
      "Epoch 25/400\n",
      "35/35 [==============================] - 155s 4s/step - loss: 0.0443 - binary_accuracy: 0.9839 - val_loss: 1.5262 - val_binary_accuracy: 0.5607\n",
      "Epoch 26/400\n",
      "35/35 [==============================] - 153s 4s/step - loss: 0.0334 - binary_accuracy: 0.9902 - val_loss: 1.6175 - val_binary_accuracy: 0.6036\n",
      "Epoch 27/400\n",
      "35/35 [==============================] - 157s 4s/step - loss: 0.0326 - binary_accuracy: 0.9866 - val_loss: 1.7853 - val_binary_accuracy: 0.6036\n",
      "Epoch 28/400\n",
      "35/35 [==============================] - 154s 4s/step - loss: 0.0204 - binary_accuracy: 0.9937 - val_loss: 1.9877 - val_binary_accuracy: 0.5786\n",
      "Epoch 29/400\n",
      "35/35 [==============================] - 153s 4s/step - loss: 0.0259 - binary_accuracy: 0.9920 - val_loss: 2.2657 - val_binary_accuracy: 0.5964\n",
      "Epoch 30/400\n",
      "35/35 [==============================] - 155s 4s/step - loss: 0.0074 - binary_accuracy: 0.9982 - val_loss: 2.2640 - val_binary_accuracy: 0.5607\n",
      "Epoch 31/400\n",
      "35/35 [==============================] - 158s 5s/step - loss: 0.0176 - binary_accuracy: 0.9937 - val_loss: 2.2963 - val_binary_accuracy: 0.5714\n",
      "Epoch 32/400\n",
      "35/35 [==============================] - 154s 4s/step - loss: 0.0103 - binary_accuracy: 0.9973 - val_loss: 2.4752 - val_binary_accuracy: 0.5964\n",
      "Epoch 33/400\n",
      "35/35 [==============================] - 153s 4s/step - loss: 0.0040 - binary_accuracy: 1.0000 - val_loss: 2.4135 - val_binary_accuracy: 0.6107\n",
      "Epoch 34/400\n",
      "35/35 [==============================] - 135s 4s/step - loss: 0.0102 - binary_accuracy: 0.9964 - val_loss: 2.5688 - val_binary_accuracy: 0.5929\n",
      "Epoch 35/400\n",
      "35/35 [==============================] - 116s 3s/step - loss: 0.0055 - binary_accuracy: 0.9973 - val_loss: 2.5411 - val_binary_accuracy: 0.6036\n",
      "Epoch 36/400\n",
      "35/35 [==============================] - 115s 3s/step - loss: 0.0040 - binary_accuracy: 0.9982 - val_loss: 2.7012 - val_binary_accuracy: 0.5893\n",
      "Epoch 37/400\n",
      "35/35 [==============================] - 112s 3s/step - loss: 0.0022 - binary_accuracy: 0.9991 - val_loss: 2.7634 - val_binary_accuracy: 0.5821\n",
      "Epoch 38/400\n",
      "35/35 [==============================] - 112s 3s/step - loss: 0.0081 - binary_accuracy: 0.9982 - val_loss: 2.6575 - val_binary_accuracy: 0.6250\n",
      "Epoch 39/400\n",
      "35/35 [==============================] - 112s 3s/step - loss: 0.0084 - binary_accuracy: 0.9964 - val_loss: 2.6738 - val_binary_accuracy: 0.6000\n",
      "Epoch 40/400\n",
      "26/35 [=====================>........] - ETA: 29:44 - loss: 0.0071 - binary_accuracy: 0.9952"
     ]
    }
   ],
   "source": [
    "history = classifier_model.fit(x=train_ds,\n",
    "                               validation_data=val_ds,\n",
    "                               epochs=epochs)"
   ]
  },
  {
   "cell_type": "markdown",
   "metadata": {},
   "source": [
    "Test the model"
   ]
  },
  {
   "cell_type": "code",
   "execution_count": null,
   "metadata": {},
   "outputs": [],
   "source": [
    "loss, accuracy = classifier_model.evaluate(test_ds)\n",
    "\n",
    "print(f'Loss: {loss}')\n",
    "print(f'Accuracy: {accuracy}')"
   ]
  },
  {
   "cell_type": "markdown",
   "metadata": {},
   "source": [
    "Plot the accuracy and loss over time"
   ]
  },
  {
   "cell_type": "code",
   "execution_count": null,
   "metadata": {},
   "outputs": [],
   "source": [
    "history_dict = history.history\n",
    "print(history_dict.keys())\n",
    "\n",
    "acc = history_dict['binary_accuracy']\n",
    "val_acc = history_dict['val_binary_accuracy']\n",
    "loss = history_dict['loss']\n",
    "val_loss = history_dict['val_loss']\n",
    "\n",
    "epochs = range(1, len(acc) + 1)\n",
    "fig = plt.figure(figsize=(10, 6))\n",
    "fig.tight_layout()\n",
    "\n",
    "plt.subplot(2, 1, 1)\n",
    "# r is for \"solid red line\"\n",
    "plt.plot(epochs, loss, 'r', label='Training loss')\n",
    "# b is for \"solid blue line\"\n",
    "plt.plot(epochs, val_loss, 'b', label='Validation loss')\n",
    "plt.title('Training and validation loss')\n",
    "# plt.xlabel('Epochs')\n",
    "plt.ylabel('Loss')\n",
    "plt.legend()\n",
    "\n",
    "plt.subplot(2, 1, 2)\n",
    "plt.plot(epochs, acc, 'r', label='Training acc')\n",
    "plt.plot(epochs, val_acc, 'b', label='Validation acc')\n",
    "plt.title('Training and validation accuracy')\n",
    "plt.xlabel('Epochs')\n",
    "plt.ylabel('Accuracy')\n",
    "plt.legend(loc='lower right')"
   ]
  },
  {
   "cell_type": "markdown",
   "metadata": {},
   "source": [
    "Export for inference"
   ]
  },
  {
   "cell_type": "code",
   "execution_count": null,
   "metadata": {},
   "outputs": [
    {
     "name": "stderr",
     "output_type": "stream",
     "text": [
      "WARNING:absl:Found untraced functions such as restored_function_body, restored_function_body, restored_function_body, restored_function_body, restored_function_body while saving (showing 5 of 124). These functions will not be directly callable after loading.\n"
     ]
    },
    {
     "name": "stdout",
     "output_type": "stream",
     "text": [
      "INFO:tensorflow:Assets written to: ./model_saves/bert_v1/assets\n"
     ]
    },
    {
     "name": "stderr",
     "output_type": "stream",
     "text": [
      "INFO:tensorflow:Assets written to: ./model_saves/bert_v1/assets\n"
     ]
    }
   ],
   "source": [
    "saved_model_path = './model_saves/bert_v1/'\n",
    "classifier_model.save(saved_model_path, include_optimizer=False)"
   ]
  },
  {
   "cell_type": "markdown",
   "metadata": {},
   "source": [
    "Reload and test inference"
   ]
  },
  {
   "cell_type": "code",
   "execution_count": null,
   "metadata": {},
   "outputs": [],
   "source": [
    "reloaded_model = tf.saved_model.load(saved_model_path)"
   ]
  },
  {
   "cell_type": "code",
   "execution_count": null,
   "metadata": {},
   "outputs": [
    {
     "name": "stdout",
     "output_type": "stream",
     "text": [
      "Results from the saved model:\n"
     ]
    },
    {
     "ename": "AttributeError",
     "evalue": "EagerTensor object has no attribute 'astype'. \n        If you are looking for numpy-related methods, please run the following:\n        from tensorflow.python.ops.numpy_ops import np_config\n        np_config.enable_numpy_behavior()\n      ",
     "output_type": "error",
     "traceback": [
      "\u001b[1;31m---------------------------------------------------------------------------\u001b[0m",
      "\u001b[1;31mAttributeError\u001b[0m                            Traceback (most recent call last)",
      "\u001b[1;32mc:\\Users\\ftn0813\\Documents\\GitHub\\ScannerTraining\\Hartzler\\bert_v1.ipynb Cell 37\u001b[0m in \u001b[0;36m<cell line: 19>\u001b[1;34m()\u001b[0m\n\u001b[0;32m     <a href='vscode-notebook-cell:/c%3A/Users/ftn0813/Documents/GitHub/ScannerTraining/Hartzler/bert_v1.ipynb#X51sZmlsZQ%3D%3D?line=15'>16</a>\u001b[0m original_results \u001b[39m=\u001b[39m tf\u001b[39m.\u001b[39msigmoid(classifier_model(tf\u001b[39m.\u001b[39mconstant(examples)))\n\u001b[0;32m     <a href='vscode-notebook-cell:/c%3A/Users/ftn0813/Documents/GitHub/ScannerTraining/Hartzler/bert_v1.ipynb#X51sZmlsZQ%3D%3D?line=17'>18</a>\u001b[0m \u001b[39mprint\u001b[39m(\u001b[39m'\u001b[39m\u001b[39mResults from the saved model:\u001b[39m\u001b[39m'\u001b[39m)\n\u001b[1;32m---> <a href='vscode-notebook-cell:/c%3A/Users/ftn0813/Documents/GitHub/ScannerTraining/Hartzler/bert_v1.ipynb#X51sZmlsZQ%3D%3D?line=18'>19</a>\u001b[0m print_my_examples(examples, reloaded_results)\n\u001b[0;32m     <a href='vscode-notebook-cell:/c%3A/Users/ftn0813/Documents/GitHub/ScannerTraining/Hartzler/bert_v1.ipynb#X51sZmlsZQ%3D%3D?line=19'>20</a>\u001b[0m \u001b[39mprint\u001b[39m(\u001b[39m'\u001b[39m\u001b[39mResults from the model in memory:\u001b[39m\u001b[39m'\u001b[39m)\n\u001b[0;32m     <a href='vscode-notebook-cell:/c%3A/Users/ftn0813/Documents/GitHub/ScannerTraining/Hartzler/bert_v1.ipynb#X51sZmlsZQ%3D%3D?line=20'>21</a>\u001b[0m print_my_examples(examples, original_results)\n",
      "\u001b[1;32mc:\\Users\\ftn0813\\Documents\\GitHub\\ScannerTraining\\Hartzler\\bert_v1.ipynb Cell 37\u001b[0m in \u001b[0;36mprint_my_examples\u001b[1;34m(inputs, results)\u001b[0m\n\u001b[0;32m      <a href='vscode-notebook-cell:/c%3A/Users/ftn0813/Documents/GitHub/ScannerTraining/Hartzler/bert_v1.ipynb#X51sZmlsZQ%3D%3D?line=0'>1</a>\u001b[0m \u001b[39mdef\u001b[39;00m \u001b[39mprint_my_examples\u001b[39m(inputs, results):\n\u001b[0;32m      <a href='vscode-notebook-cell:/c%3A/Users/ftn0813/Documents/GitHub/ScannerTraining/Hartzler/bert_v1.ipynb#X51sZmlsZQ%3D%3D?line=1'>2</a>\u001b[0m   \u001b[39mfor\u001b[39;00m i \u001b[39min\u001b[39;00m \u001b[39mrange\u001b[39m(\u001b[39mlen\u001b[39m(inputs)):\n\u001b[1;32m----> <a href='vscode-notebook-cell:/c%3A/Users/ftn0813/Documents/GitHub/ScannerTraining/Hartzler/bert_v1.ipynb#X51sZmlsZQ%3D%3D?line=2'>3</a>\u001b[0m     \u001b[39mprint\u001b[39m(\u001b[39m'\u001b[39m\u001b[39minput: \u001b[39m\u001b[39m'\u001b[39m, inputs[i], \u001b[39m'\u001b[39m\u001b[39m : score: \u001b[39m\u001b[39m'\u001b[39m, results[i][\u001b[39m0\u001b[39m], \u001b[39m'\u001b[39m\u001b[39m : rounded: \u001b[39m\u001b[39m'\u001b[39m, \u001b[39mround\u001b[39;49m(results[i][\u001b[39m0\u001b[39;49m]))\n\u001b[0;32m      <a href='vscode-notebook-cell:/c%3A/Users/ftn0813/Documents/GitHub/ScannerTraining/Hartzler/bert_v1.ipynb#X51sZmlsZQ%3D%3D?line=3'>4</a>\u001b[0m   \u001b[39mprint\u001b[39m()\n",
      "File \u001b[1;32m~\\AppData\\Roaming\\Python\\Python39\\site-packages\\tensorflow\\python\\ops\\numpy_ops\\np_array_ops.py:733\u001b[0m, in \u001b[0;36maround\u001b[1;34m(a, decimals)\u001b[0m\n\u001b[0;32m    731\u001b[0m a \u001b[39m=\u001b[39m math_ops\u001b[39m.\u001b[39mround(a)\n\u001b[0;32m    732\u001b[0m a \u001b[39m=\u001b[39m math_ops\u001b[39m.\u001b[39mdivide(a, factor)\n\u001b[1;32m--> 733\u001b[0m \u001b[39mreturn\u001b[39;00m a\u001b[39m.\u001b[39;49mastype(dtype)\n",
      "File \u001b[1;32m~\\AppData\\Roaming\\Python\\Python39\\site-packages\\tensorflow\\python\\framework\\ops.py:440\u001b[0m, in \u001b[0;36mTensor.__getattr__\u001b[1;34m(self, name)\u001b[0m\n\u001b[0;32m    436\u001b[0m \u001b[39mdef\u001b[39;00m \u001b[39m__getattr__\u001b[39m(\u001b[39mself\u001b[39m, name):\n\u001b[0;32m    437\u001b[0m   \u001b[39mif\u001b[39;00m name \u001b[39min\u001b[39;00m {\u001b[39m\"\u001b[39m\u001b[39mT\u001b[39m\u001b[39m\"\u001b[39m, \u001b[39m\"\u001b[39m\u001b[39mastype\u001b[39m\u001b[39m\"\u001b[39m, \u001b[39m\"\u001b[39m\u001b[39mravel\u001b[39m\u001b[39m\"\u001b[39m, \u001b[39m\"\u001b[39m\u001b[39mtranspose\u001b[39m\u001b[39m\"\u001b[39m, \u001b[39m\"\u001b[39m\u001b[39mreshape\u001b[39m\u001b[39m\"\u001b[39m, \u001b[39m\"\u001b[39m\u001b[39mclip\u001b[39m\u001b[39m\"\u001b[39m, \u001b[39m\"\u001b[39m\u001b[39msize\u001b[39m\u001b[39m\"\u001b[39m,\n\u001b[0;32m    438\u001b[0m               \u001b[39m\"\u001b[39m\u001b[39mtolist\u001b[39m\u001b[39m\"\u001b[39m, \u001b[39m\"\u001b[39m\u001b[39mdata\u001b[39m\u001b[39m\"\u001b[39m}:\n\u001b[0;32m    439\u001b[0m     \u001b[39m# TODO(wangpeng): Export the enable_numpy_behavior knob\u001b[39;00m\n\u001b[1;32m--> 440\u001b[0m     \u001b[39mraise\u001b[39;00m \u001b[39mAttributeError\u001b[39;00m(\n\u001b[0;32m    441\u001b[0m         \u001b[39mf\u001b[39m\u001b[39m\"\u001b[39m\u001b[39m{\u001b[39;00m\u001b[39mtype\u001b[39m(\u001b[39mself\u001b[39m)\u001b[39m.\u001b[39m\u001b[39m__name__\u001b[39m\u001b[39m}\u001b[39;00m\u001b[39m object has no attribute \u001b[39m\u001b[39m'\u001b[39m\u001b[39m{\u001b[39;00mname\u001b[39m}\u001b[39;00m\u001b[39m'\u001b[39m\u001b[39m. \u001b[39m\u001b[39m\"\u001b[39m \u001b[39m+\u001b[39m \u001b[39m\"\"\"\u001b[39m\n\u001b[0;32m    442\u001b[0m \u001b[39m      If you are looking for numpy-related methods, please run the following:\u001b[39m\n\u001b[0;32m    443\u001b[0m \u001b[39m      from tensorflow.python.ops.numpy_ops import np_config\u001b[39m\n\u001b[0;32m    444\u001b[0m \u001b[39m      np_config.enable_numpy_behavior()\u001b[39m\n\u001b[0;32m    445\u001b[0m \u001b[39m    \u001b[39m\u001b[39m\"\"\"\u001b[39m)\n\u001b[0;32m    446\u001b[0m   \u001b[39mself\u001b[39m\u001b[39m.\u001b[39m\u001b[39m__getattribute__\u001b[39m(name)\n",
      "\u001b[1;31mAttributeError\u001b[0m: EagerTensor object has no attribute 'astype'. \n        If you are looking for numpy-related methods, please run the following:\n        from tensorflow.python.ops.numpy_ops import np_config\n        np_config.enable_numpy_behavior()\n      "
     ]
    }
   ],
   "source": [
    "def print_my_examples(inputs, results):\n",
    "  for i in range(len(inputs)):\n",
    "    print('input: ', inputs[i], ' : score: ', results[i][0], ' : rounded: ', round(results[i][0]))\n",
    "  print()\n",
    "\n",
    "\n",
    "examples = [\n",
    "    \"Please, keep talking. I always yawn when I am interested.\", # expect 1\n",
    "    \"Well, what a surprise.\", # expect 1\n",
    "    \"Really, Sherlock? No! You are clever.\", # expect 1\n",
    "    \"The quick brown fox jumps over the lazy dog\", # expect 0\n",
    "    \"Numerous references to the phrase have occurred in movies, television, and books.\" # expect 0\n",
    "]\n",
    "\n",
    "reloaded_results = tf.sigmoid(reloaded_model(tf.constant(examples)))\n",
    "original_results = tf.sigmoid(classifier_model(tf.constant(examples)))\n",
    "\n",
    "print('Results from the saved model:')\n",
    "print_my_examples(examples, reloaded_results)\n",
    "print('Results from the model in memory:')\n",
    "print_my_examples(examples, original_results)"
   ]
  }
 ],
 "metadata": {
  "kernelspec": {
   "display_name": "Python 3.9.12 ('base')",
   "language": "python",
   "name": "python3"
  },
  "language_info": {
   "codemirror_mode": {
    "name": "ipython",
    "version": 3
   },
   "file_extension": ".py",
   "mimetype": "text/x-python",
   "name": "python",
   "nbconvert_exporter": "python",
   "pygments_lexer": "ipython3",
   "version": "3.9.12"
  },
  "orig_nbformat": 4,
  "vscode": {
   "interpreter": {
    "hash": "deb4792152b8b9767403eeef0a1b0f34b83d442136ccee9184cd7d1131f09aa0"
   }
  }
 },
 "nbformat": 4,
 "nbformat_minor": 2
}
