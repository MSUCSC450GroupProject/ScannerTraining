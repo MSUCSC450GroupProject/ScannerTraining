{
 "cells": [
  {
   "cell_type": "code",
   "execution_count": 2,
   "metadata": {},
   "outputs": [
    {
     "name": "stdout",
     "output_type": "stream",
     "text": [
      "2.10.0\n"
     ]
    }
   ],
   "source": [
    "import math\n",
    "import pandas as pd\n",
    "import matplotlib.pyplot as plt"
   ]
  },
  {
   "cell_type": "code",
   "execution_count": 4,
   "metadata": {},
   "outputs": [
    {
     "data": {
      "text/html": [
       "<div>\n",
       "<style scoped>\n",
       "    .dataframe tbody tr th:only-of-type {\n",
       "        vertical-align: middle;\n",
       "    }\n",
       "\n",
       "    .dataframe tbody tr th {\n",
       "        vertical-align: top;\n",
       "    }\n",
       "\n",
       "    .dataframe thead th {\n",
       "        text-align: right;\n",
       "    }\n",
       "</style>\n",
       "<table border=\"1\" class=\"dataframe\">\n",
       "  <thead>\n",
       "    <tr style=\"text-align: right;\">\n",
       "      <th></th>\n",
       "      <th>text</th>\n",
       "      <th>label</th>\n",
       "    </tr>\n",
       "  </thead>\n",
       "  <tbody>\n",
       "    <tr>\n",
       "      <th>0</th>\n",
       "      <td>thirtysomething scientists unveil doomsday clo...</td>\n",
       "      <td>1</td>\n",
       "    </tr>\n",
       "    <tr>\n",
       "      <th>1</th>\n",
       "      <td>dem rep. totally nails why congress is falling...</td>\n",
       "      <td>0</td>\n",
       "    </tr>\n",
       "    <tr>\n",
       "      <th>2</th>\n",
       "      <td>eat your veggies: 9 deliciously different recipes</td>\n",
       "      <td>0</td>\n",
       "    </tr>\n",
       "    <tr>\n",
       "      <th>3</th>\n",
       "      <td>inclement weather prevents liar from getting t...</td>\n",
       "      <td>1</td>\n",
       "    </tr>\n",
       "    <tr>\n",
       "      <th>4</th>\n",
       "      <td>mother comes pretty close to using word 'strea...</td>\n",
       "      <td>1</td>\n",
       "    </tr>\n",
       "  </tbody>\n",
       "</table>\n",
       "</div>"
      ],
      "text/plain": [
       "                                                text  label\n",
       "0  thirtysomething scientists unveil doomsday clo...      1\n",
       "1  dem rep. totally nails why congress is falling...      0\n",
       "2  eat your veggies: 9 deliciously different recipes      0\n",
       "3  inclement weather prevents liar from getting t...      1\n",
       "4  mother comes pretty close to using word 'strea...      1"
      ]
     },
     "execution_count": 4,
     "metadata": {},
     "output_type": "execute_result"
    }
   ],
   "source": [
    "data_news_headlines = pd.read_json(\"../shared_data/x1.json\")\n",
    "\n",
    "# Adjust news headline data\n",
    "data_news_headlines = data_news_headlines.drop(columns='article_link', axis=1)\n",
    "data_news_headlines = data_news_headlines.rename(columns ={'headline':'text', 'is_sarcastic':'label'})\n",
    "data_news_headlines = data_news_headlines.reindex(columns=['text','label'])\n",
    "data_news_headlines.head()"
   ]
  },
  {
   "cell_type": "code",
   "execution_count": 5,
   "metadata": {},
   "outputs": [
    {
     "data": {
      "text/html": [
       "<div>\n",
       "<style scoped>\n",
       "    .dataframe tbody tr th:only-of-type {\n",
       "        vertical-align: middle;\n",
       "    }\n",
       "\n",
       "    .dataframe tbody tr th {\n",
       "        vertical-align: top;\n",
       "    }\n",
       "\n",
       "    .dataframe thead th {\n",
       "        text-align: right;\n",
       "    }\n",
       "</style>\n",
       "<table border=\"1\" class=\"dataframe\">\n",
       "  <thead>\n",
       "    <tr style=\"text-align: right;\">\n",
       "      <th></th>\n",
       "      <th>text</th>\n",
       "      <th>label</th>\n",
       "    </tr>\n",
       "  </thead>\n",
       "  <tbody>\n",
       "    <tr>\n",
       "      <th>0</th>\n",
       "      <td>I love working midnights tweet</td>\n",
       "      <td>1</td>\n",
       "    </tr>\n",
       "    <tr>\n",
       "      <th>1</th>\n",
       "      <td>I hate when I buy a bag of air and there's chi...</td>\n",
       "      <td>1</td>\n",
       "    </tr>\n",
       "    <tr>\n",
       "      <th>2</th>\n",
       "      <td>my grandad always sounds so ill when i speak t...</td>\n",
       "      <td>0</td>\n",
       "    </tr>\n",
       "    <tr>\n",
       "      <th>3</th>\n",
       "      <td>I realize I'm annoying to everyone, so I won't...</td>\n",
       "      <td>0</td>\n",
       "    </tr>\n",
       "    <tr>\n",
       "      <th>4</th>\n",
       "      <td>I love when I find these dudes on vine!! #Foll...</td>\n",
       "      <td>1</td>\n",
       "    </tr>\n",
       "  </tbody>\n",
       "</table>\n",
       "</div>"
      ],
      "text/plain": [
       "                                                text  label\n",
       "0                    I love working midnights tweet       1\n",
       "1  I hate when I buy a bag of air and there's chi...      1\n",
       "2  my grandad always sounds so ill when i speak t...      0\n",
       "3  I realize I'm annoying to everyone, so I won't...      0\n",
       "4  I love when I find these dudes on vine!! #Foll...      1"
      ]
     },
     "execution_count": 5,
     "metadata": {},
     "output_type": "execute_result"
    }
   ],
   "source": [
    "data_tweets = pd.read_csv(\"../shared_data/dataset_csv.csv\")\n",
    "\n",
    "# Adjust tweets data\n",
    "data_tweets = data_tweets.rename(columns={'tweets':'text'})\n",
    "data_tweets.head()"
   ]
  },
  {
   "cell_type": "code",
   "execution_count": 6,
   "metadata": {},
   "outputs": [
    {
     "data": {
      "text/html": [
       "<div>\n",
       "<style scoped>\n",
       "    .dataframe tbody tr th:only-of-type {\n",
       "        vertical-align: middle;\n",
       "    }\n",
       "\n",
       "    .dataframe tbody tr th {\n",
       "        vertical-align: top;\n",
       "    }\n",
       "\n",
       "    .dataframe thead th {\n",
       "        text-align: right;\n",
       "    }\n",
       "</style>\n",
       "<table border=\"1\" class=\"dataframe\">\n",
       "  <thead>\n",
       "    <tr style=\"text-align: right;\">\n",
       "      <th></th>\n",
       "      <th>text</th>\n",
       "      <th>label</th>\n",
       "    </tr>\n",
       "  </thead>\n",
       "  <tbody>\n",
       "    <tr>\n",
       "      <th>5</th>\n",
       "      <td>And of those few months, how long have you bee...</td>\n",
       "      <td>0.0</td>\n",
       "    </tr>\n",
       "    <tr>\n",
       "      <th>14</th>\n",
       "      <td>Let the dead man talk. So, why do you think that?</td>\n",
       "      <td>0.0</td>\n",
       "    </tr>\n",
       "    <tr>\n",
       "      <th>18</th>\n",
       "      <td>What else? Sell it on eBay as \"slightly used.\"</td>\n",
       "      <td>0.0</td>\n",
       "    </tr>\n",
       "    <tr>\n",
       "      <th>24</th>\n",
       "      <td>Good idea, sit with her. Hold her, comfort her...</td>\n",
       "      <td>1.0</td>\n",
       "    </tr>\n",
       "    <tr>\n",
       "      <th>31</th>\n",
       "      <td>Well, now that I've given up string theory, I'...</td>\n",
       "      <td>0.0</td>\n",
       "    </tr>\n",
       "  </tbody>\n",
       "</table>\n",
       "</div>"
      ],
      "text/plain": [
       "                                                 text  label\n",
       "5   And of those few months, how long have you bee...    0.0\n",
       "14  Let the dead man talk. So, why do you think that?    0.0\n",
       "18     What else? Sell it on eBay as \"slightly used.\"    0.0\n",
       "24  Good idea, sit with her. Hold her, comfort her...    1.0\n",
       "31  Well, now that I've given up string theory, I'...    0.0"
      ]
     },
     "execution_count": 6,
     "metadata": {},
     "output_type": "execute_result"
    }
   ],
   "source": [
    "data_sitcoms = pd.read_csv(\"../shared_data/mustard++_text.csv\")\n",
    "\n",
    "# Adjust sitcom data\n",
    "data_sitcoms = data_sitcoms.drop(columns=['SCENE','KEY','END_TIME','SPEAKER','SHOW','Sarcasm_Type','Implicit_Emotion','Explicit_Emotion','Valence','Arousal'], axis=1)\n",
    "data_sitcoms = data_sitcoms.rename(columns={'SENTENCE':'text','Sarcasm':'label'})\n",
    "\n",
    "# remove empty label rows\n",
    "for index, row in data_sitcoms.iterrows():\n",
    "    if math.isnan(row['label']):\n",
    "        data_sitcoms = data_sitcoms.drop(index, axis='index')\n",
    "\n",
    "data_sitcoms.head()"
   ]
  },
  {
   "cell_type": "code",
   "execution_count": 7,
   "metadata": {},
   "outputs": [
    {
     "data": {
      "text/html": [
       "<div>\n",
       "<style scoped>\n",
       "    .dataframe tbody tr th:only-of-type {\n",
       "        vertical-align: middle;\n",
       "    }\n",
       "\n",
       "    .dataframe tbody tr th {\n",
       "        vertical-align: top;\n",
       "    }\n",
       "\n",
       "    .dataframe thead th {\n",
       "        text-align: right;\n",
       "    }\n",
       "</style>\n",
       "<table border=\"1\" class=\"dataframe\">\n",
       "  <thead>\n",
       "    <tr style=\"text-align: right;\">\n",
       "      <th></th>\n",
       "      <th>text</th>\n",
       "      <th>label</th>\n",
       "    </tr>\n",
       "  </thead>\n",
       "  <tbody>\n",
       "    <tr>\n",
       "      <th>0</th>\n",
       "      <td>NC and NH.</td>\n",
       "      <td>0</td>\n",
       "    </tr>\n",
       "    <tr>\n",
       "      <th>1</th>\n",
       "      <td>You do know west teams play against west teams...</td>\n",
       "      <td>0</td>\n",
       "    </tr>\n",
       "    <tr>\n",
       "      <th>2</th>\n",
       "      <td>They were underdogs earlier today, but since G...</td>\n",
       "      <td>0</td>\n",
       "    </tr>\n",
       "    <tr>\n",
       "      <th>3</th>\n",
       "      <td>This meme isn't funny none of the \"new york ni...</td>\n",
       "      <td>0</td>\n",
       "    </tr>\n",
       "    <tr>\n",
       "      <th>4</th>\n",
       "      <td>I could use one of those tools.</td>\n",
       "      <td>0</td>\n",
       "    </tr>\n",
       "  </tbody>\n",
       "</table>\n",
       "</div>"
      ],
      "text/plain": [
       "                                                text  label\n",
       "0                                         NC and NH.      0\n",
       "1  You do know west teams play against west teams...      0\n",
       "2  They were underdogs earlier today, but since G...      0\n",
       "3  This meme isn't funny none of the \"new york ni...      0\n",
       "4                    I could use one of those tools.      0"
      ]
     },
     "execution_count": 7,
     "metadata": {},
     "output_type": "execute_result"
    }
   ],
   "source": [
    "data_reddit = pd.read_csv(\"../shared_data/train-balanced-sarcasm.csv\")\n",
    "\n",
    "# Adjust reddit data\n",
    "data_reddit = data_reddit.drop(columns=['author','subreddit','score','ups','downs','date','created_utc','parent_comment'], axis=1)\n",
    "data_reddit = data_reddit.rename(columns={'comment':'text'})\n",
    "data_reddit = data_reddit.reindex(columns=['text','label'])\n",
    "\n",
    "data_reddit.head()"
   ]
  },
  {
   "cell_type": "code",
   "execution_count": 8,
   "metadata": {},
   "outputs": [
    {
     "data": {
      "text/html": [
       "<div>\n",
       "<style scoped>\n",
       "    .dataframe tbody tr th:only-of-type {\n",
       "        vertical-align: middle;\n",
       "    }\n",
       "\n",
       "    .dataframe tbody tr th {\n",
       "        vertical-align: top;\n",
       "    }\n",
       "\n",
       "    .dataframe thead th {\n",
       "        text-align: right;\n",
       "    }\n",
       "</style>\n",
       "<table border=\"1\" class=\"dataframe\">\n",
       "  <thead>\n",
       "    <tr style=\"text-align: right;\">\n",
       "      <th></th>\n",
       "      <th>text</th>\n",
       "      <th>label</th>\n",
       "    </tr>\n",
       "  </thead>\n",
       "  <tbody>\n",
       "    <tr>\n",
       "      <th>0</th>\n",
       "      <td>Source?</td>\n",
       "      <td>0.0</td>\n",
       "    </tr>\n",
       "    <tr>\n",
       "      <th>1</th>\n",
       "      <td>Yeah but why delay the inevitable?</td>\n",
       "      <td>1.0</td>\n",
       "    </tr>\n",
       "    <tr>\n",
       "      <th>2</th>\n",
       "      <td>Wow, they look so alike!</td>\n",
       "      <td>1.0</td>\n",
       "    </tr>\n",
       "    <tr>\n",
       "      <th>3</th>\n",
       "      <td>on eu they will probably be released 1-2 weeks...</td>\n",
       "      <td>1.0</td>\n",
       "    </tr>\n",
       "    <tr>\n",
       "      <th>4</th>\n",
       "      <td>All your link shows is part of Govia's astrotu...</td>\n",
       "      <td>0.0</td>\n",
       "    </tr>\n",
       "  </tbody>\n",
       "</table>\n",
       "</div>"
      ],
      "text/plain": [
       "                                                text  label\n",
       "0                                            Source?    0.0\n",
       "1                 Yeah but why delay the inevitable?    1.0\n",
       "2                           Wow, they look so alike!    1.0\n",
       "3  on eu they will probably be released 1-2 weeks...    1.0\n",
       "4  All your link shows is part of Govia's astrotu...    0.0"
      ]
     },
     "execution_count": 8,
     "metadata": {},
     "output_type": "execute_result"
    }
   ],
   "source": [
    "# Combine all 4 datasets\n",
    "data = pd.concat([data_news_headlines,data_tweets,data_sitcoms,data_reddit], ignore_index=True)\n",
    "\n",
    "# remove non string (nan) rows\n",
    "for index, row in data.iterrows():\n",
    "    if not type(row['text']) == str:\n",
    "        data = data.drop(index, axis='index')\n",
    "\n",
    "# Shuffle the rows\n",
    "data = data.sample(frac=1).reset_index(drop=True)\n",
    "\n",
    "data.head()"
   ]
  },
  {
   "cell_type": "code",
   "execution_count": 9,
   "metadata": {},
   "outputs": [
    {
     "name": "stdout",
     "output_type": "stream",
     "text": [
      "<class 'pandas.core.frame.DataFrame'>\n",
      "RangeIndex: 1042588 entries, 0 to 1042587\n",
      "Data columns (total 2 columns):\n",
      " #   Column  Non-Null Count    Dtype  \n",
      "---  ------  --------------    -----  \n",
      " 0   text    1042588 non-null  object \n",
      " 1   label   1042588 non-null  float64\n",
      "dtypes: float64(1), object(1)\n",
      "memory usage: 15.9+ MB\n"
     ]
    }
   ],
   "source": [
    "data.info()"
   ]
  },
  {
   "cell_type": "code",
   "execution_count": 10,
   "metadata": {},
   "outputs": [
    {
     "name": "stdout",
     "output_type": "stream",
     "text": [
      "longest_sentence_length: 1425\n",
      "average_sentence_length: 10.464075934117792\n",
      "longest_sentence_text: PATCH NOTES General Gameplay Fixed technology becoming instantly fully charged when repaired Fixed ship appearing on incorrect pad in space station after loading Added interactable objects that required certain tech to collect Added shootable objects that require certain tech to mine Rebalanced resource availability and technology charge requirements Fixed initial game flow - where travelling to space too quickly after visiting the monolith could prevent the first atlas station notification appearing Prevented player being prompted to scan for buildings before leaving the system after visiting the monolith Prevented laser and melee attacks while in space from attempting to edit terrain Improved calculation of resources received when mining terrain Renamed Signal Scanners to Signal Boosters Signal booster objects updated to search for playable bases, suit upgrade pods, and mineable resources Removed signal booster from being distributed on terrain, as player can now build them Improved accuracy of environment detection, fixing cases where it rained inside caves Fixed galactic waypoints not loading correctly across saves Removed atlas pass v1 requirement from doors in stations Suit upgrade pods are no longer spawned in stations Suit upgrade pods can now only be used once Fixed collision in anomaly that was causing issues when exiting larger ships Increased the number of different NPC character models generated per system Fixed the game always remaining in day time for players who began their save prior to patch 1.03 Fixed a potential crash in foliage instance renderer Localisation Fixed stats page in asian languages Fixed multiple issues with asian language formatting Multiple improvements and fixes to localisation text in all languages UI Added new icons for specific types of primary resources Fixed health bars not appearing on some targets Added hazard and life support drain indicators Fixed mission messages not appearing in a timely fashion Beacons now notify the player that they will save the game Fixed crash when creature IK animations were updated under certain conditions on the discovery screen Improved navigation in discovery UI Massive speed improvements to browsing huge discovery lists Increased size of discovery storage Added option to load \"Earliest\" previous save in Options menu Fixed weapon naming Added icon to remind players of the reload button when weapon is empty Multiple fixes for viewing discoveries PS4 Added photo mode Large optimisations to the engine to accommodate base building PC Added support for up to 8 mouse buttons Fixed better order position history for mouse smoothing Fixed bug where setting gamma to zero gave a fully bright rather than fully dark image Fixed hard-limiting on save sizes, with appropriate warning about free space on boot Player is now notified when shaders are being loaded Fixed occasional crash on exit Fixed performance of trail renderer for some AMD cards Large optimisations to the engine to accommodate base building Generation Added biome specific plants Adopted new method of distributing resource plants on terrain, for more lifelike clumps of plants Improved distribution of plant life across all terrain types Introduced visual differentiation of red, green and blue star systems Introduced new mineable terrain resources found only in red, green and blue star systems Reduced average building frequency Introduced planets with elevated building density Introduced planets with no buildings or sentient life Increased the proportion of lush and tropical planets Decreased the proportion of lifeless planets Fixed bug where multiple ships could appear, overlapping, at the player's start scene Prevented certain building types being incorrectly placed underwater Prevented multiple buildings occasionally being placed in overlapping positions Prevented buildings occasionally being placed intersecting with the terrain Improved and altered per-planet terrain resource generation, improving gameplay and visuals Creatures Fixed elevation cache mismatches, causing errors in creature knowledge and pathing Fixed slow memory leak in creature role allocation Improved creature animation speeds Fixed issues where some creatures turns had the incorrect frame count Fixed occasional crash when interacting with creatures Atmospherics Increased proportion of vibrant blue skies Corrected cloud levels for clear skies Improved average cloud level settings Fixed cloud rendering while flying in your ship Improved atmosphere depth when transitioning to space Increased fidelity of atmosphere rendering on nearest planet Improved atmospheric fog as you fly to a planet Improved fog method for planets seen on the horizon Terrain Improved terrain generation algorithms Improved and extended blend areas between different terrain noise types Terrains now generate more open spaces Smaller features now appear at nearer lods to improve visuals in the distance Fixed objects being placed on incorrect terrain material types Improved resolution of distant planet terrain Decreased differences between planet as seen from space and actual planet terrain Fixed seams on planets when seen from space Improvements to terrain material selection and terrain material blending Terrain generation priority and cost calculation improvements Fixed terrain generation angle calculations, which would previously prevent nearest region being generated first We now generate caves on lower terrain lods to decrease visual differences in lower detail terrain Introduced more varied and vibrant colouring to terrain for each biome Decreased frequency of brown terrain colour selections Changed texture scales to improve transition between terrain lods Improved terrain colour combinations to add variety and better match terrain contouring Improved terrain texture blending method to better retain vibrant colours Improved settings for hue, saturation and value noise variation on terrain Fixed a number of issues causing holes to be seen in the planet terrain Fixed occasional crash when mining terrain Visuals Fixed colour of muzzle flashes on player weapons Added muzzle flashes to ship weapons Added cockpit lighting for damage and weapon firing Added debris to freighter explosion effect Improved freighter cargo explosions Improved photon cannon hit and space explosion effects Improved turret explosion effect Improved grass colour selection Improved grass colouring method to match underlying terrain colour Improved grass placement to match gradient of terrain, and rocky terrain slope patches Improved lighting on grass Improved alpha cutoffs and blending for grass in the distance Improved colouring method for on-planet buildings Fixed \"pop\" in lighting when flying between planets Fixed incorrect lighting seen in shadow areas Improved lighting method when rendering tree leaves Fixed procedural texturing on objects with multiple overlapping textures Fixed size of certain texture atlas normal maps Fixed texture scaling on asteroids Zinc plant is now more obvious when it has been gathered Fixed occasional rendering errors due to precision on cockpit during warp Fixed pulse lines not appearing when pulse driving out from planet atmosphere Fixed shadowing artefacts on imposters Space Improved asteroids to allow much denser fields Improved explosion effects Fixed scale of moons on the space map Added freighter groups to the space map Changed distribution of resources in asteroids AI ships will now clear asteroids in their path Planets are now scannable from space to see their resources Space Combat Fixed bounty targets warping out too soon Improved HUD indicators in space combat Added damaged ship effect on AI starships Added formation flying Improved locking on passive starships Improved AI combat flight patterns Added new ship weapon technology Holding brake whilst turning now activates drift for fast turns Improved AI ship freighter attacking Improved freighter targeting code when under attack by enemy ships Freighters Fixed pulse drive to prevent travel through freighters Improved docking code Added hangar to the lead freighter Added docking in freighters Added icon to accessible freighter hangars Added colouring to cargo drops to identify what is in them You can now only pick up cargo drops that will fit in your inventory Added auxiliary freight ships to freighter groups Added alert lights and alarm audio for when freighters are in combat Improved turret lights and explosions Improved muzzle flashes on freighter turrets Added indicator of cargo contents Freighter Commanders now give rewards for rescuing them from pirate attack Fixed collision on freighter cargo containers Audio Updated the lush ambience to make the wind sounds less noisy Ambient background fauna now checks for the presence of creatures Added rain on foliage Added rain on ship Added freighter specific footsteps When on a dead planet, no music will play Round table prop now plays an appropriate sound Added more music to the loading sequence and game start Added audio to new base building props Created sounds for new base building props Added audio to freighter doors and internal freighter ambiences Added freighter explosions Added freighter alarm Added ambient radio comms when approaching a freighter Fixed missing sounds when in a space station due to the mix settings Multi-tool upgrades now affect audio Lots of minor mix changes Changed some compression settings for PS4 audio to make the sub-channel audio play more reliably\n",
      "longest_sentence_label: 0.0\n"
     ]
    }
   ],
   "source": [
    "#find longest sentence and average sentence length\n",
    "longest_sentence_length = 0\n",
    "longest_sentence_text = ''\n",
    "longest_sentence_label = 0\n",
    "longest_sentence_index = 0\n",
    "sum_word_count = 0\n",
    "sum_number_of_sentences = 0\n",
    "average_sentence_length = 0\n",
    "\n",
    "\n",
    "for index, row in data.iterrows():\n",
    "    sentence_length = len(row['text'].split())\n",
    "    sum_word_count += sentence_length\n",
    "    sum_number_of_sentences += 1\n",
    "    #remove junk sentences\n",
    "    if sentence_length > 1500:\n",
    "        data = data.drop(index, axis='index')\n",
    "        continue\n",
    "    # proceed to set longest sentence variables\n",
    "    if longest_sentence_length < sentence_length:\n",
    "        longest_sentence_length = sentence_length\n",
    "        longest_sentence_text = row['text']\n",
    "        longest_sentence_label = row['label']\n",
    "        longest_sentence_index = index\n",
    "    \n",
    "\n",
    "\n",
    "average_sentence_length = sum_word_count / sum_number_of_sentences\n",
    "\n",
    "\n",
    "print('longest_sentence_length: {}'.format(longest_sentence_length))\n",
    "print('average_sentence_length: {}'.format(average_sentence_length))\n",
    "print('longest_sentence_text: {}'.format(longest_sentence_text))\n",
    "print('longest_sentence_label: {}'.format(longest_sentence_label))"
   ]
  },
  {
   "cell_type": "code",
   "execution_count": 11,
   "metadata": {},
   "outputs": [
    {
     "name": "stdout",
     "output_type": "stream",
     "text": [
      "<class 'pandas.core.frame.DataFrame'>\n",
      "Int64Index: 1042579 entries, 0 to 1042587\n",
      "Data columns (total 2 columns):\n",
      " #   Column  Non-Null Count    Dtype  \n",
      "---  ------  --------------    -----  \n",
      " 0   text    1042579 non-null  object \n",
      " 1   label   1042579 non-null  float64\n",
      "dtypes: float64(1), object(1)\n",
      "memory usage: 23.9+ MB\n"
     ]
    }
   ],
   "source": [
    "data.info()"
   ]
  },
  {
   "cell_type": "code",
   "execution_count": null,
   "metadata": {},
   "outputs": [],
   "source": [
    "## TODO: Analyze and graph data on various metrics, \n",
    "# and find a smaller (like 14,000) subset of the data that is a good sample of the larger dataset "
   ]
  }
 ],
 "metadata": {
  "kernelspec": {
   "display_name": "Python 3.10.7 64-bit",
   "language": "python",
   "name": "python3"
  },
  "language_info": {
   "codemirror_mode": {
    "name": "ipython",
    "version": 3
   },
   "file_extension": ".py",
   "mimetype": "text/x-python",
   "name": "python",
   "nbconvert_exporter": "python",
   "pygments_lexer": "ipython3",
   "version": "3.10.7"
  },
  "orig_nbformat": 4,
  "vscode": {
   "interpreter": {
    "hash": "da54bfd8a70fb1078fbbf4ee243c149343ee1753513ba172628f6a6e03c017b1"
   }
  }
 },
 "nbformat": 4,
 "nbformat_minor": 2
}
