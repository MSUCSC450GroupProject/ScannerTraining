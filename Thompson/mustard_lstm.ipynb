{
 "cells": [
  {
   "cell_type": "code",
   "execution_count": 1,
   "metadata": {},
   "outputs": [],
   "source": [
    "import tensorflow as tf\n",
    "import pandas as pd\n",
    "import math\n",
    "import wandb\n",
    "from wandb.keras import WandbCallback\n",
    "import matplotlib.pyplot as plt\n",
    "import tensorflow_hub as hub\n",
    "import tensorflow_text as text\n",
    "from official.nlp import optimization"
   ]
  },
  {
   "cell_type": "code",
   "execution_count": 2,
   "metadata": {},
   "outputs": [
    {
     "data": {
      "text/plain": [
       "[PhysicalDevice(name='/physical_device:GPU:0', device_type='GPU')]"
      ]
     },
     "execution_count": 2,
     "metadata": {},
     "output_type": "execute_result"
    }
   ],
   "source": [
    "tf.config.run_functions_eagerly(True)\n",
    "tf.data.experimental.enable_debug_mode()\n",
    "tf.config.list_physical_devices('GPU')"
   ]
  },
  {
   "cell_type": "code",
   "execution_count": 3,
   "metadata": {},
   "outputs": [
    {
     "data": {
      "text/html": [
       "<div>\n",
       "<style scoped>\n",
       "    .dataframe tbody tr th:only-of-type {\n",
       "        vertical-align: middle;\n",
       "    }\n",
       "\n",
       "    .dataframe tbody tr th {\n",
       "        vertical-align: top;\n",
       "    }\n",
       "\n",
       "    .dataframe thead th {\n",
       "        text-align: right;\n",
       "    }\n",
       "</style>\n",
       "<table border=\"1\" class=\"dataframe\">\n",
       "  <thead>\n",
       "    <tr style=\"text-align: right;\">\n",
       "      <th></th>\n",
       "      <th>text</th>\n",
       "      <th>label</th>\n",
       "    </tr>\n",
       "  </thead>\n",
       "  <tbody>\n",
       "    <tr>\n",
       "      <th>5</th>\n",
       "      <td>And of those few months, how long have you bee...</td>\n",
       "      <td>0.0</td>\n",
       "    </tr>\n",
       "    <tr>\n",
       "      <th>14</th>\n",
       "      <td>Let the dead man talk. So, why do you think that?</td>\n",
       "      <td>0.0</td>\n",
       "    </tr>\n",
       "    <tr>\n",
       "      <th>18</th>\n",
       "      <td>What else? Sell it on eBay as \"slightly used.\"</td>\n",
       "      <td>0.0</td>\n",
       "    </tr>\n",
       "    <tr>\n",
       "      <th>24</th>\n",
       "      <td>Good idea, sit with her. Hold her, comfort her...</td>\n",
       "      <td>1.0</td>\n",
       "    </tr>\n",
       "    <tr>\n",
       "      <th>31</th>\n",
       "      <td>Well, now that I've given up string theory, I'...</td>\n",
       "      <td>0.0</td>\n",
       "    </tr>\n",
       "  </tbody>\n",
       "</table>\n",
       "</div>"
      ],
      "text/plain": [
       "                                                 text  label\n",
       "5   And of those few months, how long have you bee...    0.0\n",
       "14  Let the dead man talk. So, why do you think that?    0.0\n",
       "18     What else? Sell it on eBay as \"slightly used.\"    0.0\n",
       "24  Good idea, sit with her. Hold her, comfort her...    1.0\n",
       "31  Well, now that I've given up string theory, I'...    0.0"
      ]
     },
     "execution_count": 3,
     "metadata": {},
     "output_type": "execute_result"
    }
   ],
   "source": [
    "data_sitcoms = pd.read_csv(\"../shared_data/mustard++_text.csv\")\n",
    "\n",
    "# Adjust sitcom data\n",
    "data_sitcoms = data_sitcoms.drop(columns=['SCENE','KEY','END_TIME','SPEAKER','SHOW','Sarcasm_Type','Implicit_Emotion','Explicit_Emotion','Valence','Arousal'], axis=1)\n",
    "data_sitcoms = data_sitcoms.rename(columns={'SENTENCE':'text','Sarcasm':'label'})\n",
    "\n",
    "# remove empty label rows\n",
    "for index, row in data_sitcoms.iterrows():\n",
    "    if math.isnan(row['label']):\n",
    "        data_sitcoms = data_sitcoms.drop(index, axis='index')\n",
    "\n",
    "data_sitcoms.head()"
   ]
  },
  {
   "cell_type": "code",
   "execution_count": 4,
   "metadata": {},
   "outputs": [
    {
     "name": "stdout",
     "output_type": "stream",
     "text": [
      "<class 'pandas.core.frame.DataFrame'>\n",
      "Int64Index: 1202 entries, 5 to 6040\n",
      "Data columns (total 2 columns):\n",
      " #   Column  Non-Null Count  Dtype  \n",
      "---  ------  --------------  -----  \n",
      " 0   text    1202 non-null   object \n",
      " 1   label   1202 non-null   float64\n",
      "dtypes: float64(1), object(1)\n",
      "memory usage: 28.2+ KB\n"
     ]
    }
   ],
   "source": [
    "data_sitcoms.info()"
   ]
  },
  {
   "cell_type": "markdown",
   "metadata": {},
   "source": [
    "Set Sitcoms dataset variables"
   ]
  },
  {
   "cell_type": "code",
   "execution_count": 5,
   "metadata": {},
   "outputs": [],
   "source": [
    "subset_size = len(data_sitcoms.index)\n",
    "testing_size = int(subset_size * 0.2)\n",
    "validation_size = testing_size\n",
    "shuffle_size = subset_size - validation_size\n",
    "data_batch_size = 16"
   ]
  },
  {
   "cell_type": "markdown",
   "metadata": {},
   "source": [
    "Shuffle data, set train data, set test data"
   ]
  },
  {
   "cell_type": "code",
   "execution_count": 6,
   "metadata": {},
   "outputs": [],
   "source": [
    "data = data_sitcoms.sample(frac=1).reset_index(drop=True)\n",
    "train_data = data.head(subset_size - testing_size)\n",
    "test_data = data.tail(testing_size)"
   ]
  },
  {
   "cell_type": "code",
   "execution_count": 7,
   "metadata": {},
   "outputs": [],
   "source": [
    "train_dataset = tf.data.Dataset.from_tensor_slices(\n",
    "    (\n",
    "        train_data['text'][validation_size:],\n",
    "        train_data['label'][validation_size:]\n",
    "    )\n",
    ").shuffle(shuffle_size).batch(data_batch_size)"
   ]
  },
  {
   "cell_type": "code",
   "execution_count": 8,
   "metadata": {},
   "outputs": [],
   "source": [
    "validate_dataset = tf.data.Dataset.from_tensor_slices(\n",
    "    (\n",
    "        train_data['text'][:validation_size],\n",
    "        train_data['label'][:validation_size]\n",
    "    )\n",
    ").batch(data_batch_size)"
   ]
  },
  {
   "cell_type": "code",
   "execution_count": 9,
   "metadata": {},
   "outputs": [],
   "source": [
    "test_dataset = tf.data.Dataset.from_tensor_slices(\n",
    "    (\n",
    "        test_data['text'],\n",
    "        test_data['label']\n",
    "    )\n",
    ")"
   ]
  },
  {
   "cell_type": "code",
   "execution_count": 10,
   "metadata": {},
   "outputs": [],
   "source": [
    "text_vocab_dataset = tf.data.Dataset.from_tensor_slices(train_data['text'])"
   ]
  },
  {
   "cell_type": "markdown",
   "metadata": {},
   "source": [
    "Set training variables"
   ]
  },
  {
   "cell_type": "code",
   "execution_count": 11,
   "metadata": {},
   "outputs": [],
   "source": [
    "epochs = 10\n",
    "\n",
    "##define the parameters for tokenizing and padding\n",
    "vocab_size = 10000\n",
    "embedding_dim = 1024\n",
    "max_length = 120"
   ]
  },
  {
   "cell_type": "markdown",
   "metadata": {},
   "source": [
    "Initialize and configure WandB graphing library"
   ]
  },
  {
   "cell_type": "code",
   "execution_count": 12,
   "metadata": {},
   "outputs": [
    {
     "name": "stderr",
     "output_type": "stream",
     "text": [
      "Failed to detect the name of this notebook, you can set it manually with the WANDB_NOTEBOOK_NAME environment variable to enable code saving.\n",
      "\u001b[34m\u001b[1mwandb\u001b[0m: Currently logged in as: \u001b[33mnrtyc4\u001b[0m (\u001b[33mawesomepossum\u001b[0m). Use \u001b[1m`wandb login --relogin`\u001b[0m to force relogin\n"
     ]
    },
    {
     "data": {
      "text/html": [
       "Tracking run with wandb version 0.13.4"
      ],
      "text/plain": [
       "<IPython.core.display.HTML object>"
      ]
     },
     "metadata": {},
     "output_type": "display_data"
    },
    {
     "data": {
      "text/html": [
       "Run data is saved locally in <code>c:\\Users\\natth\\Desktop\\School Work\\Github School Code\\ScannerTraining\\Thompson\\wandb\\run-20221015_194556-2rdl9i7j</code>"
      ],
      "text/plain": [
       "<IPython.core.display.HTML object>"
      ]
     },
     "metadata": {},
     "output_type": "display_data"
    },
    {
     "data": {
      "text/html": [
       "Syncing run <strong><a href=\"https://wandb.ai/awesomepossum/sarcasmscanner/runs/2rdl9i7j\" target=\"_blank\">warm-sea-48</a></strong> to <a href=\"https://wandb.ai/awesomepossum/sarcasmscanner\" target=\"_blank\">Weights & Biases</a> (<a href=\"https://wandb.me/run\" target=\"_blank\">docs</a>)<br/>"
      ],
      "text/plain": [
       "<IPython.core.display.HTML object>"
      ]
     },
     "metadata": {},
     "output_type": "display_data"
    }
   ],
   "source": [
    "wandb.init(project=\"sarcasmscanner\", entity=\"awesomepossum\")\n",
    "\n",
    "wandb.config = {\n",
    "    \"epochs\": epochs,\n",
    "    \"vocab_size\": vocab_size,\n",
    "    \"embedding_dim\": embedding_dim,\n",
    "    \"max_sentence_word_length\": max_length,\n",
    "    \"batch_size\": data_batch_size,\n",
    "    \"subset_size\": subset_size,\n",
    "    \"training_size\": subset_size - testing_size - validation_size,\n",
    "    \"testing_size\": testing_size,\n",
    "    \"validation_size\": validation_size,\n",
    "    \"dataset\": \"sitcoms\",\n",
    "    \"architecture\": \"LSTM\"\n",
    "}"
   ]
  },
  {
   "cell_type": "markdown",
   "metadata": {},
   "source": [
    "Create text vectorization layer, create vocabulary"
   ]
  },
  {
   "cell_type": "code",
   "execution_count": 13,
   "metadata": {},
   "outputs": [],
   "source": [
    "vectorize_layer = tf.keras.layers.TextVectorization(max_tokens=vocab_size, split='whitespace', output_mode='int', output_sequence_length=max_length)\n",
    "\n",
    "vectorize_layer.adapt(text_vocab_dataset.batch(data_batch_size))"
   ]
  },
  {
   "cell_type": "markdown",
   "metadata": {},
   "source": [
    "Create the model"
   ]
  },
  {
   "cell_type": "code",
   "execution_count": 14,
   "metadata": {},
   "outputs": [
    {
     "name": "stdout",
     "output_type": "stream",
     "text": [
      "Model: \"sequential\"\n",
      "_________________________________________________________________\n",
      " Layer (type)                Output Shape              Param #   \n",
      "=================================================================\n",
      " text_vectorization (TextVec  (None, 120)              0         \n",
      " torization)                                                     \n",
      "                                                                 \n",
      " embedding (Embedding)       (None, 120, 1024)         10240000  \n",
      "                                                                 \n",
      " bidirectional (Bidirectiona  (None, 120, 128)         557568    \n",
      " l)                                                              \n",
      "                                                                 \n",
      " bidirectional_1 (Bidirectio  (None, 64)               41216     \n",
      " nal)                                                            \n",
      "                                                                 \n",
      " dense (Dense)               (None, 16)                1040      \n",
      "                                                                 \n",
      " dense_1 (Dense)             (None, 1)                 17        \n",
      "                                                                 \n",
      "=================================================================\n",
      "Total params: 10,839,841\n",
      "Trainable params: 10,839,841\n",
      "Non-trainable params: 0\n",
      "_________________________________________________________________\n"
     ]
    }
   ],
   "source": [
    "model = tf.keras.Sequential([\n",
    "    vectorize_layer,\n",
    "    tf.keras.layers.Embedding(vocab_size, embedding_dim, input_length=max_length),\n",
    "    tf.keras.layers.Bidirectional(tf.keras.layers.LSTM(64, return_sequences=True)),\n",
    "    tf.keras.layers.Bidirectional(tf.keras.layers.LSTM(32)),\n",
    "    tf.keras.layers.Dense(16, activation='relu'),\n",
    "    tf.keras.layers.Dense(1, activation='sigmoid')\n",
    "])\n",
    "model.compile(loss='binary_crossentropy',optimizer='adam',metrics=['accuracy'])\n",
    "model.summary()"
   ]
  },
  {
   "cell_type": "markdown",
   "metadata": {},
   "source": [
    "Train the model"
   ]
  },
  {
   "cell_type": "code",
   "execution_count": 15,
   "metadata": {},
   "outputs": [
    {
     "name": "stderr",
     "output_type": "stream",
     "text": [
      "\u001b[34m\u001b[1mwandb\u001b[0m: \u001b[33mWARNING\u001b[0m The save_model argument by default saves the model in the HDF5 format that cannot save custom objects like subclassed models and custom layers. This behavior will be deprecated in a future release in favor of the SavedModel format. Meanwhile, the HDF5 model is saved as W&B files and the SavedModel as W&B Artifacts.\n"
     ]
    },
    {
     "name": "stdout",
     "output_type": "stream",
     "text": [
      "Epoch 1/10\n",
      "46/46 [==============================] - ETA: 0s - loss: 0.6935 - accuracy: 0.5069"
     ]
    },
    {
     "name": "stderr",
     "output_type": "stream",
     "text": [
      "\u001b[34m\u001b[1mwandb\u001b[0m: \u001b[32m\u001b[41mERROR\u001b[0m Can't save model in the h5py format. The model will be saved as as an W&B Artifact in the 'tf' format.\n",
      "WARNING:absl:Found untraced functions such as adapt_step, lstm_cell_1_layer_call_fn, lstm_cell_1_layer_call_and_return_conditional_losses, lstm_cell_2_layer_call_fn, lstm_cell_2_layer_call_and_return_conditional_losses while saving (showing 5 of 9). These functions will not be directly callable after loading.\n"
     ]
    },
    {
     "name": "stdout",
     "output_type": "stream",
     "text": [
      "INFO:tensorflow:Assets written to: c:\\Users\\natth\\Desktop\\School Work\\Github School Code\\ScannerTraining\\Thompson\\wandb\\run-20221015_194556-2rdl9i7j\\files\\model-best\\assets\n"
     ]
    },
    {
     "name": "stderr",
     "output_type": "stream",
     "text": [
      "INFO:tensorflow:Assets written to: c:\\Users\\natth\\Desktop\\School Work\\Github School Code\\ScannerTraining\\Thompson\\wandb\\run-20221015_194556-2rdl9i7j\\files\\model-best\\assets\n",
      "\u001b[34m\u001b[1mwandb\u001b[0m: Adding directory to artifact (c:\\Users\\natth\\Desktop\\School Work\\Github School Code\\ScannerTraining\\Thompson\\wandb\\run-20221015_194556-2rdl9i7j\\files\\model-best)... Done. 0.8s\n"
     ]
    },
    {
     "name": "stdout",
     "output_type": "stream",
     "text": [
      "46/46 [==============================] - 47s 1s/step - loss: 0.6935 - accuracy: 0.5069 - val_loss: 0.6866 - val_accuracy: 0.5792\n",
      "Epoch 2/10\n",
      "46/46 [==============================] - ETA: 0s - loss: 0.6528 - accuracy: 0.6634"
     ]
    },
    {
     "name": "stderr",
     "output_type": "stream",
     "text": [
      "\u001b[34m\u001b[1mwandb\u001b[0m: \u001b[32m\u001b[41mERROR\u001b[0m Can't save model in the h5py format. The model will be saved as as an W&B Artifact in the 'tf' format.\n",
      "WARNING:absl:Found untraced functions such as adapt_step, lstm_cell_1_layer_call_fn, lstm_cell_1_layer_call_and_return_conditional_losses, lstm_cell_2_layer_call_fn, lstm_cell_2_layer_call_and_return_conditional_losses while saving (showing 5 of 9). These functions will not be directly callable after loading.\n"
     ]
    },
    {
     "name": "stdout",
     "output_type": "stream",
     "text": [
      "INFO:tensorflow:Assets written to: c:\\Users\\natth\\Desktop\\School Work\\Github School Code\\ScannerTraining\\Thompson\\wandb\\run-20221015_194556-2rdl9i7j\\files\\model-best\\assets\n"
     ]
    },
    {
     "name": "stderr",
     "output_type": "stream",
     "text": [
      "INFO:tensorflow:Assets written to: c:\\Users\\natth\\Desktop\\School Work\\Github School Code\\ScannerTraining\\Thompson\\wandb\\run-20221015_194556-2rdl9i7j\\files\\model-best\\assets\n",
      "\u001b[34m\u001b[1mwandb\u001b[0m: Adding directory to artifact (c:\\Users\\natth\\Desktop\\School Work\\Github School Code\\ScannerTraining\\Thompson\\wandb\\run-20221015_194556-2rdl9i7j\\files\\model-best)... Done. 1.0s\n"
     ]
    },
    {
     "name": "stdout",
     "output_type": "stream",
     "text": [
      "46/46 [==============================] - 45s 986ms/step - loss: 0.6528 - accuracy: 0.6634 - val_loss: 0.6494 - val_accuracy: 0.6417\n",
      "Epoch 3/10\n",
      "46/46 [==============================] - 6s 121ms/step - loss: 0.4109 - accuracy: 0.8366 - val_loss: 0.8119 - val_accuracy: 0.5917\n",
      "Epoch 4/10\n",
      "46/46 [==============================] - 5s 112ms/step - loss: 0.1711 - accuracy: 0.9515 - val_loss: 1.3688 - val_accuracy: 0.5292\n",
      "Epoch 5/10\n",
      "46/46 [==============================] - 5s 112ms/step - loss: 0.0986 - accuracy: 0.9668 - val_loss: 1.5161 - val_accuracy: 0.5542\n",
      "Epoch 6/10\n",
      "46/46 [==============================] - 5s 109ms/step - loss: 0.0476 - accuracy: 0.9875 - val_loss: 1.6787 - val_accuracy: 0.5250\n",
      "Epoch 7/10\n",
      "46/46 [==============================] - 5s 114ms/step - loss: 0.0391 - accuracy: 0.9903 - val_loss: 1.7559 - val_accuracy: 0.5458\n",
      "Epoch 8/10\n",
      "46/46 [==============================] - 5s 110ms/step - loss: 0.0344 - accuracy: 0.9889 - val_loss: 1.6113 - val_accuracy: 0.5667\n",
      "Epoch 9/10\n",
      "46/46 [==============================] - 5s 113ms/step - loss: 0.0253 - accuracy: 0.9917 - val_loss: 2.1849 - val_accuracy: 0.5000\n",
      "Epoch 10/10\n",
      "46/46 [==============================] - 5s 109ms/step - loss: 0.0310 - accuracy: 0.9889 - val_loss: 1.9804 - val_accuracy: 0.5208\n"
     ]
    }
   ],
   "source": [
    "history = model.fit(x=train_dataset,\n",
    "                        validation_data=validate_dataset,\n",
    "                        epochs=epochs,\n",
    "                        callbacks=[WandbCallback()])"
   ]
  },
  {
   "cell_type": "markdown",
   "metadata": {},
   "source": [
    "Test the model"
   ]
  },
  {
   "cell_type": "code",
   "execution_count": 16,
   "metadata": {},
   "outputs": [
    {
     "name": "stdout",
     "output_type": "stream",
     "text": [
      "8/8 [==============================] - 0s 51ms/step - loss: 1.8544 - accuracy: 0.5583\n",
      "Loss: 1.8544219732284546\n",
      "Accuracy: 0.5583333373069763\n"
     ]
    }
   ],
   "source": [
    "loss, accuracy = model.evaluate(test_dataset.batch(32))\n",
    "print(f'Loss: {loss}')\n",
    "print(f'Accuracy: {accuracy}')"
   ]
  },
  {
   "cell_type": "markdown",
   "metadata": {},
   "source": [
    "Plot the accuracy and loss over time"
   ]
  },
  {
   "cell_type": "code",
   "execution_count": 17,
   "metadata": {},
   "outputs": [
    {
     "data": {
      "image/png": "[encoded data removed]",
      "text/plain": [
       "<Figure size 432x288 with 1 Axes>"
      ]
     },
     "metadata": {
      "needs_background": "light"
     },
     "output_type": "display_data"
    },
    {
     "data": {
      "image/png": "[encoded data removed]",
      "text/plain": [
       "<Figure size 432x288 with 1 Axes>"
      ]
     },
     "metadata": {
      "needs_background": "light"
     },
     "output_type": "display_data"
    }
   ],
   "source": [
    "def plot_metrics(history, metric):\n",
    "  plt.plot(history.history[metric])\n",
    "  plt.plot(history.history['val_'+metric])\n",
    "  plt.xlabel(\"Epochs\")\n",
    "  plt.ylabel(metric)\n",
    "  plt.legend([metric, 'val_'+metric])\n",
    "  plt.show()\n",
    "  \n",
    "plot_metrics(history, \"accuracy\")\n",
    "plot_metrics(history, \"loss\")"
   ]
  },
  {
   "cell_type": "markdown",
   "metadata": {},
   "source": [
    "Export for inference"
   ]
  },
  {
   "cell_type": "code",
   "execution_count": 18,
   "metadata": {},
   "outputs": [
    {
     "name": "stderr",
     "output_type": "stream",
     "text": [
      "WARNING:absl:Found untraced functions such as adapt_step, lstm_cell_1_layer_call_fn, lstm_cell_1_layer_call_and_return_conditional_losses, lstm_cell_2_layer_call_fn, lstm_cell_2_layer_call_and_return_conditional_losses while saving (showing 5 of 9). These functions will not be directly callable after loading.\n"
     ]
    },
    {
     "name": "stdout",
     "output_type": "stream",
     "text": [
      "INFO:tensorflow:Assets written to: ./model_saves/mustard_lstm/assets\n"
     ]
    },
    {
     "name": "stderr",
     "output_type": "stream",
     "text": [
      "INFO:tensorflow:Assets written to: ./model_saves/mustard_lstm/assets\n"
     ]
    }
   ],
   "source": [
    "saved_model_path = './model_saves/mustard_lstm/'\n",
    "model.save(saved_model_path, include_optimizer=False)"
   ]
  },
  {
   "cell_type": "markdown",
   "metadata": {},
   "source": [
    "Reload and test inference"
   ]
  },
  {
   "cell_type": "code",
   "execution_count": 19,
   "metadata": {},
   "outputs": [],
   "source": [
    "reloaded_model = tf.saved_model.load(saved_model_path)"
   ]
  },
  {
   "cell_type": "code",
   "execution_count": 20,
   "metadata": {},
   "outputs": [
    {
     "name": "stdout",
     "output_type": "stream",
     "text": [
      "Results from the saved model:\n",
      "input:  Please, keep talking. I always yawn when I am interested.  : score:  0.7279666  : rounded:  1\n",
      "input:  Well, what a surprise.  : score:  0.5019886  : rounded:  1\n",
      "input:  Really, Sherlock? No! You are clever.  : score:  0.5630474  : rounded:  1\n",
      "input:  The quick brown fox jumps over the lazy dog  : score:  0.5020925  : rounded:  1\n",
      "input:  Numerous references to the phrase have occurred in movies, television, and books.  : score:  0.51933545  : rounded:  1\n",
      "\n",
      "Results from the model in memory:\n",
      "input:  Please, keep talking. I always yawn when I am interested.  : score:  0.7279666  : rounded:  1\n",
      "input:  Well, what a surprise.  : score:  0.5019886  : rounded:  1\n",
      "input:  Really, Sherlock? No! You are clever.  : score:  0.5630474  : rounded:  1\n",
      "input:  The quick brown fox jumps over the lazy dog  : score:  0.5020925  : rounded:  1\n",
      "input:  Numerous references to the phrase have occurred in movies, television, and books.  : score:  0.51933545  : rounded:  1\n",
      "\n"
     ]
    }
   ],
   "source": [
    "from tensorflow.python.ops.numpy_ops import np_config\n",
    "np_config.enable_numpy_behavior()\n",
    "\n",
    "def print_my_examples(inputs, results):\n",
    "  for i in range(len(inputs)):\n",
    "    print('input: ', inputs[i], ' : score: ', results.numpy()[i][0], ' : rounded: ', round(results.numpy()[i][0]))\n",
    "  print()\n",
    "\n",
    "\n",
    "examples = [\n",
    "    \"Please, keep talking. I always yawn when I am interested.\", # expect 1\n",
    "    \"Well, what a surprise.\", # expect 1\n",
    "    \"Really, Sherlock? No! You are clever.\", # expect 1\n",
    "    \"The quick brown fox jumps over the lazy dog\", # expect 0\n",
    "    \"Numerous references to the phrase have occurred in movies, television, and books.\" # expect 0\n",
    "]\n",
    "\n",
    "reloaded_results = tf.sigmoid(reloaded_model(tf.constant(examples)))\n",
    "original_results = tf.sigmoid(model(tf.constant(examples)))\n",
    "\n",
    "print('Results from the saved model:')\n",
    "print_my_examples(examples, reloaded_results)\n",
    "print('Results from the model in memory:')\n",
    "print_my_examples(examples, original_results)"
   ]
  },
  {
   "cell_type": "markdown",
   "metadata": {},
   "source": [
    "Set training variables"
   ]
  },
  {
   "cell_type": "code",
   "execution_count": 21,
   "metadata": {},
   "outputs": [],
   "source": [
    "epochs = 10\n",
    "steps_per_epoch = tf.data.experimental.cardinality(train_dataset).numpy()\n",
    "num_train_steps = steps_per_epoch * epochs\n",
    "num_warmup_steps = int(0.1*num_train_steps)\n",
    "init_lr = 3e-5"
   ]
  },
  {
   "cell_type": "markdown",
   "metadata": {},
   "source": [
    "Download preprocessing and encoding model layers from tensorflow hub"
   ]
  },
  {
   "cell_type": "code",
   "execution_count": 22,
   "metadata": {},
   "outputs": [
    {
     "name": "stdout",
     "output_type": "stream",
     "text": [
      "WARNING:tensorflow:Please fix your imports. Module tensorflow.python.training.tracking.data_structures has been moved to tensorflow.python.trackable.data_structures. The old module will be deleted in version 2.11.\n"
     ]
    },
    {
     "name": "stderr",
     "output_type": "stream",
     "text": [
      "WARNING:tensorflow:Please fix your imports. Module tensorflow.python.training.tracking.data_structures has been moved to tensorflow.python.trackable.data_structures. The old module will be deleted in version 2.11.\n"
     ]
    }
   ],
   "source": [
    "preprocessing_layer = hub.KerasLayer(\n",
    "    'https://tfhub.dev/tensorflow/bert_en_uncased_preprocess/3', \n",
    "    name='preprocessing'\n",
    ")\n",
    "\n",
    "bert_encoder = hub.KerasLayer(\n",
    "    'https://tfhub.dev/tensorflow/small_bert/bert_en_uncased_L-4_H-512_A-8/1', \n",
    "    trainable=True, \n",
    "    name='BERT_encoder'\n",
    ")"
   ]
  },
  {
   "cell_type": "markdown",
   "metadata": {},
   "source": [
    "Create model using the BERT encoder"
   ]
  },
  {
   "cell_type": "code",
   "execution_count": 23,
   "metadata": {},
   "outputs": [],
   "source": [
    "def build_classifier_model():\n",
    "    text_input = tf.keras.layers.Input(shape=(), dtype=tf.string, name='text')\n",
    "    encoder_inputs = preprocessing_layer(text_input)\n",
    "    outputs = bert_encoder(encoder_inputs)\n",
    "    net = outputs['pooled_output']\n",
    "    net = tf.keras.layers.Dropout(0.1)(net)\n",
    "    net = tf.keras.layers.Dense(1, activation=None, name='classifier')(net)\n",
    "    return tf.keras.Model(text_input, net)\n",
    "\n",
    "classifier_model = build_classifier_model()"
   ]
  },
  {
   "cell_type": "markdown",
   "metadata": {},
   "source": [
    "Sanity check of model"
   ]
  },
  {
   "cell_type": "code",
   "execution_count": 24,
   "metadata": {},
   "outputs": [
    {
     "name": "stdout",
     "output_type": "stream",
     "text": [
      "tf.Tensor([[0.5291322]], shape=(1, 1), dtype=float32)\n"
     ]
    }
   ],
   "source": [
    "text_test = [\"Please, keep talking. I always yawn when I am interested.\"]\n",
    "bert_raw_result = classifier_model(tf.constant(text_test))\n",
    "print(tf.sigmoid(bert_raw_result))"
   ]
  },
  {
   "cell_type": "code",
   "execution_count": 25,
   "metadata": {},
   "outputs": [
    {
     "name": "stdout",
     "output_type": "stream",
     "text": [
      "You must install pydot (`pip install pydot`) and install graphviz (see instructions at https://graphviz.gitlab.io/download/) for plot_model to work.\n"
     ]
    }
   ],
   "source": [
    "tf.keras.utils.plot_model(classifier_model)"
   ]
  },
  {
   "cell_type": "markdown",
   "metadata": {},
   "source": [
    "Set loss function"
   ]
  },
  {
   "cell_type": "code",
   "execution_count": 26,
   "metadata": {},
   "outputs": [],
   "source": [
    "loss = tf.keras.losses.BinaryCrossentropy(from_logits=True)\n",
    "metrics = tf.metrics.BinaryAccuracy()"
   ]
  },
  {
   "cell_type": "markdown",
   "metadata": {},
   "source": [
    "Create optimizer"
   ]
  },
  {
   "cell_type": "code",
   "execution_count": 27,
   "metadata": {},
   "outputs": [],
   "source": [
    "optimizer = optimization.create_optimizer(\n",
    "    init_lr=init_lr,\n",
    "    num_train_steps=num_train_steps,\n",
    "    num_warmup_steps=num_warmup_steps,\n",
    "    optimizer_type='adamw'\n",
    ")"
   ]
  },
  {
   "cell_type": "markdown",
   "metadata": {},
   "source": [
    "Compile model"
   ]
  },
  {
   "cell_type": "code",
   "execution_count": 28,
   "metadata": {},
   "outputs": [],
   "source": [
    "classifier_model.compile(optimizer=optimizer, loss=loss, metrics=metrics)"
   ]
  },
  {
   "cell_type": "markdown",
   "metadata": {},
   "source": [
    "Train model"
   ]
  },
  {
   "cell_type": "code",
   "execution_count": 29,
   "metadata": {},
   "outputs": [
    {
     "name": "stdout",
     "output_type": "stream",
     "text": [
      "Epoch 1/10\n",
      "46/46 [==============================] - 18s 322ms/step - loss: 0.7297 - binary_accuracy: 0.5042 - val_loss: 0.6509 - val_binary_accuracy: 0.5875\n",
      "Epoch 2/10\n",
      "46/46 [==============================] - 13s 287ms/step - loss: 0.6547 - binary_accuracy: 0.5956 - val_loss: 0.6388 - val_binary_accuracy: 0.5750\n",
      "Epoch 3/10\n",
      "46/46 [==============================] - 13s 287ms/step - loss: 0.5831 - binary_accuracy: 0.6662 - val_loss: 0.6427 - val_binary_accuracy: 0.5458\n",
      "Epoch 4/10\n",
      "46/46 [==============================] - 13s 286ms/step - loss: 0.5086 - binary_accuracy: 0.7382 - val_loss: 0.6475 - val_binary_accuracy: 0.5542\n",
      "Epoch 5/10\n",
      "46/46 [==============================] - 13s 283ms/step - loss: 0.4250 - binary_accuracy: 0.7936 - val_loss: 0.7374 - val_binary_accuracy: 0.5667\n",
      "Epoch 6/10\n",
      "46/46 [==============================] - 13s 284ms/step - loss: 0.3428 - binary_accuracy: 0.8546 - val_loss: 0.7036 - val_binary_accuracy: 0.5917\n",
      "Epoch 7/10\n",
      "46/46 [==============================] - 13s 291ms/step - loss: 0.2488 - binary_accuracy: 0.9100 - val_loss: 0.7307 - val_binary_accuracy: 0.6292\n",
      "Epoch 8/10\n",
      "46/46 [==============================] - 13s 285ms/step - loss: 0.2137 - binary_accuracy: 0.9252 - val_loss: 0.7705 - val_binary_accuracy: 0.6250\n",
      "Epoch 9/10\n",
      "46/46 [==============================] - 13s 284ms/step - loss: 0.1859 - binary_accuracy: 0.9377 - val_loss: 0.8151 - val_binary_accuracy: 0.6250\n",
      "Epoch 10/10\n",
      "46/46 [==============================] - 13s 286ms/step - loss: 0.1401 - binary_accuracy: 0.9557 - val_loss: 0.8152 - val_binary_accuracy: 0.6250\n"
     ]
    }
   ],
   "source": [
    "history = classifier_model.fit(x=train_dataset,\n",
    "                               validation_data=validate_dataset,\n",
    "                               epochs=epochs)"
   ]
  },
  {
   "cell_type": "markdown",
   "metadata": {},
   "source": [
    "Test model"
   ]
  },
  {
   "cell_type": "code",
   "execution_count": 30,
   "metadata": {},
   "outputs": [
    {
     "ename": "ValueError",
     "evalue": "Exception encountered when calling layer \"preprocessing\" \"                 f\"(type KerasLayer).\n\nCould not find matching concrete function to call loaded from the SavedModel. Got:\n  Positional arguments (3 total):\n    * <tf.Tensor 'inputs:0' shape=() dtype=string>\n    * False\n    * None\n  Keyword arguments: {}\n\n Expected these arguments to match one of the following 4 option(s):\n\nOption 1:\n  Positional arguments (3 total):\n    * TensorSpec(shape=(None,), dtype=tf.string, name='sentences')\n    * False\n    * None\n  Keyword arguments: {}\n\nOption 2:\n  Positional arguments (3 total):\n    * TensorSpec(shape=(None,), dtype=tf.string, name='sentences')\n    * True\n    * None\n  Keyword arguments: {}\n\nOption 3:\n  Positional arguments (3 total):\n    * TensorSpec(shape=(None,), dtype=tf.string, name='inputs')\n    * False\n    * None\n  Keyword arguments: {}\n\nOption 4:\n  Positional arguments (3 total):\n    * TensorSpec(shape=(None,), dtype=tf.string, name='inputs')\n    * True\n    * None\n  Keyword arguments: {}\n\nCall arguments received by layer \"preprocessing\" \"                 f\"(type KerasLayer):\n  • inputs=tf.Tensor(shape=(), dtype=string)\n  • training=False",
     "output_type": "error",
     "traceback": [
      "\u001b[1;31m---------------------------------------------------------------------------\u001b[0m",
      "\u001b[1;31mValueError\u001b[0m                                Traceback (most recent call last)",
      "\u001b[1;32mc:\\Users\\natth\\Desktop\\School Work\\Github School Code\\ScannerTraining\\Thompson\\mustard_lstm.ipynb Cell 50\u001b[0m in \u001b[0;36m<cell line: 1>\u001b[1;34m()\u001b[0m\n\u001b[1;32m----> <a href='vscode-notebook-cell:/c%3A/Users/natth/Desktop/School%20Work/Github%20School%20Code/ScannerTraining/Thompson/mustard_lstm.ipynb#Y100sZmlsZQ%3D%3D?line=0'>1</a>\u001b[0m loss, accuracy \u001b[39m=\u001b[39m classifier_model\u001b[39m.\u001b[39;49mevaluate(test_dataset)\n\u001b[0;32m      <a href='vscode-notebook-cell:/c%3A/Users/natth/Desktop/School%20Work/Github%20School%20Code/ScannerTraining/Thompson/mustard_lstm.ipynb#Y100sZmlsZQ%3D%3D?line=2'>3</a>\u001b[0m \u001b[39mprint\u001b[39m(\u001b[39mf\u001b[39m\u001b[39m'\u001b[39m\u001b[39mLoss: \u001b[39m\u001b[39m{\u001b[39;00mloss\u001b[39m}\u001b[39;00m\u001b[39m'\u001b[39m)\n\u001b[0;32m      <a href='vscode-notebook-cell:/c%3A/Users/natth/Desktop/School%20Work/Github%20School%20Code/ScannerTraining/Thompson/mustard_lstm.ipynb#Y100sZmlsZQ%3D%3D?line=3'>4</a>\u001b[0m \u001b[39mprint\u001b[39m(\u001b[39mf\u001b[39m\u001b[39m'\u001b[39m\u001b[39mAccuracy: \u001b[39m\u001b[39m{\u001b[39;00maccuracy\u001b[39m}\u001b[39;00m\u001b[39m'\u001b[39m)\n",
      "File \u001b[1;32m~\\AppData\\Roaming\\Python\\Python39\\site-packages\\keras\\utils\\traceback_utils.py:70\u001b[0m, in \u001b[0;36mfilter_traceback.<locals>.error_handler\u001b[1;34m(*args, **kwargs)\u001b[0m\n\u001b[0;32m     67\u001b[0m     filtered_tb \u001b[39m=\u001b[39m _process_traceback_frames(e\u001b[39m.\u001b[39m__traceback__)\n\u001b[0;32m     68\u001b[0m     \u001b[39m# To get the full stack trace, call:\u001b[39;00m\n\u001b[0;32m     69\u001b[0m     \u001b[39m# `tf.debugging.disable_traceback_filtering()`\u001b[39;00m\n\u001b[1;32m---> 70\u001b[0m     \u001b[39mraise\u001b[39;00m e\u001b[39m.\u001b[39mwith_traceback(filtered_tb) \u001b[39mfrom\u001b[39;00m \u001b[39mNone\u001b[39m\n\u001b[0;32m     71\u001b[0m \u001b[39mfinally\u001b[39;00m:\n\u001b[0;32m     72\u001b[0m     \u001b[39mdel\u001b[39;00m filtered_tb\n",
      "File \u001b[1;32mc:\\Users\\natth\\Anaconda3\\lib\\site-packages\\tensorflow_hub\\keras_layer.py:237\u001b[0m, in \u001b[0;36mKerasLayer.call\u001b[1;34m(self, inputs, training)\u001b[0m\n\u001b[0;32m    234\u001b[0m   \u001b[39melse\u001b[39;00m:\n\u001b[0;32m    235\u001b[0m     \u001b[39m# Behave like BatchNormalization. (Dropout is different, b/181839368.)\u001b[39;00m\n\u001b[0;32m    236\u001b[0m     training \u001b[39m=\u001b[39m \u001b[39mFalse\u001b[39;00m\n\u001b[1;32m--> 237\u001b[0m   result \u001b[39m=\u001b[39m smart_cond\u001b[39m.\u001b[39;49msmart_cond(training,\n\u001b[0;32m    238\u001b[0m                                  \u001b[39mlambda\u001b[39;49;00m: f(training\u001b[39m=\u001b[39;49m\u001b[39mTrue\u001b[39;49;00m),\n\u001b[0;32m    239\u001b[0m                                  \u001b[39mlambda\u001b[39;49;00m: f(training\u001b[39m=\u001b[39;49m\u001b[39mFalse\u001b[39;49;00m))\n\u001b[0;32m    241\u001b[0m \u001b[39m# Unwrap dicts returned by signatures.\u001b[39;00m\n\u001b[0;32m    242\u001b[0m \u001b[39mif\u001b[39;00m \u001b[39mself\u001b[39m\u001b[39m.\u001b[39m_output_key:\n",
      "File \u001b[1;32mc:\\Users\\natth\\Anaconda3\\lib\\site-packages\\tensorflow_hub\\keras_layer.py:239\u001b[0m, in \u001b[0;36mKerasLayer.call.<locals>.<lambda>\u001b[1;34m()\u001b[0m\n\u001b[0;32m    234\u001b[0m   \u001b[39melse\u001b[39;00m:\n\u001b[0;32m    235\u001b[0m     \u001b[39m# Behave like BatchNormalization. (Dropout is different, b/181839368.)\u001b[39;00m\n\u001b[0;32m    236\u001b[0m     training \u001b[39m=\u001b[39m \u001b[39mFalse\u001b[39;00m\n\u001b[0;32m    237\u001b[0m   result \u001b[39m=\u001b[39m smart_cond\u001b[39m.\u001b[39msmart_cond(training,\n\u001b[0;32m    238\u001b[0m                                  \u001b[39mlambda\u001b[39;00m: f(training\u001b[39m=\u001b[39m\u001b[39mTrue\u001b[39;00m),\n\u001b[1;32m--> 239\u001b[0m                                  \u001b[39mlambda\u001b[39;00m: f(training\u001b[39m=\u001b[39;49m\u001b[39mFalse\u001b[39;49;00m))\n\u001b[0;32m    241\u001b[0m \u001b[39m# Unwrap dicts returned by signatures.\u001b[39;00m\n\u001b[0;32m    242\u001b[0m \u001b[39mif\u001b[39;00m \u001b[39mself\u001b[39m\u001b[39m.\u001b[39m_output_key:\n",
      "\u001b[1;31mValueError\u001b[0m: Exception encountered when calling layer \"preprocessing\" \"                 f\"(type KerasLayer).\n\nCould not find matching concrete function to call loaded from the SavedModel. Got:\n  Positional arguments (3 total):\n    * <tf.Tensor 'inputs:0' shape=() dtype=string>\n    * False\n    * None\n  Keyword arguments: {}\n\n Expected these arguments to match one of the following 4 option(s):\n\nOption 1:\n  Positional arguments (3 total):\n    * TensorSpec(shape=(None,), dtype=tf.string, name='sentences')\n    * False\n    * None\n  Keyword arguments: {}\n\nOption 2:\n  Positional arguments (3 total):\n    * TensorSpec(shape=(None,), dtype=tf.string, name='sentences')\n    * True\n    * None\n  Keyword arguments: {}\n\nOption 3:\n  Positional arguments (3 total):\n    * TensorSpec(shape=(None,), dtype=tf.string, name='inputs')\n    * False\n    * None\n  Keyword arguments: {}\n\nOption 4:\n  Positional arguments (3 total):\n    * TensorSpec(shape=(None,), dtype=tf.string, name='inputs')\n    * True\n    * None\n  Keyword arguments: {}\n\nCall arguments received by layer \"preprocessing\" \"                 f\"(type KerasLayer):\n  • inputs=tf.Tensor(shape=(), dtype=string)\n  • training=False"
     ]
    }
   ],
   "source": [
    "loss, accuracy = classifier_model.evaluate(test_dataset)\n",
    "\n",
    "print(f'Loss: {loss}')\n",
    "print(f'Accuracy: {accuracy}')"
   ]
  },
  {
   "cell_type": "markdown",
   "metadata": {},
   "source": [
    "Plot accuracy and loss over time"
   ]
  },
  {
   "cell_type": "code",
   "execution_count": 31,
   "metadata": {},
   "outputs": [
    {
     "name": "stdout",
     "output_type": "stream",
     "text": [
      "dict_keys(['loss', 'binary_accuracy', 'val_loss', 'val_binary_accuracy'])\n"
     ]
    },
    {
     "data": {
      "text/plain": [
       "<matplotlib.legend.Legend at 0x27899c54970>"
      ]
     },
     "execution_count": 31,
     "metadata": {},
     "output_type": "execute_result"
    },
    {
     "data": {
      "image/png": "[encoded data removed]",
      "text/plain": [
       "<Figure size 720x432 with 2 Axes>"
      ]
     },
     "metadata": {
      "needs_background": "light"
     },
     "output_type": "display_data"
    }
   ],
   "source": [
    "history_dict = history.history\n",
    "print(history_dict.keys())\n",
    "\n",
    "acc = history_dict['binary_accuracy']\n",
    "val_acc = history_dict['val_binary_accuracy']\n",
    "loss = history_dict['loss']\n",
    "val_loss = history_dict['val_loss']\n",
    "\n",
    "epochs = range(1, len(acc) + 1)\n",
    "fig = plt.figure(figsize=(10, 6))\n",
    "fig.tight_layout()\n",
    "\n",
    "plt.subplot(2, 1, 1)\n",
    "# r is for \"solid red line\"\n",
    "plt.plot(epochs, loss, 'r', label='Training loss')\n",
    "# b is for \"solid blue line\"\n",
    "plt.plot(epochs, val_loss, 'b', label='Validation loss')\n",
    "plt.title('Training and validation loss')\n",
    "# plt.xlabel('Epochs')\n",
    "plt.ylabel('Loss')\n",
    "plt.legend()\n",
    "\n",
    "plt.subplot(2, 1, 2)\n",
    "plt.plot(epochs, acc, 'r', label='Training acc')\n",
    "plt.plot(epochs, val_acc, 'b', label='Validation acc')\n",
    "plt.title('Training and validation accuracy')\n",
    "plt.xlabel('Epochs')\n",
    "plt.ylabel('Accuracy')\n",
    "plt.legend(loc='lower right')"
   ]
  },
  {
   "cell_type": "markdown",
   "metadata": {},
   "source": [
    "Export for inference"
   ]
  },
  {
   "cell_type": "code",
   "execution_count": 32,
   "metadata": {},
   "outputs": [
    {
     "name": "stderr",
     "output_type": "stream",
     "text": [
      "WARNING:absl:Found untraced functions such as restored_function_body, restored_function_body, restored_function_body, restored_function_body, restored_function_body while saving (showing 5 of 124). These functions will not be directly callable after loading.\n"
     ]
    },
    {
     "name": "stdout",
     "output_type": "stream",
     "text": [
      "INFO:tensorflow:Assets written to: ./model_saves/bert_v1/assets\n"
     ]
    },
    {
     "name": "stderr",
     "output_type": "stream",
     "text": [
      "INFO:tensorflow:Assets written to: ./model_saves/bert_v1/assets\n"
     ]
    }
   ],
   "source": [
    "saved_model_path = './model_saves/bert_v1/'\n",
    "classifier_model.save(saved_model_path, include_optimizer=False)"
   ]
  },
  {
   "cell_type": "markdown",
   "metadata": {},
   "source": [
    "Reload and test inference"
   ]
  },
  {
   "cell_type": "code",
   "execution_count": 33,
   "metadata": {},
   "outputs": [],
   "source": [
    "reloaded_model = tf.saved_model.load(saved_model_path)"
   ]
  },
  {
   "cell_type": "code",
   "execution_count": 34,
   "metadata": {},
   "outputs": [
    {
     "name": "stdout",
     "output_type": "stream",
     "text": [
      "Results from the saved model:\n",
      "input:  Please, keep talking. I always yawn when I am interested.  : score:  0.6116986  : rounded:  1\n",
      "input:  Well, what a surprise.  : score:  0.009469548  : rounded:  0\n",
      "input:  Really, Sherlock? No! You are clever.  : score:  0.987211  : rounded:  1\n",
      "input:  The quick brown fox jumps over the lazy dog  : score:  0.723083  : rounded:  1\n",
      "input:  Numerous references to the phrase have occurred in movies, television, and books.  : score:  0.07948795  : rounded:  0\n",
      "\n",
      "Results from the model in memory:\n",
      "input:  Please, keep talking. I always yawn when I am interested.  : score:  0.6116986  : rounded:  1\n",
      "input:  Well, what a surprise.  : score:  0.009469548  : rounded:  0\n",
      "input:  Really, Sherlock? No! You are clever.  : score:  0.987211  : rounded:  1\n",
      "input:  The quick brown fox jumps over the lazy dog  : score:  0.723083  : rounded:  1\n",
      "input:  Numerous references to the phrase have occurred in movies, television, and books.  : score:  0.07948795  : rounded:  0\n",
      "\n"
     ]
    }
   ],
   "source": [
    "from tensorflow.python.ops.numpy_ops import np_config\n",
    "np_config.enable_numpy_behavior()\n",
    "\n",
    "def print_my_examples(inputs, results):\n",
    "  for i in range(len(inputs)):\n",
    "    print('input: ', inputs[i], ' : score: ', results.numpy()[i][0], ' : rounded: ', round(results.numpy()[i][0]))\n",
    "  print()\n",
    "\n",
    "\n",
    "examples = [\n",
    "    \"Please, keep talking. I always yawn when I am interested.\", # expect 1\n",
    "    \"Well, what a surprise.\", # expect 1\n",
    "    \"Really, Sherlock? No! You are clever.\", # expect 1\n",
    "    \"The quick brown fox jumps over the lazy dog\", # expect 0\n",
    "    \"Numerous references to the phrase have occurred in movies, television, and books.\" # expect 0\n",
    "]\n",
    "\n",
    "reloaded_results = tf.sigmoid(reloaded_model(tf.constant(examples)))\n",
    "original_results = tf.sigmoid(classifier_model(tf.constant(examples)))\n",
    "\n",
    "print('Results from the saved model:')\n",
    "print_my_examples(examples, reloaded_results)\n",
    "print('Results from the model in memory:')\n",
    "print_my_examples(examples, original_results)"
   ]
  }
 ],
 "metadata": {
  "kernelspec": {
   "display_name": "Python 3.9.12 ('base')",
   "language": "python",
   "name": "python3"
  },
  "language_info": {
   "codemirror_mode": {
    "name": "ipython",
    "version": 3
   },
   "file_extension": ".py",
   "mimetype": "text/x-python",
   "name": "python",
   "nbconvert_exporter": "python",
   "pygments_lexer": "ipython3",
   "version": "3.9.12"
  },
  "orig_nbformat": 4,
  "vscode": {
   "interpreter": {
    "hash": "dd53c7222885d7750057d794778faebdb531c8e31dbaca85af85a4aaf6256611"
   }
  }
 },
 "nbformat": 4,
 "nbformat_minor": 2
}
