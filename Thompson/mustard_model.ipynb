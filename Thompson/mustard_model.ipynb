{
 "cells": [
  {
   "cell_type": "code",
   "execution_count": 1,
   "metadata": {},
   "outputs": [],
   "source": [
    "## import the tensorflow APIs\n",
    "import tensorflow as tf\n",
    "import pandas as pd\n",
    "import math\n",
    "import random\n",
    "import tensorflow_datasets as tfds\n",
    "from tensorflow.keras.preprocessing.sequence import pad_sequences\n",
    "from tensorflow import keras\n",
    "from tensorflow.keras.preprocessing.text import Tokenizer\n",
    "import numpy as np"
   ]
  },
  {
   "cell_type": "code",
   "execution_count": 2,
   "metadata": {},
   "outputs": [
    {
     "data": {
      "text/html": [
       "<div>\n",
       "<style scoped>\n",
       "    .dataframe tbody tr th:only-of-type {\n",
       "        vertical-align: middle;\n",
       "    }\n",
       "\n",
       "    .dataframe tbody tr th {\n",
       "        vertical-align: top;\n",
       "    }\n",
       "\n",
       "    .dataframe thead th {\n",
       "        text-align: right;\n",
       "    }\n",
       "</style>\n",
       "<table border=\"1\" class=\"dataframe\">\n",
       "  <thead>\n",
       "    <tr style=\"text-align: right;\">\n",
       "      <th></th>\n",
       "      <th>text</th>\n",
       "      <th>label</th>\n",
       "    </tr>\n",
       "  </thead>\n",
       "  <tbody>\n",
       "    <tr>\n",
       "      <th>5</th>\n",
       "      <td>And of those few months, how long have you bee...</td>\n",
       "      <td>0.0</td>\n",
       "    </tr>\n",
       "    <tr>\n",
       "      <th>14</th>\n",
       "      <td>Let the dead man talk. So, why do you think that?</td>\n",
       "      <td>0.0</td>\n",
       "    </tr>\n",
       "    <tr>\n",
       "      <th>18</th>\n",
       "      <td>What else? Sell it on eBay as \"slightly used.\"</td>\n",
       "      <td>0.0</td>\n",
       "    </tr>\n",
       "    <tr>\n",
       "      <th>24</th>\n",
       "      <td>Good idea, sit with her. Hold her, comfort her...</td>\n",
       "      <td>1.0</td>\n",
       "    </tr>\n",
       "    <tr>\n",
       "      <th>31</th>\n",
       "      <td>Well, now that I've given up string theory, I'...</td>\n",
       "      <td>0.0</td>\n",
       "    </tr>\n",
       "  </tbody>\n",
       "</table>\n",
       "</div>"
      ],
      "text/plain": [
       "                                                 text  label\n",
       "5   And of those few months, how long have you bee...    0.0\n",
       "14  Let the dead man talk. So, why do you think that?    0.0\n",
       "18     What else? Sell it on eBay as \"slightly used.\"    0.0\n",
       "24  Good idea, sit with her. Hold her, comfort her...    1.0\n",
       "31  Well, now that I've given up string theory, I'...    0.0"
      ]
     },
     "execution_count": 2,
     "metadata": {},
     "output_type": "execute_result"
    }
   ],
   "source": [
    "data_sitcoms = pd.read_csv(\"mustard++_text.csv\")\n",
    "\n",
    "# Adjust sitcom data\n",
    "data_sitcoms = data_sitcoms.drop(columns=['SCENE','KEY','END_TIME','SPEAKER','SHOW','Sarcasm_Type','Implicit_Emotion','Explicit_Emotion','Valence','Arousal'], axis=1)\n",
    "data_sitcoms = data_sitcoms.rename(columns={'SENTENCE':'text','Sarcasm':'label'})\n",
    "\n",
    "# remove empty label rows\n",
    "for index, row in data_sitcoms.iterrows():\n",
    "    if math.isnan(row['label']):\n",
    "        data_sitcoms = data_sitcoms.drop(index, axis='index')\n",
    "\n",
    "data_sitcoms.head()"
   ]
  },
  {
   "cell_type": "code",
   "execution_count": 3,
   "metadata": {},
   "outputs": [],
   "source": [
    "train_sentences = data_sitcoms[\"text\"]\n",
    "##train_sentences"
   ]
  },
  {
   "cell_type": "code",
   "execution_count": 4,
   "metadata": {},
   "outputs": [],
   "source": [
    "##instantiate the tokenizer\n",
    "tokenizer = Tokenizer(num_words=100)\n",
    "\n",
    "##train the tokenizer on training sentences\n",
    "tokenizer.fit_on_texts(train_sentences)\n",
    "\n",
    "##store word index for the words in the sentence\n",
    "word_index = tokenizer.word_index\n",
    "##print(word_index)"
   ]
  },
  {
   "cell_type": "code",
   "execution_count": 5,
   "metadata": {},
   "outputs": [],
   "source": [
    "##create sequences using tokenizer\n",
    "sequences = tokenizer.texts_to_sequences(train_sentences)"
   ]
  },
  {
   "cell_type": "code",
   "execution_count": 6,
   "metadata": {},
   "outputs": [],
   "source": [
    "##print word index dictionary and sequences\n",
    "##print(f\"Word index -->{word_index}\")\n",
    "##print(f\"Sequences of words -->{sequences}\")"
   ]
  },
  {
   "cell_type": "code",
   "execution_count": 7,
   "metadata": {},
   "outputs": [],
   "source": [
    "##print sample sentence and sequence\n",
    "train_sentences = train_sentences.to_numpy()"
   ]
  },
  {
   "cell_type": "code",
   "execution_count": 8,
   "metadata": {},
   "outputs": [
    {
     "name": "stdout",
     "output_type": "stream",
     "text": [
      "No. The dark crescent-shaped patterns under your arms conceal it nicely.\n",
      "[6, 8, 50, 24, 1, 4]\n"
     ]
    }
   ],
   "source": [
    "print(train_sentences[random.randint(0,100)])\n",
    "print(sequences[0])"
   ]
  },
  {
   "cell_type": "code",
   "execution_count": 9,
   "metadata": {},
   "outputs": [],
   "source": [
    "##set up the tokenizer again with oov_token\n",
    "tokenizer = Tokenizer(num_words=100, oov_token = \"<oov>\")\n",
    "\n",
    "##train the new tokenizer on training sentences\n",
    "tokenizer.fit_on_texts(train_sentences)\n",
    "\n",
    "##store word index for the words in the sentence\n",
    "word_index = tokenizer.word_index"
   ]
  },
  {
   "cell_type": "code",
   "execution_count": 10,
   "metadata": {},
   "outputs": [],
   "source": [
    "##pad sequences\n",
    "padded_seqs = pad_sequences(sequences)"
   ]
  },
  {
   "cell_type": "code",
   "execution_count": 11,
   "metadata": {},
   "outputs": [],
   "source": [
    "##print(word_index)\n",
    "##print(train_sentences)\n",
    "##print(sequences)\n",
    "##print(padded_seqs)"
   ]
  },
  {
   "cell_type": "code",
   "execution_count": 12,
   "metadata": {},
   "outputs": [
    {
     "name": "stdout",
     "output_type": "stream",
     "text": [
      "[[ 6  8 50 24  1]\n",
      " [ 3 29 59 27  1]\n",
      " [23  7 17 58  0]\n",
      " ...\n",
      " [31 72 89 67 42]\n",
      " [ 2  9 16  3  0]\n",
      " [ 9 42 57  0  0]]\n"
     ]
    }
   ],
   "source": [
    "##pad sequences with padding type, max length and truncating parameters\n",
    "padded_seqs = pad_sequences(sequences,\n",
    "                            padding=\"post\",\n",
    "                            maxlen=5,\n",
    "                            truncating=\"post\",\n",
    "                            )\n",
    "print(padded_seqs)"
   ]
  },
  {
   "cell_type": "code",
   "execution_count": 13,
   "metadata": {},
   "outputs": [],
   "source": [
    "##create empty list to store sentences and labels\n",
    "train_sentences = []\n",
    "test_sentences = []\n",
    "\n",
    "train_labels = []\n",
    "test_labels = []"
   ]
  },
  {
   "cell_type": "code",
   "execution_count": 14,
   "metadata": {},
   "outputs": [],
   "source": [
    "#create size variables to for training\n",
    "subset_size = len(data_sitcoms.index)\n",
    "testing_size = int(subset_size * 0.2)\n",
    "validation_size = testing_size\n",
    "shuffle_size = subset_size - validation_size"
   ]
  },
  {
   "cell_type": "code",
   "execution_count": 15,
   "metadata": {},
   "outputs": [],
   "source": [
    "data = data_sitcoms.sample(frac=1).reset_index(drop=True)\n",
    "train_data = data.head(subset_size - testing_size)\n",
    "test_data = data.tail(testing_size)"
   ]
  },
  {
   "cell_type": "code",
   "execution_count": 16,
   "metadata": {},
   "outputs": [],
   "source": [
    "for sentence in train_data['text']:\n",
    "    train_sentences.append(sentence)\n",
    "for sentence in test_data['text']:\n",
    "    test_sentences.append(sentence)"
   ]
  },
  {
   "cell_type": "code",
   "execution_count": 17,
   "metadata": {},
   "outputs": [],
   "source": [
    "for value in train_data['label']:\n",
    "    train_labels.append(value)\n",
    "for value in test_data['label']:\n",
    "    test_labels.append(value)"
   ]
  },
  {
   "cell_type": "code",
   "execution_count": 18,
   "metadata": {},
   "outputs": [],
   "source": [
    "##convert lists into numpy array\n",
    "train_labels = np.array(train_labels)\n",
    "test_labels = np.array(test_labels)"
   ]
  },
  {
   "cell_type": "code",
   "execution_count": 19,
   "metadata": {},
   "outputs": [],
   "source": [
    "##define the parameters for the tokenizing and padding\n",
    "vocab_size = 10000\n",
    "embedding_dim = 16 ##originally 16\n",
    "max_length = 120\n",
    "trunc_type='post'\n",
    "oov_tok = \"<OOV>\""
   ]
  },
  {
   "cell_type": "code",
   "execution_count": 20,
   "metadata": {},
   "outputs": [],
   "source": [
    "tokenizer = Tokenizer(num_words = vocab_size, oov_token=oov_tok)\n",
    "tokenizer.fit_on_texts(train_sentences)\n",
    "word_index = tokenizer.word_index\n",
    "\n",
    "##training sequences and labels\n",
    "train_seqs = tokenizer.texts_to_sequences(train_sentences)\n",
    "train_padded = pad_sequences(train_seqs,maxlen=max_length, truncating=trunc_type)\n",
    "\n",
    "##testing sequences and labels\n",
    "test_seqs = tokenizer.texts_to_sequences(test_sentences)\n",
    "test_padded = pad_sequences(test_seqs,maxlen=max_length)"
   ]
  },
  {
   "cell_type": "code",
   "execution_count": 21,
   "metadata": {},
   "outputs": [
    {
     "name": "stdout",
     "output_type": "stream",
     "text": [
      "Imagine this: you've got the baby in one hand, groceries in the other, and you're thinking, \"How am I gonna open this trunk?\"\n",
      "[  0   0   0   0   0   0   0   0   0   0   0   0   0   0   0   0   0   0\n",
      "   0   0   0   0   0   0   0   0   0   0   0   0   0   0   0   0   0   0\n",
      "   0   0   0   0   0   0   0   0   0   0   0   0   0   0   0   0   0   0\n",
      "   0   0   0   0   0   0   0   0   0   0   0   0   0   0   0   0   0   0\n",
      "   0   0   0   0   0   0   0   0   0   0   0   0   0   0   0   0   0   0\n",
      "   0   0   0   0   0   0   0 522  27 205  66   4 230  12  67 324 855  12\n",
      "   4  89   7  43 231  52  58   3  78 267  27 523]\n",
      "? ? ? ? ? ? ? ? ? ? ? ? ? ? ? ? ? ? ? ? ? ? ? ? ? ? ? ? ? ? ? ? ? ? ? ? ? ? ? ? ? ? ? ? ? ? ? ? ? ? ? ? ? ? ? ? ? ? ? ? ? ? ? ? ? ? ? ? ? ? ? ? ? ? ? ? ? ? ? ? ? ? ? ? ? ? ? ? ? ? ? ? ? ? ? ? ? imagine this you've got the baby in one hand groceries in the other and you're thinking how am i gonna open this trunk\n"
     ]
    }
   ],
   "source": [
    "reverse_word_index = dict([(value, key) for (key, value) in word_index.items()])\n",
    "\n",
    "def decode_review(text):\n",
    "    return ' '.join([reverse_word_index.get(i, '?') for i in text])\n",
    "\n",
    "print(train_sentences[1])\n",
    "print(train_padded[1])\n",
    "print(decode_review(train_padded[1]))"
   ]
  },
  {
   "cell_type": "markdown",
   "metadata": {},
   "source": [
    "Define the Neural Network with Embedding layer"
   ]
  },
  {
   "cell_type": "code",
   "execution_count": 22,
   "metadata": {},
   "outputs": [
    {
     "name": "stdout",
     "output_type": "stream",
     "text": [
      "Model: \"sequential\"\n",
      "_________________________________________________________________\n",
      " Layer (type)                Output Shape              Param #   \n",
      "=================================================================\n",
      " embedding (Embedding)       (None, 120, 16)           160000    \n",
      "                                                                 \n",
      " flatten (Flatten)           (None, 1920)              0         \n",
      "                                                                 \n",
      " dense (Dense)               (None, 6)                 11526     \n",
      "                                                                 \n",
      " dense_1 (Dense)             (None, 1)                 7         \n",
      "                                                                 \n",
      "=================================================================\n",
      "Total params: 171,533\n",
      "Trainable params: 171,533\n",
      "Non-trainable params: 0\n",
      "_________________________________________________________________\n"
     ]
    }
   ],
   "source": [
    "model = tf.keras.Sequential([\n",
    "    tf.keras.layers.Embedding(vocab_size, embedding_dim, input_length=max_length),\n",
    "    tf.keras.layers.Flatten(),\n",
    "    tf.keras.layers.Dense(6, activation='relu'),\n",
    "    tf.keras.layers.Dense(1, activation='sigmoid')\n",
    "])\n",
    "\n",
    "##compile the model with loss function, optimizer and metrics\n",
    "model.compile(loss='binary_crossentropy',optimizer='adam',metrics=['accuracy'])\n",
    "model.summary()"
   ]
  },
  {
   "cell_type": "markdown",
   "metadata": {},
   "source": [
    "Model Training"
   ]
  },
  {
   "cell_type": "code",
   "execution_count": 23,
   "metadata": {},
   "outputs": [
    {
     "name": "stdout",
     "output_type": "stream",
     "text": [
      "Epoch 1/100\n",
      "31/31 [==============================] - 1s 10ms/step - loss: 0.6946 - accuracy: 0.4917 - val_loss: 0.6930 - val_accuracy: 0.5542\n",
      "Epoch 2/100\n",
      "31/31 [==============================] - 0s 5ms/step - loss: 0.6921 - accuracy: 0.5530 - val_loss: 0.6922 - val_accuracy: 0.5083\n",
      "Epoch 3/100\n",
      "31/31 [==============================] - 0s 5ms/step - loss: 0.6894 - accuracy: 0.5800 - val_loss: 0.6918 - val_accuracy: 0.5125\n",
      "Epoch 4/100\n",
      "31/31 [==============================] - 0s 5ms/step - loss: 0.6834 - accuracy: 0.6445 - val_loss: 0.6903 - val_accuracy: 0.5042\n",
      "Epoch 5/100\n",
      "31/31 [==============================] - 0s 5ms/step - loss: 0.6704 - accuracy: 0.6694 - val_loss: 0.6923 - val_accuracy: 0.5083\n",
      "Epoch 6/100\n",
      "31/31 [==============================] - 0s 5ms/step - loss: 0.6477 - accuracy: 0.6580 - val_loss: 0.6872 - val_accuracy: 0.5083\n",
      "Epoch 7/100\n",
      "31/31 [==============================] - 0s 5ms/step - loss: 0.6051 - accuracy: 0.7058 - val_loss: 0.6860 - val_accuracy: 0.5208\n",
      "Epoch 8/100\n",
      "31/31 [==============================] - 0s 5ms/step - loss: 0.5537 - accuracy: 0.8098 - val_loss: 0.6932 - val_accuracy: 0.5167\n",
      "Epoch 9/100\n",
      "31/31 [==============================] - 0s 5ms/step - loss: 0.4989 - accuracy: 0.8451 - val_loss: 0.6952 - val_accuracy: 0.5292\n",
      "Epoch 10/100\n",
      "31/31 [==============================] - 0s 5ms/step - loss: 0.4498 - accuracy: 0.9075 - val_loss: 0.7218 - val_accuracy: 0.5083\n",
      "Epoch 11/100\n",
      "31/31 [==============================] - 0s 5ms/step - loss: 0.4093 - accuracy: 0.9356 - val_loss: 0.7330 - val_accuracy: 0.5208\n",
      "Epoch 12/100\n",
      "31/31 [==============================] - 0s 5ms/step - loss: 0.3783 - accuracy: 0.9543 - val_loss: 0.7414 - val_accuracy: 0.5167\n",
      "Epoch 13/100\n",
      "31/31 [==============================] - 0s 5ms/step - loss: 0.3530 - accuracy: 0.9636 - val_loss: 0.7557 - val_accuracy: 0.5042\n",
      "Epoch 14/100\n",
      "31/31 [==============================] - 0s 5ms/step - loss: 0.3311 - accuracy: 0.9740 - val_loss: 0.7778 - val_accuracy: 0.5125\n",
      "Epoch 15/100\n",
      "31/31 [==============================] - 0s 5ms/step - loss: 0.3139 - accuracy: 0.9792 - val_loss: 0.8260 - val_accuracy: 0.5125\n",
      "Epoch 16/100\n",
      "31/31 [==============================] - 0s 5ms/step - loss: 0.2993 - accuracy: 0.9802 - val_loss: 0.8227 - val_accuracy: 0.5125\n",
      "Epoch 17/100\n",
      "31/31 [==============================] - 0s 5ms/step - loss: 0.2861 - accuracy: 0.9844 - val_loss: 0.8470 - val_accuracy: 0.5125\n",
      "Epoch 18/100\n",
      "31/31 [==============================] - 0s 5ms/step - loss: 0.2747 - accuracy: 0.9875 - val_loss: 0.8311 - val_accuracy: 0.5167\n",
      "Epoch 19/100\n",
      "31/31 [==============================] - 0s 5ms/step - loss: 0.2647 - accuracy: 0.9917 - val_loss: 0.8717 - val_accuracy: 0.5125\n",
      "Epoch 20/100\n",
      "31/31 [==============================] - 0s 5ms/step - loss: 0.2550 - accuracy: 0.9948 - val_loss: 0.8864 - val_accuracy: 0.5167\n",
      "Epoch 21/100\n",
      "31/31 [==============================] - 0s 5ms/step - loss: 0.2470 - accuracy: 0.9958 - val_loss: 0.9396 - val_accuracy: 0.5083\n",
      "Epoch 22/100\n",
      "31/31 [==============================] - 0s 5ms/step - loss: 0.2393 - accuracy: 0.9969 - val_loss: 0.9140 - val_accuracy: 0.5208\n",
      "Epoch 23/100\n",
      "31/31 [==============================] - 0s 5ms/step - loss: 0.2319 - accuracy: 0.9958 - val_loss: 0.9189 - val_accuracy: 0.5250\n",
      "Epoch 24/100\n",
      "31/31 [==============================] - 0s 5ms/step - loss: 0.2249 - accuracy: 0.9969 - val_loss: 0.9374 - val_accuracy: 0.5250\n",
      "Epoch 25/100\n",
      "31/31 [==============================] - 0s 5ms/step - loss: 0.2193 - accuracy: 0.9969 - val_loss: 0.9799 - val_accuracy: 0.5125\n",
      "Epoch 26/100\n",
      "31/31 [==============================] - 0s 5ms/step - loss: 0.2137 - accuracy: 0.9969 - val_loss: 0.9430 - val_accuracy: 0.5250\n",
      "Epoch 27/100\n",
      "31/31 [==============================] - 0s 5ms/step - loss: 0.2074 - accuracy: 0.9969 - val_loss: 0.9416 - val_accuracy: 0.5167\n",
      "Epoch 28/100\n",
      "31/31 [==============================] - 0s 5ms/step - loss: 0.2016 - accuracy: 0.9969 - val_loss: 0.9717 - val_accuracy: 0.5167\n",
      "Epoch 29/100\n",
      "31/31 [==============================] - 0s 5ms/step - loss: 0.1965 - accuracy: 0.9969 - val_loss: 0.9506 - val_accuracy: 0.5167\n",
      "Epoch 30/100\n",
      "31/31 [==============================] - 0s 5ms/step - loss: 0.1913 - accuracy: 0.9969 - val_loss: 0.9720 - val_accuracy: 0.5167\n",
      "Epoch 31/100\n",
      "31/31 [==============================] - 0s 5ms/step - loss: 0.1866 - accuracy: 0.9979 - val_loss: 0.9818 - val_accuracy: 0.5167\n",
      "Epoch 32/100\n",
      "31/31 [==============================] - 0s 5ms/step - loss: 0.1823 - accuracy: 0.9979 - val_loss: 0.9603 - val_accuracy: 0.5125\n",
      "Epoch 33/100\n",
      "31/31 [==============================] - 0s 5ms/step - loss: 0.1778 - accuracy: 0.9979 - val_loss: 1.0320 - val_accuracy: 0.5208\n",
      "Epoch 34/100\n",
      "31/31 [==============================] - 0s 5ms/step - loss: 0.1737 - accuracy: 0.9979 - val_loss: 1.0117 - val_accuracy: 0.5167\n",
      "Epoch 35/100\n",
      "31/31 [==============================] - 0s 5ms/step - loss: 0.1696 - accuracy: 0.9979 - val_loss: 1.0302 - val_accuracy: 0.5167\n",
      "Epoch 36/100\n",
      "31/31 [==============================] - 0s 5ms/step - loss: 0.1657 - accuracy: 0.9979 - val_loss: 1.0163 - val_accuracy: 0.5167\n",
      "Epoch 37/100\n",
      "31/31 [==============================] - 0s 5ms/step - loss: 0.1619 - accuracy: 0.9990 - val_loss: 1.0322 - val_accuracy: 0.5208\n",
      "Epoch 38/100\n",
      "31/31 [==============================] - 0s 5ms/step - loss: 0.1581 - accuracy: 0.9990 - val_loss: 1.0517 - val_accuracy: 0.5125\n",
      "Epoch 39/100\n",
      "31/31 [==============================] - 0s 5ms/step - loss: 0.1545 - accuracy: 0.9990 - val_loss: 1.0397 - val_accuracy: 0.5167\n",
      "Epoch 40/100\n",
      "31/31 [==============================] - 0s 5ms/step - loss: 0.1513 - accuracy: 0.9990 - val_loss: 1.0118 - val_accuracy: 0.5083\n",
      "Epoch 41/100\n",
      "31/31 [==============================] - 0s 5ms/step - loss: 0.1479 - accuracy: 0.9990 - val_loss: 1.0328 - val_accuracy: 0.5083\n",
      "Epoch 42/100\n",
      "31/31 [==============================] - 0s 5ms/step - loss: 0.1446 - accuracy: 0.9990 - val_loss: 1.0080 - val_accuracy: 0.5083\n",
      "Epoch 43/100\n",
      "31/31 [==============================] - 0s 5ms/step - loss: 0.1418 - accuracy: 0.9990 - val_loss: 1.0439 - val_accuracy: 0.5042\n",
      "Epoch 44/100\n",
      "31/31 [==============================] - 0s 5ms/step - loss: 0.1385 - accuracy: 0.9990 - val_loss: 1.0269 - val_accuracy: 0.5000\n",
      "Epoch 45/100\n",
      "31/31 [==============================] - 0s 6ms/step - loss: 0.1357 - accuracy: 0.9990 - val_loss: 1.0842 - val_accuracy: 0.5083\n",
      "Epoch 46/100\n",
      "31/31 [==============================] - 0s 5ms/step - loss: 0.1331 - accuracy: 0.9990 - val_loss: 1.0287 - val_accuracy: 0.4958\n",
      "Epoch 47/100\n",
      "31/31 [==============================] - 0s 5ms/step - loss: 0.1302 - accuracy: 0.9990 - val_loss: 1.0577 - val_accuracy: 0.5000\n",
      "Epoch 48/100\n",
      "31/31 [==============================] - 0s 5ms/step - loss: 0.1276 - accuracy: 0.9990 - val_loss: 1.0647 - val_accuracy: 0.5042\n",
      "Epoch 49/100\n",
      "31/31 [==============================] - 0s 5ms/step - loss: 0.1250 - accuracy: 0.9979 - val_loss: 1.1054 - val_accuracy: 0.5083\n",
      "Epoch 50/100\n",
      "31/31 [==============================] - 0s 5ms/step - loss: 0.1223 - accuracy: 0.9990 - val_loss: 1.0772 - val_accuracy: 0.5083\n",
      "Epoch 51/100\n",
      "31/31 [==============================] - 0s 5ms/step - loss: 0.1199 - accuracy: 0.9990 - val_loss: 1.1010 - val_accuracy: 0.5042\n",
      "Epoch 52/100\n",
      "31/31 [==============================] - 0s 5ms/step - loss: 0.1177 - accuracy: 0.9990 - val_loss: 1.0442 - val_accuracy: 0.5042\n",
      "Epoch 53/100\n",
      "31/31 [==============================] - 0s 5ms/step - loss: 0.1152 - accuracy: 0.9979 - val_loss: 1.0742 - val_accuracy: 0.5042\n",
      "Epoch 54/100\n",
      "31/31 [==============================] - 0s 5ms/step - loss: 0.1128 - accuracy: 0.9990 - val_loss: 1.0913 - val_accuracy: 0.5042\n",
      "Epoch 55/100\n",
      "31/31 [==============================] - 0s 5ms/step - loss: 0.1105 - accuracy: 0.9979 - val_loss: 1.1075 - val_accuracy: 0.5083\n",
      "Epoch 56/100\n",
      "31/31 [==============================] - 0s 5ms/step - loss: 0.1083 - accuracy: 0.9979 - val_loss: 1.1281 - val_accuracy: 0.5083\n",
      "Epoch 57/100\n",
      "31/31 [==============================] - 0s 5ms/step - loss: 0.1063 - accuracy: 0.9990 - val_loss: 1.0861 - val_accuracy: 0.5125\n",
      "Epoch 58/100\n",
      "31/31 [==============================] - 0s 5ms/step - loss: 0.1042 - accuracy: 0.9990 - val_loss: 1.1211 - val_accuracy: 0.5083\n",
      "Epoch 59/100\n",
      "31/31 [==============================] - 0s 5ms/step - loss: 0.1022 - accuracy: 0.9990 - val_loss: 1.0700 - val_accuracy: 0.5125\n",
      "Epoch 60/100\n",
      "31/31 [==============================] - 0s 5ms/step - loss: 0.1004 - accuracy: 0.9990 - val_loss: 1.1287 - val_accuracy: 0.5083\n",
      "Epoch 61/100\n",
      "31/31 [==============================] - 0s 5ms/step - loss: 0.0984 - accuracy: 0.9990 - val_loss: 1.0611 - val_accuracy: 0.5167\n",
      "Epoch 62/100\n",
      "31/31 [==============================] - 0s 5ms/step - loss: 0.0970 - accuracy: 0.9990 - val_loss: 1.0790 - val_accuracy: 0.5042\n",
      "Epoch 63/100\n",
      "31/31 [==============================] - 0s 6ms/step - loss: 0.0952 - accuracy: 0.9979 - val_loss: 1.0462 - val_accuracy: 0.5250\n",
      "Epoch 64/100\n",
      "31/31 [==============================] - 0s 5ms/step - loss: 0.0934 - accuracy: 0.9990 - val_loss: 1.1468 - val_accuracy: 0.5083\n",
      "Epoch 65/100\n",
      "31/31 [==============================] - 0s 6ms/step - loss: 0.0914 - accuracy: 0.9990 - val_loss: 1.1417 - val_accuracy: 0.5083\n",
      "Epoch 66/100\n",
      "31/31 [==============================] - 0s 5ms/step - loss: 0.0899 - accuracy: 0.9990 - val_loss: 1.1282 - val_accuracy: 0.5000\n",
      "Epoch 67/100\n",
      "31/31 [==============================] - 0s 5ms/step - loss: 0.0883 - accuracy: 0.9979 - val_loss: 1.1464 - val_accuracy: 0.5125\n",
      "Epoch 68/100\n",
      "31/31 [==============================] - 0s 5ms/step - loss: 0.0867 - accuracy: 0.9990 - val_loss: 1.1237 - val_accuracy: 0.5042\n",
      "Epoch 69/100\n",
      "31/31 [==============================] - 0s 5ms/step - loss: 0.0850 - accuracy: 0.9990 - val_loss: 1.1503 - val_accuracy: 0.5167\n",
      "Epoch 70/100\n",
      "31/31 [==============================] - 0s 5ms/step - loss: 0.0836 - accuracy: 0.9979 - val_loss: 1.1520 - val_accuracy: 0.5167\n",
      "Epoch 71/100\n",
      "31/31 [==============================] - 0s 5ms/step - loss: 0.0821 - accuracy: 0.9990 - val_loss: 1.1200 - val_accuracy: 0.5167\n",
      "Epoch 72/100\n",
      "31/31 [==============================] - 0s 5ms/step - loss: 0.0807 - accuracy: 0.9990 - val_loss: 1.1295 - val_accuracy: 0.5125\n",
      "Epoch 73/100\n",
      "31/31 [==============================] - 0s 5ms/step - loss: 0.0792 - accuracy: 0.9990 - val_loss: 1.1160 - val_accuracy: 0.5167\n",
      "Epoch 74/100\n",
      "31/31 [==============================] - 0s 5ms/step - loss: 0.0779 - accuracy: 0.9990 - val_loss: 1.1521 - val_accuracy: 0.5125\n",
      "Epoch 75/100\n",
      "31/31 [==============================] - 0s 5ms/step - loss: 0.0765 - accuracy: 0.9979 - val_loss: 1.1889 - val_accuracy: 0.5042\n",
      "Epoch 76/100\n",
      "31/31 [==============================] - 0s 5ms/step - loss: 0.0754 - accuracy: 0.9990 - val_loss: 1.0985 - val_accuracy: 0.5375\n",
      "Epoch 77/100\n",
      "31/31 [==============================] - 0s 5ms/step - loss: 0.0740 - accuracy: 0.9990 - val_loss: 1.0546 - val_accuracy: 0.5333\n",
      "Epoch 78/100\n",
      "31/31 [==============================] - 0s 6ms/step - loss: 0.0539 - accuracy: 0.9990 - val_loss: 1.0003 - val_accuracy: 0.5542\n",
      "Epoch 79/100\n",
      "31/31 [==============================] - 0s 5ms/step - loss: 0.0148 - accuracy: 0.9990 - val_loss: 1.0168 - val_accuracy: 0.5583\n",
      "Epoch 80/100\n",
      "31/31 [==============================] - 0s 6ms/step - loss: 0.0083 - accuracy: 0.9990 - val_loss: 1.0381 - val_accuracy: 0.5625\n",
      "Epoch 81/100\n",
      "31/31 [==============================] - 0s 5ms/step - loss: 0.0066 - accuracy: 0.9990 - val_loss: 1.0614 - val_accuracy: 0.5625\n",
      "Epoch 82/100\n",
      "31/31 [==============================] - 0s 5ms/step - loss: 0.0064 - accuracy: 0.9990 - val_loss: 1.1196 - val_accuracy: 0.5708\n",
      "Epoch 83/100\n",
      "31/31 [==============================] - 0s 5ms/step - loss: 0.0050 - accuracy: 0.9990 - val_loss: 1.1017 - val_accuracy: 0.5625\n",
      "Epoch 84/100\n",
      "31/31 [==============================] - 0s 5ms/step - loss: 0.0048 - accuracy: 0.9990 - val_loss: 1.1243 - val_accuracy: 0.5583\n",
      "Epoch 85/100\n",
      "31/31 [==============================] - 0s 5ms/step - loss: 0.0041 - accuracy: 0.9990 - val_loss: 1.1402 - val_accuracy: 0.5667\n",
      "Epoch 86/100\n",
      "31/31 [==============================] - 0s 5ms/step - loss: 0.0040 - accuracy: 0.9990 - val_loss: 1.1705 - val_accuracy: 0.5667\n",
      "Epoch 87/100\n",
      "31/31 [==============================] - 0s 5ms/step - loss: 0.0038 - accuracy: 0.9990 - val_loss: 1.1703 - val_accuracy: 0.5625\n",
      "Epoch 88/100\n",
      "31/31 [==============================] - 0s 5ms/step - loss: 0.0035 - accuracy: 0.9990 - val_loss: 1.1806 - val_accuracy: 0.5667\n",
      "Epoch 89/100\n",
      "31/31 [==============================] - 0s 5ms/step - loss: 0.0031 - accuracy: 0.9990 - val_loss: 1.1989 - val_accuracy: 0.5667\n",
      "Epoch 90/100\n",
      "31/31 [==============================] - 0s 5ms/step - loss: 0.0033 - accuracy: 0.9990 - val_loss: 1.2113 - val_accuracy: 0.5667\n",
      "Epoch 91/100\n",
      "31/31 [==============================] - 0s 5ms/step - loss: 0.0032 - accuracy: 0.9990 - val_loss: 1.2339 - val_accuracy: 0.5667\n",
      "Epoch 92/100\n",
      "31/31 [==============================] - 0s 5ms/step - loss: 0.0034 - accuracy: 0.9979 - val_loss: 1.2319 - val_accuracy: 0.5667\n",
      "Epoch 93/100\n",
      "31/31 [==============================] - 0s 5ms/step - loss: 0.0027 - accuracy: 0.9990 - val_loss: 1.2325 - val_accuracy: 0.5625\n",
      "Epoch 94/100\n",
      "31/31 [==============================] - 0s 5ms/step - loss: 0.0028 - accuracy: 0.9990 - val_loss: 1.2400 - val_accuracy: 0.5625\n",
      "Epoch 95/100\n",
      "31/31 [==============================] - 0s 5ms/step - loss: 0.0028 - accuracy: 0.9979 - val_loss: 1.2490 - val_accuracy: 0.5625\n",
      "Epoch 96/100\n",
      "31/31 [==============================] - 0s 6ms/step - loss: 0.0026 - accuracy: 0.9990 - val_loss: 1.2629 - val_accuracy: 0.5667\n",
      "Epoch 97/100\n",
      "31/31 [==============================] - 0s 6ms/step - loss: 0.0026 - accuracy: 0.9990 - val_loss: 1.2778 - val_accuracy: 0.5708\n",
      "Epoch 98/100\n",
      "31/31 [==============================] - 0s 6ms/step - loss: 0.0022 - accuracy: 0.9990 - val_loss: 1.2689 - val_accuracy: 0.5625\n",
      "Epoch 99/100\n",
      "31/31 [==============================] - 0s 5ms/step - loss: 0.0025 - accuracy: 0.9990 - val_loss: 1.2922 - val_accuracy: 0.5708\n",
      "Epoch 100/100\n",
      "31/31 [==============================] - 0s 5ms/step - loss: 0.0025 - accuracy: 0.9990 - val_loss: 1.2954 - val_accuracy: 0.5667\n"
     ]
    },
    {
     "data": {
      "text/plain": [
       "<keras.callbacks.History at 0x21c37c92f40>"
      ]
     },
     "execution_count": 23,
     "metadata": {},
     "output_type": "execute_result"
    }
   ],
   "source": [
    "num_epochs = 100\n",
    "\n",
    "##train the model with training and validation set\n",
    "model.fit(\n",
    "    train_padded, \n",
    "    train_labels, \n",
    "    epochs=num_epochs, \n",
    "    validation_data=(test_padded, test_labels)\n",
    "    )"
   ]
  },
  {
   "cell_type": "markdown",
   "metadata": {},
   "source": [
    "Derive weights from the embedding layer"
   ]
  },
  {
   "cell_type": "code",
   "execution_count": 24,
   "metadata": {},
   "outputs": [
    {
     "name": "stdout",
     "output_type": "stream",
     "text": [
      "(10000, 16)\n",
      "[-0.07670038  0.0088451   0.06071059 -0.00197269  0.00648356  0.03113407\n",
      " -0.08285975  0.12546222 -0.06653283  0.06121429  0.02034753 -0.01793756\n",
      " -0.04366457 -0.00665691  0.0228914  -0.06364395]\n"
     ]
    }
   ],
   "source": [
    "##isolating the first embedding layer\n",
    "l1 = model.layers[0]\n",
    "\n",
    "##extracting learned weights\n",
    "weights = l1.get_weights()[0]\n",
    "print(weights.shape) # shape: (vocab_size, embedding_dim)\n",
    "print(weights[0])"
   ]
  },
  {
   "cell_type": "markdown",
   "metadata": {},
   "source": [
    "Download the vectors and metadata"
   ]
  },
  {
   "cell_type": "code",
   "execution_count": 25,
   "metadata": {},
   "outputs": [],
   "source": [
    "##import I/O module in python\n",
    "import io\n",
    "\n",
    "##open the text stream for vectors\n",
    "vectors = io.open('vectors.tsv', 'w', encoding='utf-8')\n",
    "\n",
    "##open the text stream for metadata\n",
    "meta = io.open('meta.tsv', 'w', encoding='utf-8')\n",
    "\n",
    "##write each word and its corresponding embedding\n",
    "for index in range(len(reverse_word_index)):\n",
    "  word = reverse_word_index.get(index)  # flipping the key-value in word_index\n",
    "  embeddings = weights[index]\n",
    "  if word is None:\n",
    "    break\n",
    "  else:\n",
    "    meta.write(word + \"\\n\")\n",
    "    vectors.write('\\t'.join([str(x) for x in embeddings]) + \"\\n\")\n",
    "\n",
    "##close the stream\n",
    "vectors.close()\n",
    "meta.close()"
   ]
  },
  {
   "cell_type": "code",
   "execution_count": 26,
   "metadata": {},
   "outputs": [],
   "source": [
    "##download the written files to your local machine\n",
    "try:\n",
    "  from google.colab import files\n",
    "except ImportError:\n",
    "  pass\n",
    "else:\n",
    "  files.download('vectors.tsv')\n",
    "  files.download('meta.tsv')"
   ]
  }
 ],
 "metadata": {
  "kernelspec": {
   "display_name": "Python 3.9.12 ('base')",
   "language": "python",
   "name": "python3"
  },
  "language_info": {
   "codemirror_mode": {
    "name": "ipython",
    "version": 3
   },
   "file_extension": ".py",
   "mimetype": "text/x-python",
   "name": "python",
   "nbconvert_exporter": "python",
   "pygments_lexer": "ipython3",
   "version": "3.9.12"
  },
  "orig_nbformat": 4,
  "vscode": {
   "interpreter": {
    "hash": "dd53c7222885d7750057d794778faebdb531c8e31dbaca85af85a4aaf6256611"
   }
  }
 },
 "nbformat": 4,
 "nbformat_minor": 2
}
