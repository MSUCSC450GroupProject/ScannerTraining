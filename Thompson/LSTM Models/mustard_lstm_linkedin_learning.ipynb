{
 "cells": [
  {
   "cell_type": "code",
   "execution_count": 56,
   "metadata": {},
   "outputs": [],
   "source": [
    "## import the tensorflow APIs\n",
    "import tensorflow as tf\n",
    "import pandas as pd\n",
    "import math\n",
    "import random\n",
    "import tensorflow_datasets as tfds\n",
    "from tensorflow.keras.preprocessing.sequence import pad_sequences\n",
    "from tensorflow import keras\n",
    "from tensorflow.keras.preprocessing.text import Tokenizer\n",
    "import numpy as np"
   ]
  },
  {
   "cell_type": "code",
   "execution_count": 57,
   "metadata": {},
   "outputs": [
    {
     "data": {
      "text/html": [
       "<div>\n",
       "<style scoped>\n",
       "    .dataframe tbody tr th:only-of-type {\n",
       "        vertical-align: middle;\n",
       "    }\n",
       "\n",
       "    .dataframe tbody tr th {\n",
       "        vertical-align: top;\n",
       "    }\n",
       "\n",
       "    .dataframe thead th {\n",
       "        text-align: right;\n",
       "    }\n",
       "</style>\n",
       "<table border=\"1\" class=\"dataframe\">\n",
       "  <thead>\n",
       "    <tr style=\"text-align: right;\">\n",
       "      <th></th>\n",
       "      <th>text</th>\n",
       "      <th>label</th>\n",
       "    </tr>\n",
       "  </thead>\n",
       "  <tbody>\n",
       "    <tr>\n",
       "      <th>5</th>\n",
       "      <td>And of those few months, how long have you bee...</td>\n",
       "      <td>0.0</td>\n",
       "    </tr>\n",
       "    <tr>\n",
       "      <th>14</th>\n",
       "      <td>Let the dead man talk. So, why do you think that?</td>\n",
       "      <td>0.0</td>\n",
       "    </tr>\n",
       "    <tr>\n",
       "      <th>18</th>\n",
       "      <td>What else? Sell it on eBay as \"slightly used.\"</td>\n",
       "      <td>0.0</td>\n",
       "    </tr>\n",
       "    <tr>\n",
       "      <th>24</th>\n",
       "      <td>Good idea, sit with her. Hold her, comfort her...</td>\n",
       "      <td>1.0</td>\n",
       "    </tr>\n",
       "    <tr>\n",
       "      <th>31</th>\n",
       "      <td>Well, now that I've given up string theory, I'...</td>\n",
       "      <td>0.0</td>\n",
       "    </tr>\n",
       "  </tbody>\n",
       "</table>\n",
       "</div>"
      ],
      "text/plain": [
       "                                                 text  label\n",
       "5   And of those few months, how long have you bee...    0.0\n",
       "14  Let the dead man talk. So, why do you think that?    0.0\n",
       "18     What else? Sell it on eBay as \"slightly used.\"    0.0\n",
       "24  Good idea, sit with her. Hold her, comfort her...    1.0\n",
       "31  Well, now that I've given up string theory, I'...    0.0"
      ]
     },
     "execution_count": 57,
     "metadata": {},
     "output_type": "execute_result"
    }
   ],
   "source": [
    "data_sitcoms = pd.read_csv(\"mustard++_text.csv\")\n",
    "\n",
    "# Adjust sitcom data\n",
    "data_sitcoms = data_sitcoms.drop(columns=['SCENE','KEY','END_TIME','SPEAKER','SHOW','Sarcasm_Type','Implicit_Emotion','Explicit_Emotion','Valence','Arousal'], axis=1)\n",
    "data_sitcoms = data_sitcoms.rename(columns={'SENTENCE':'text','Sarcasm':'label'})\n",
    "\n",
    "# remove empty label rows\n",
    "for index, row in data_sitcoms.iterrows():\n",
    "    if math.isnan(row['label']):\n",
    "        data_sitcoms = data_sitcoms.drop(index, axis='index')\n",
    "\n",
    "data_sitcoms.head()"
   ]
  },
  {
   "cell_type": "code",
   "execution_count": 58,
   "metadata": {},
   "outputs": [
    {
     "name": "stdout",
     "output_type": "stream",
     "text": [
      "<class 'pandas.core.frame.DataFrame'>\n",
      "RangeIndex: 1202 entries, 0 to 1201\n",
      "Data columns (total 2 columns):\n",
      " #   Column  Non-Null Count  Dtype  \n",
      "---  ------  --------------  -----  \n",
      " 0   text    1202 non-null   object \n",
      " 1   label   1202 non-null   float64\n",
      "dtypes: float64(1), object(1)\n",
      "memory usage: 18.9+ KB\n"
     ]
    }
   ],
   "source": [
    "data.info()"
   ]
  },
  {
   "cell_type": "code",
   "execution_count": 59,
   "metadata": {},
   "outputs": [],
   "source": [
    "train_sentences = data_sitcoms[\"text\"]\n",
    "##train_sentences"
   ]
  },
  {
   "cell_type": "code",
   "execution_count": 60,
   "metadata": {},
   "outputs": [],
   "source": [
    "##instantiate the tokenizer\n",
    "tokenizer = Tokenizer(num_words=100)\n",
    "\n",
    "##train the tokenizer on training sentences\n",
    "tokenizer.fit_on_texts(train_sentences)\n",
    "\n",
    "##store word index for the words in the sentence\n",
    "word_index = tokenizer.word_index\n",
    "##print(word_index)"
   ]
  },
  {
   "cell_type": "code",
   "execution_count": 61,
   "metadata": {},
   "outputs": [],
   "source": [
    "##create sequences using tokenizer\n",
    "sequences = tokenizer.texts_to_sequences(train_sentences)"
   ]
  },
  {
   "cell_type": "code",
   "execution_count": 62,
   "metadata": {},
   "outputs": [],
   "source": [
    "##print word index dictionary and sequences\n",
    "##print(f\"Word index -->{word_index}\")\n",
    "##print(f\"Sequences of words -->{sequences}\")"
   ]
  },
  {
   "cell_type": "code",
   "execution_count": 63,
   "metadata": {},
   "outputs": [],
   "source": [
    "##print sample sentence and sequence\n",
    "train_sentences = train_sentences.to_numpy()"
   ]
  },
  {
   "cell_type": "code",
   "execution_count": 64,
   "metadata": {},
   "outputs": [
    {
     "name": "stdout",
     "output_type": "stream",
     "text": [
      "No need to. As soon as she flies into California airspace, I'll feel a disturbance in the Force.\n",
      "[6, 8, 50, 24, 1, 4]\n"
     ]
    }
   ],
   "source": [
    "print(train_sentences[random.randint(0,100)])\n",
    "print(sequences[0])"
   ]
  },
  {
   "cell_type": "code",
   "execution_count": 65,
   "metadata": {},
   "outputs": [],
   "source": [
    "##set up the tokenizer again with oov_token\n",
    "tokenizer = Tokenizer(num_words=100, oov_token = \"<oov>\")\n",
    "\n",
    "##train the new tokenizer on training sentences\n",
    "tokenizer.fit_on_texts(train_sentences)\n",
    "\n",
    "##store word index for the words in the sentence\n",
    "word_index = tokenizer.word_index"
   ]
  },
  {
   "cell_type": "code",
   "execution_count": 66,
   "metadata": {},
   "outputs": [],
   "source": [
    "##pad sequences\n",
    "padded_seqs = pad_sequences(sequences)"
   ]
  },
  {
   "cell_type": "code",
   "execution_count": 67,
   "metadata": {},
   "outputs": [],
   "source": [
    "##print(word_index)\n",
    "##print(train_sentences)\n",
    "##print(sequences)\n",
    "##print(padded_seqs)"
   ]
  },
  {
   "cell_type": "code",
   "execution_count": 68,
   "metadata": {},
   "outputs": [
    {
     "name": "stdout",
     "output_type": "stream",
     "text": [
      "[[ 6  8 50 24  1]\n",
      " [ 3 29 59 27  1]\n",
      " [23  7 17 58  0]\n",
      " ...\n",
      " [31 72 89 67 42]\n",
      " [ 2  9 16  3  0]\n",
      " [ 9 42 57  0  0]]\n"
     ]
    }
   ],
   "source": [
    "##pad sequences with padding type, max length and truncating parameters\n",
    "padded_seqs = pad_sequences(sequences,\n",
    "                            padding=\"post\",\n",
    "                            maxlen=5,\n",
    "                            truncating=\"post\",\n",
    "                            )\n",
    "print(padded_seqs)"
   ]
  },
  {
   "cell_type": "code",
   "execution_count": 69,
   "metadata": {},
   "outputs": [],
   "source": [
    "##create empty list to store sentences and labels\n",
    "train_sentences = []\n",
    "test_sentences = []\n",
    "\n",
    "train_labels = []\n",
    "test_labels = []"
   ]
  },
  {
   "cell_type": "code",
   "execution_count": 70,
   "metadata": {},
   "outputs": [],
   "source": [
    "#create size variables to for training\n",
    "subset_size = len(data_sitcoms.index)\n",
    "testing_size = int(subset_size * 0.2)\n",
    "validation_size = testing_size\n",
    "shuffle_size = subset_size - validation_size"
   ]
  },
  {
   "cell_type": "code",
   "execution_count": 71,
   "metadata": {},
   "outputs": [],
   "source": [
    "data = data_sitcoms.sample(frac=1).reset_index(drop=True)\n",
    "train_data = data.head(subset_size - testing_size)\n",
    "test_data = data.tail(testing_size)"
   ]
  },
  {
   "cell_type": "code",
   "execution_count": 72,
   "metadata": {},
   "outputs": [],
   "source": [
    "for sentence in train_data['text']:\n",
    "    train_sentences.append(sentence)\n",
    "for sentence in test_data['text']:\n",
    "    test_sentences.append(sentence)"
   ]
  },
  {
   "cell_type": "code",
   "execution_count": 73,
   "metadata": {},
   "outputs": [],
   "source": [
    "for value in train_data['label']:\n",
    "    train_labels.append(value)\n",
    "for value in test_data['label']:\n",
    "    test_labels.append(value)"
   ]
  },
  {
   "cell_type": "code",
   "execution_count": 74,
   "metadata": {},
   "outputs": [],
   "source": [
    "##convert lists into numpy array\n",
    "train_labels = np.array(train_labels)\n",
    "test_labels = np.array(test_labels)"
   ]
  },
  {
   "cell_type": "code",
   "execution_count": 75,
   "metadata": {},
   "outputs": [],
   "source": [
    "##define the parameters for the tokenizing and padding\n",
    "vocab_size = 10000\n",
    "embedding_dim = 16\n",
    "max_length = 16\n",
    "trunc_type='post'\n",
    "padding_type='post'\n",
    "oov_tok = \"<OOV>\""
   ]
  },
  {
   "cell_type": "code",
   "execution_count": 76,
   "metadata": {},
   "outputs": [],
   "source": [
    "tokenizer = Tokenizer(num_words = vocab_size, oov_token=oov_tok)\n",
    "tokenizer.fit_on_texts(train_sentences)\n",
    "word_index = tokenizer.word_index\n",
    "\n",
    "##training sequences and labels\n",
    "train_seqs = tokenizer.texts_to_sequences(train_sentences)\n",
    "train_padded = pad_sequences(train_seqs,maxlen=max_length, padding=padding_type, truncating=trunc_type)\n",
    "\n",
    "##testing sequences and labels\n",
    "test_seqs = tokenizer.texts_to_sequences(test_sentences)\n",
    "test_padded = pad_sequences(test_seqs,maxlen=max_length)"
   ]
  },
  {
   "cell_type": "code",
   "execution_count": 77,
   "metadata": {},
   "outputs": [
    {
     "name": "stdout",
     "output_type": "stream",
     "text": [
      "And when I was little and my dog died, my mom sat me down and very gently told me that she wished the truck had hit my dad instead.\n",
      "[  7  69   3  15  75   7  13 266 517  13 206 829  18 113   7 134]\n",
      "and when i was little and my dog died my mom sat me down and very\n"
     ]
    }
   ],
   "source": [
    "reverse_word_index = dict([(value, key) for (key, value) in word_index.items()])\n",
    "\n",
    "def decode_review(text):\n",
    "    return ' '.join([reverse_word_index.get(i, '?') for i in text])\n",
    "\n",
    "print(train_sentences[1])\n",
    "print(train_padded[1])\n",
    "print(decode_review(train_padded[1]))"
   ]
  },
  {
   "cell_type": "markdown",
   "metadata": {},
   "source": [
    "Define the Neural Network with Embedding layer"
   ]
  },
  {
   "cell_type": "code",
   "execution_count": 78,
   "metadata": {},
   "outputs": [
    {
     "name": "stdout",
     "output_type": "stream",
     "text": [
      "Model: \"sequential_2\"\n",
      "_________________________________________________________________\n",
      " Layer (type)                Output Shape              Param #   \n",
      "=================================================================\n",
      " embedding_2 (Embedding)     (None, 16, 16)            160000    \n",
      "                                                                 \n",
      " flatten_2 (Flatten)         (None, 256)               0         \n",
      "                                                                 \n",
      " dense_4 (Dense)             (None, 6)                 1542      \n",
      "                                                                 \n",
      " dense_5 (Dense)             (None, 1)                 7         \n",
      "                                                                 \n",
      "=================================================================\n",
      "Total params: 161,549\n",
      "Trainable params: 161,549\n",
      "Non-trainable params: 0\n",
      "_________________________________________________________________\n"
     ]
    }
   ],
   "source": [
    "model = tf.keras.Sequential([\n",
    "    tf.keras.layers.Embedding(vocab_size, embedding_dim, input_length=max_length),\n",
    "    tf.keras.layers.Flatten(),\n",
    "    tf.keras.layers.Dense(6, activation='relu'),\n",
    "    tf.keras.layers.Dense(1, activation='sigmoid')\n",
    "])\n",
    "\n",
    "##compile the model with loss function, optimizer and metrics\n",
    "model.compile(loss='binary_crossentropy',optimizer='adam',metrics=['accuracy'])\n",
    "model.summary()"
   ]
  },
  {
   "cell_type": "markdown",
   "metadata": {},
   "source": [
    "Model Training"
   ]
  },
  {
   "cell_type": "code",
   "execution_count": 79,
   "metadata": {},
   "outputs": [
    {
     "name": "stdout",
     "output_type": "stream",
     "text": [
      "Epoch 1/10\n",
      "31/31 [==============================] - 1s 10ms/step - loss: 0.6927 - accuracy: 0.5405 - val_loss: 0.6918 - val_accuracy: 0.5375\n",
      "Epoch 2/10\n",
      "31/31 [==============================] - 0s 7ms/step - loss: 0.6846 - accuracy: 0.7089 - val_loss: 0.6897 - val_accuracy: 0.5375\n",
      "Epoch 3/10\n",
      "31/31 [==============================] - 0s 6ms/step - loss: 0.6691 - accuracy: 0.7516 - val_loss: 0.6882 - val_accuracy: 0.5417\n",
      "Epoch 4/10\n",
      "31/31 [==============================] - 0s 6ms/step - loss: 0.6392 - accuracy: 0.8243 - val_loss: 0.6887 - val_accuracy: 0.5375\n",
      "Epoch 5/10\n",
      "31/31 [==============================] - 0s 6ms/step - loss: 0.5836 - accuracy: 0.8742 - val_loss: 0.6929 - val_accuracy: 0.5125\n",
      "Epoch 6/10\n",
      "31/31 [==============================] - 0s 6ms/step - loss: 0.5053 - accuracy: 0.9054 - val_loss: 0.7066 - val_accuracy: 0.5208\n",
      "Epoch 7/10\n",
      "31/31 [==============================] - 0s 6ms/step - loss: 0.4109 - accuracy: 0.9293 - val_loss: 0.7287 - val_accuracy: 0.5167\n",
      "Epoch 8/10\n",
      "31/31 [==============================] - 0s 6ms/step - loss: 0.3187 - accuracy: 0.9491 - val_loss: 0.7494 - val_accuracy: 0.5083\n",
      "Epoch 9/10\n",
      "31/31 [==============================] - 0s 6ms/step - loss: 0.2389 - accuracy: 0.9699 - val_loss: 0.7847 - val_accuracy: 0.5083\n",
      "Epoch 10/10\n",
      "31/31 [==============================] - 0s 6ms/step - loss: 0.1803 - accuracy: 0.9782 - val_loss: 0.8019 - val_accuracy: 0.4958\n"
     ]
    },
    {
     "data": {
      "text/plain": [
       "<keras.callbacks.History at 0x2287c024130>"
      ]
     },
     "execution_count": 79,
     "metadata": {},
     "output_type": "execute_result"
    }
   ],
   "source": [
    "num_epochs = 10\n",
    "\n",
    "##train the model with training and validation set\n",
    "model.fit(\n",
    "    train_padded, \n",
    "    train_labels, \n",
    "    epochs=num_epochs, \n",
    "    validation_data=(test_padded, test_labels)\n",
    "    )"
   ]
  },
  {
   "cell_type": "markdown",
   "metadata": {},
   "source": [
    "Derive weights from the embedding layer"
   ]
  },
  {
   "cell_type": "code",
   "execution_count": 80,
   "metadata": {},
   "outputs": [
    {
     "name": "stdout",
     "output_type": "stream",
     "text": [
      "(10000, 16)\n",
      "[-0.01447751 -0.07139269  0.09716782 -0.10963321 -0.06819431  0.08803178\n",
      "  0.03952713  0.17094028  0.17576338 -0.09175452  0.11301392 -0.07946059\n",
      "  0.0138609  -0.05985145 -0.05317088 -0.12996913]\n"
     ]
    }
   ],
   "source": [
    "##isolating the first embedding layer\n",
    "l1 = model.layers[0]\n",
    "\n",
    "##extracting learned weights\n",
    "weights = l1.get_weights()[0]\n",
    "print(weights.shape) # shape: (vocab_size, embedding_dim)\n",
    "print(weights[0])"
   ]
  },
  {
   "cell_type": "markdown",
   "metadata": {},
   "source": [
    "Download the vectors and metadata"
   ]
  },
  {
   "cell_type": "code",
   "execution_count": 81,
   "metadata": {},
   "outputs": [],
   "source": [
    "##import I/O module in python\n",
    "import io\n",
    "\n",
    "##open the text stream for vectors\n",
    "vectors = io.open('vectors.tsv', 'w', encoding='utf-8')\n",
    "\n",
    "##open the text stream for metadata\n",
    "meta = io.open('meta.tsv', 'w', encoding='utf-8')\n",
    "\n",
    "##write each word and its corresponding embedding\n",
    "for index in range(len(reverse_word_index)):\n",
    "  word = reverse_word_index.get(index)  # flipping the key-value in word_index\n",
    "  embeddings = weights[index]\n",
    "  if word is None:\n",
    "    break\n",
    "  else:\n",
    "    meta.write(word + \"\\n\")\n",
    "    vectors.write('\\t'.join([str(x) for x in embeddings]) + \"\\n\")\n",
    "\n",
    "##close the stream\n",
    "vectors.close()\n",
    "meta.close()"
   ]
  },
  {
   "cell_type": "code",
   "execution_count": 82,
   "metadata": {},
   "outputs": [],
   "source": [
    "##download the written files to your local machine\n",
    "try:\n",
    "  from google.colab import files\n",
    "except ImportError:\n",
    "  pass\n",
    "else:\n",
    "  files.download('vectors.tsv')\n",
    "  files.download('meta.tsv')"
   ]
  },
  {
   "cell_type": "code",
   "execution_count": 83,
   "metadata": {},
   "outputs": [],
   "source": [
    "##define tokenizing and padding parameters\n",
    "vocab_size = 10000\n",
    "max_length = 120\n",
    "embedding_dim = 16\n",
    "trunc_type='post'\n",
    "padding_type='post'\n",
    "oov_tok = \"<OOV>\"\n",
    "training_size = 700"
   ]
  },
  {
   "cell_type": "code",
   "execution_count": 84,
   "metadata": {},
   "outputs": [],
   "source": [
    "##store headlines and labels in respective lists\n",
    "sentences = list(data['text'])\n",
    "labels = list(data['label'])"
   ]
  },
  {
   "cell_type": "code",
   "execution_count": 86,
   "metadata": {},
   "outputs": [],
   "source": [
    "##sentences\n",
    "training_sentences = sentences[0:training_size]\n",
    "testing_sentences = sentences[training_size:]\n",
    "\n",
    "##labels\n",
    "training_labels = labels[0:training_size]\n",
    "testing_labels = labels[training_size:]"
   ]
  },
  {
   "cell_type": "code",
   "execution_count": 87,
   "metadata": {},
   "outputs": [],
   "source": [
    "tokenizer = Tokenizer(num_words=vocab_size, oov_token=oov_tok)\n",
    "tokenizer.fit_on_texts(training_sentences)\n",
    "\n",
    "word_index = tokenizer.word_index\n",
    "\n",
    "training_sequences = tokenizer.texts_to_sequences(training_sentences)\n",
    "training_padded = pad_sequences(training_sequences, maxlen=max_length, padding=padding_type, truncating=trunc_type)\n",
    "\n",
    "testing_sequences = tokenizer.texts_to_sequences(testing_sentences)\n",
    "testing_padded = pad_sequences(testing_sequences, maxlen=max_length, padding=padding_type, truncating=trunc_type)"
   ]
  },
  {
   "cell_type": "code",
   "execution_count": 88,
   "metadata": {},
   "outputs": [],
   "source": [
    "# convert lists into numpy arrays to make it work with TensorFlow 2.x\n",
    "training_padded = np.array(training_padded)\n",
    "training_labels = np.array(training_labels)\n",
    "testing_padded = np.array(testing_padded)\n",
    "testing_labels = np.array(testing_labels)"
   ]
  },
  {
   "cell_type": "code",
   "execution_count": 90,
   "metadata": {},
   "outputs": [
    {
     "name": "stdout",
     "output_type": "stream",
     "text": [
      "Model: \"sequential_4\"\n",
      "_________________________________________________________________\n",
      " Layer (type)                Output Shape              Param #   \n",
      "=================================================================\n",
      " embedding_4 (Embedding)     (None, 120, 16)           160000    \n",
      "                                                                 \n",
      " global_average_pooling1d_1   (None, 16)               0         \n",
      " (GlobalAveragePooling1D)                                        \n",
      "                                                                 \n",
      " dense_8 (Dense)             (None, 24)                408       \n",
      "                                                                 \n",
      " dense_9 (Dense)             (None, 1)                 25        \n",
      "                                                                 \n",
      "=================================================================\n",
      "Total params: 160,433\n",
      "Trainable params: 160,433\n",
      "Non-trainable params: 0\n",
      "_________________________________________________________________\n"
     ]
    }
   ],
   "source": [
    "model = tf.keras.Sequential([\n",
    "    tf.keras.layers.Embedding(vocab_size, embedding_dim, input_length=max_length),\n",
    "    tf.keras.layers.GlobalAveragePooling1D(),\n",
    "    tf.keras.layers.Dense(24, activation='relu'),\n",
    "    tf.keras.layers.Dense(1, activation='sigmoid')\n",
    "])\n",
    "\n",
    "##compile the model\n",
    "model.compile(loss='binary_crossentropy',optimizer='adam',metrics=['accuracy'])\n",
    "model.summary()"
   ]
  },
  {
   "cell_type": "code",
   "execution_count": 91,
   "metadata": {},
   "outputs": [
    {
     "name": "stdout",
     "output_type": "stream",
     "text": [
      "Epoch 1/30\n",
      "22/22 - 1s - loss: 0.6932 - accuracy: 0.5143 - val_loss: 0.6940 - val_accuracy: 0.4761 - 688ms/epoch - 31ms/step\n",
      "Epoch 2/30\n",
      "22/22 - 0s - loss: 0.6927 - accuracy: 0.5171 - val_loss: 0.6948 - val_accuracy: 0.4761 - 173ms/epoch - 8ms/step\n",
      "Epoch 3/30\n",
      "22/22 - 0s - loss: 0.6924 - accuracy: 0.5171 - val_loss: 0.6943 - val_accuracy: 0.4761 - 167ms/epoch - 8ms/step\n",
      "Epoch 4/30\n",
      "22/22 - 0s - loss: 0.6920 - accuracy: 0.5171 - val_loss: 0.6954 - val_accuracy: 0.4761 - 156ms/epoch - 7ms/step\n",
      "Epoch 5/30\n",
      "22/22 - 0s - loss: 0.6915 - accuracy: 0.5171 - val_loss: 0.6949 - val_accuracy: 0.4761 - 149ms/epoch - 7ms/step\n",
      "Epoch 6/30\n",
      "22/22 - 0s - loss: 0.6909 - accuracy: 0.5171 - val_loss: 0.6952 - val_accuracy: 0.4761 - 150ms/epoch - 7ms/step\n",
      "Epoch 7/30\n",
      "22/22 - 0s - loss: 0.6902 - accuracy: 0.5171 - val_loss: 0.6943 - val_accuracy: 0.4761 - 146ms/epoch - 7ms/step\n",
      "Epoch 8/30\n",
      "22/22 - 0s - loss: 0.6893 - accuracy: 0.5186 - val_loss: 0.6940 - val_accuracy: 0.4761 - 139ms/epoch - 6ms/step\n",
      "Epoch 9/30\n",
      "22/22 - 0s - loss: 0.6876 - accuracy: 0.5171 - val_loss: 0.6949 - val_accuracy: 0.4761 - 148ms/epoch - 7ms/step\n",
      "Epoch 10/30\n",
      "22/22 - 0s - loss: 0.6857 - accuracy: 0.5186 - val_loss: 0.6943 - val_accuracy: 0.4761 - 144ms/epoch - 7ms/step\n",
      "Epoch 11/30\n",
      "22/22 - 0s - loss: 0.6829 - accuracy: 0.5200 - val_loss: 0.6935 - val_accuracy: 0.4761 - 142ms/epoch - 6ms/step\n",
      "Epoch 12/30\n",
      "22/22 - 0s - loss: 0.6796 - accuracy: 0.5986 - val_loss: 0.6918 - val_accuracy: 0.5339 - 147ms/epoch - 7ms/step\n",
      "Epoch 13/30\n",
      "22/22 - 0s - loss: 0.6749 - accuracy: 0.7329 - val_loss: 0.6914 - val_accuracy: 0.5398 - 181ms/epoch - 8ms/step\n",
      "Epoch 14/30\n",
      "22/22 - 0s - loss: 0.6686 - accuracy: 0.6957 - val_loss: 0.6901 - val_accuracy: 0.5538 - 145ms/epoch - 7ms/step\n",
      "Epoch 15/30\n",
      "22/22 - 0s - loss: 0.6597 - accuracy: 0.8686 - val_loss: 0.6911 - val_accuracy: 0.5020 - 149ms/epoch - 7ms/step\n",
      "Epoch 16/30\n",
      "22/22 - 0s - loss: 0.6493 - accuracy: 0.8200 - val_loss: 0.6887 - val_accuracy: 0.5398 - 158ms/epoch - 7ms/step\n",
      "Epoch 17/30\n",
      "22/22 - 0s - loss: 0.6366 - accuracy: 0.8400 - val_loss: 0.6897 - val_accuracy: 0.5279 - 149ms/epoch - 7ms/step\n",
      "Epoch 18/30\n",
      "22/22 - 0s - loss: 0.6211 - accuracy: 0.7900 - val_loss: 0.6832 - val_accuracy: 0.5657 - 150ms/epoch - 7ms/step\n",
      "Epoch 19/30\n",
      "22/22 - 0s - loss: 0.6052 - accuracy: 0.8429 - val_loss: 0.6823 - val_accuracy: 0.5737 - 157ms/epoch - 7ms/step\n",
      "Epoch 20/30\n",
      "22/22 - 0s - loss: 0.5844 - accuracy: 0.8486 - val_loss: 0.6824 - val_accuracy: 0.5418 - 161ms/epoch - 7ms/step\n",
      "Epoch 21/30\n",
      "22/22 - 0s - loss: 0.5618 - accuracy: 0.8386 - val_loss: 0.6984 - val_accuracy: 0.5060 - 152ms/epoch - 7ms/step\n",
      "Epoch 22/30\n",
      "22/22 - 0s - loss: 0.5415 - accuracy: 0.8614 - val_loss: 0.6792 - val_accuracy: 0.5717 - 153ms/epoch - 7ms/step\n",
      "Epoch 23/30\n",
      "22/22 - 0s - loss: 0.5224 - accuracy: 0.8571 - val_loss: 0.6803 - val_accuracy: 0.5538 - 155ms/epoch - 7ms/step\n",
      "Epoch 24/30\n",
      "22/22 - 0s - loss: 0.4927 - accuracy: 0.8971 - val_loss: 0.6798 - val_accuracy: 0.5817 - 154ms/epoch - 7ms/step\n",
      "Epoch 25/30\n",
      "22/22 - 0s - loss: 0.4730 - accuracy: 0.8786 - val_loss: 0.6811 - val_accuracy: 0.5558 - 155ms/epoch - 7ms/step\n",
      "Epoch 26/30\n",
      "22/22 - 0s - loss: 0.4504 - accuracy: 0.8929 - val_loss: 0.6859 - val_accuracy: 0.5538 - 175ms/epoch - 8ms/step\n",
      "Epoch 27/30\n",
      "22/22 - 0s - loss: 0.4244 - accuracy: 0.9214 - val_loss: 0.6854 - val_accuracy: 0.5618 - 148ms/epoch - 7ms/step\n",
      "Epoch 28/30\n",
      "22/22 - 0s - loss: 0.4075 - accuracy: 0.9086 - val_loss: 0.6956 - val_accuracy: 0.5598 - 143ms/epoch - 6ms/step\n",
      "Epoch 29/30\n",
      "22/22 - 0s - loss: 0.3846 - accuracy: 0.9257 - val_loss: 0.6934 - val_accuracy: 0.5598 - 146ms/epoch - 7ms/step\n",
      "Epoch 30/30\n",
      "22/22 - 0s - loss: 0.3638 - accuracy: 0.9300 - val_loss: 0.6993 - val_accuracy: 0.5558 - 154ms/epoch - 7ms/step\n"
     ]
    }
   ],
   "source": [
    "num_epochs = 30\n",
    "history = model.fit(training_padded, \n",
    "                    training_labels, \n",
    "                    epochs=num_epochs, \n",
    "                    validation_data=(testing_padded, testing_labels), \n",
    "                    verbose=2)"
   ]
  },
  {
   "cell_type": "code",
   "execution_count": 92,
   "metadata": {},
   "outputs": [
    {
     "data": {
      "image/png": "[encoded data removed]",
      "text/plain": [
       "<Figure size 432x288 with 1 Axes>"
      ]
     },
     "metadata": {
      "needs_background": "light"
     },
     "output_type": "display_data"
    },
    {
     "data": {
      "image/png": "[encoded data removed]",
      "text/plain": [
       "<Figure size 432x288 with 1 Axes>"
      ]
     },
     "metadata": {
      "needs_background": "light"
     },
     "output_type": "display_data"
    }
   ],
   "source": [
    "import matplotlib.pyplot as plt\n",
    "\n",
    "##plot the scores from history\n",
    "def plot_graphs(history, string):\n",
    "  plt.plot(history.history[string])\n",
    "  plt.plot(history.history['val_'+string])\n",
    "  plt.legend([string, 'val_'+string])\n",
    "  plt.xlabel(\"Epochs\")\n",
    "  plt.ylabel(string)\n",
    "  plt.show()\n",
    "  \n",
    "plot_graphs(history, \"accuracy\")\n",
    "plot_graphs(history, \"loss\")"
   ]
  }
 ],
 "metadata": {
  "kernelspec": {
   "display_name": "Python 3.9.12 ('base')",
   "language": "python",
   "name": "python3"
  },
  "language_info": {
   "codemirror_mode": {
    "name": "ipython",
    "version": 3
   },
   "file_extension": ".py",
   "mimetype": "text/x-python",
   "name": "python",
   "nbconvert_exporter": "python",
   "pygments_lexer": "ipython3",
   "version": "3.9.12"
  },
  "orig_nbformat": 4,
  "vscode": {
   "interpreter": {
    "hash": "973f5eba515c9280adeb48d0319eaa325c550e9198ccddc2233ccc454a0b33de"
   }
  }
 },
 "nbformat": 4,
 "nbformat_minor": 2
}
